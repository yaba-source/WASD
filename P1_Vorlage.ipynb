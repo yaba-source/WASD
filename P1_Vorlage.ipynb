{
 "cells": [
  {
   "cell_type": "markdown",
   "id": "e4d6a28b",
   "metadata": {},
   "source": [
    "# P1 Vorlage: Einstieg in Python und Jupyter Notebooks"
   ]
  },
  {
   "cell_type": "markdown",
   "id": "7ad86328",
   "metadata": {},
   "source": [
    "In diesem ersten Praktikumsversuch sollen Sie die Grundlagen der Programmiersprache Python und von Jupyter Notebooks kennenlernen. \n",
    "\n",
    "Jupyter Notebooks stellen eine webbasierte Entwicklungsumgebung für Python dar. Ein Jupyter Notebook ist aus Zellen aufgebaut. Sie können eine Zelle in den Bearbeitungsmodus schalten, indem Sie diese doppelklicken. Die Bearbeitung einer Zelle können Sie durch die Tastenkombination \"Strg+Enter\" beenden.\n",
    "\n",
    "Zellen können sowohl reinen Text (sog. Markdown-Zelle, wie diese hier) oder auch ausführbaren Code beinhalten (Code-Zelle). Die Wahl (Code oder Markdown) können Sie oben im Dropdown-Menü der Werkzeugleiste treffen.\n",
    "\n",
    "Detailliertere Informationen zum Umgang mit Jupyter Notebooks finden Sie im Dokument Jupyter_Notebook_Kurzanleitung.pdf."
   ]
  },
  {
   "cell_type": "markdown",
   "id": "a61041b0",
   "metadata": {},
   "source": [
    "## Übungsaufgaben"
   ]
  },
  {
   "cell_type": "markdown",
   "id": "a2bd134c",
   "metadata": {},
   "source": [
    "### Vektoren"
   ]
  },
  {
   "cell_type": "markdown",
   "id": "057126f1",
   "metadata": {},
   "source": [
    "Geben Sie den Vektor (1, 2, 3, ..., 15) als np-Array mit dem Variablennamen \"v1\" in Python ein. "
   ]
  },
  {
   "cell_type": "code",
   "execution_count": 4,
   "id": "4e35437f",
   "metadata": {},
   "outputs": [
    {
     "name": "stdout",
     "output_type": "stream",
     "text": [
      "[ 1  2  3  4  5  6  7  8  9 10 11 12 13 14 15]\n"
     ]
    }
   ],
   "source": [
    "import numpy as np\n",
    "\n",
    "v1 = np.array([1,2,3,4,5,6,7,8,9,10,11,12,13,14,15])\n",
    "print(v1)\n"
   ]
  },
  {
   "cell_type": "markdown",
   "id": "6ecbf0ec",
   "metadata": {},
   "source": [
    "Stellen Sie v1 rückwärts dar."
   ]
  },
  {
   "cell_type": "code",
   "execution_count": 12,
   "id": "de0c2e5a",
   "metadata": {},
   "outputs": [
    {
     "name": "stdout",
     "output_type": "stream",
     "text": [
      "[ 15.    14.    13.    12.    11.    10.     9.     8.     7.     6.\n",
      "   5.   -12.   -12.33   2.     1.  ]\n"
     ]
    }
   ],
   "source": [
    "v1b=np.flip(v1)\n",
    "print(v1b)\n"
   ]
  },
  {
   "cell_type": "markdown",
   "id": "d0c24277",
   "metadata": {},
   "source": [
    "Überschreiben Sie in v1 den dritten Wert mit der Zahl -12,33."
   ]
  },
  {
   "cell_type": "code",
   "execution_count": 13,
   "id": "94b6fb09",
   "metadata": {},
   "outputs": [
    {
     "name": "stdout",
     "output_type": "stream",
     "text": [
      "[  1.     2.   -12.33 -12.     5.     6.     7.     8.     9.    10.\n",
      "  11.    12.    13.    14.    15.  ]\n"
     ]
    }
   ],
   "source": [
    "v1 = v1.astype(float)\n",
    "v1[2] = -12.33\n",
    "print(v1)"
   ]
  },
  {
   "cell_type": "code",
   "execution_count": null,
   "id": "e2efcbf0",
   "metadata": {},
   "outputs": [],
   "source": []
  },
  {
   "cell_type": "markdown",
   "id": "406c8aef",
   "metadata": {},
   "source": [
    "Überschreiben Sie das vorletzte Element in v1 mit der Zahl 99."
   ]
  },
  {
   "cell_type": "code",
   "execution_count": 14,
   "id": "56e0a9ba",
   "metadata": {},
   "outputs": [
    {
     "name": "stdout",
     "output_type": "stream",
     "text": [
      "[  1.     2.   -12.33 -12.     5.     6.     7.     8.     9.    10.\n",
      "  11.    12.    13.    99.    15.  ]\n"
     ]
    }
   ],
   "source": [
    "v1[13]=99\n",
    "print (v1)\n"
   ]
  },
  {
   "cell_type": "markdown",
   "id": "111503fd",
   "metadata": {},
   "source": [
    "Welchen Datentyp hat v1?"
   ]
  },
  {
   "cell_type": "code",
   "execution_count": null,
   "id": "54ebf341",
   "metadata": {},
   "outputs": [],
   "source": [
    "jetzt float"
   ]
  },
  {
   "cell_type": "markdown",
   "id": "9063dfb6",
   "metadata": {},
   "source": [
    "Welchen Datentyp hat das vierte Element von v1?"
   ]
  },
  {
   "cell_type": "code",
   "execution_count": null,
   "id": "a610d362",
   "metadata": {},
   "outputs": [],
   "source": [
    "bei v1 int "
   ]
  },
  {
   "cell_type": "markdown",
   "id": "43b16e9f",
   "metadata": {},
   "source": [
    "Finden Sie heraus, wie Sie ein neues Element mit dem Wert 2,5 am Ende des Vektors v1 einfügen können. "
   ]
  },
  {
   "cell_type": "code",
   "execution_count": 16,
   "id": "d8960399",
   "metadata": {},
   "outputs": [
    {
     "name": "stdout",
     "output_type": "stream",
     "text": [
      "[  1.     2.   -12.33 -12.     5.     6.     7.     8.     9.    10.\n",
      "  11.    12.    13.    99.    15.     2.5 ]\n"
     ]
    }
   ],
   "source": [
    "v1=np.append(v1,2.5)\n",
    "print (v1)"
   ]
  },
  {
   "cell_type": "markdown",
   "id": "f8fa02f8",
   "metadata": {},
   "source": [
    "Finden Sie heraus, wie sich das dritte bis fünfte Element des Vektors v1 löschen lässt. "
   ]
  },
  {
   "cell_type": "code",
   "execution_count": 20,
   "id": "33c33a27",
   "metadata": {},
   "outputs": [
    {
     "name": "stdout",
     "output_type": "stream",
     "text": [
      "[  1.     2.   -12.33   7.     9.    10.    11.    12.    13.    99.\n",
      "  15.     2.5 ]\n"
     ]
    }
   ],
   "source": [
    "v1=np.delete(v1,np.s_[3,5])\n",
    "print(v1)"
   ]
  },
  {
   "cell_type": "markdown",
   "id": "4c205cad",
   "metadata": {},
   "source": [
    "Wieviele Elemente besitzt v1?"
   ]
  },
  {
   "cell_type": "code",
   "execution_count": 19,
   "id": "f45ef617",
   "metadata": {},
   "outputs": [
    {
     "name": "stdout",
     "output_type": "stream",
     "text": [
      "14\n"
     ]
    }
   ],
   "source": [
    "x=np.count_nonzero(v1)\n",
    "print(x)"
   ]
  },
  {
   "cell_type": "markdown",
   "id": "d514b9fc",
   "metadata": {},
   "source": [
    "### Komplexe Zahlen"
   ]
  },
  {
   "cell_type": "markdown",
   "id": "59561c65",
   "metadata": {},
   "source": [
    "Finden Sie heraus, wie sich die komplexe Zahl z = 3,5-7j in Python eingeben lässt."
   ]
  },
  {
   "cell_type": "code",
   "execution_count": 21,
   "id": "70f75130",
   "metadata": {},
   "outputs": [
    {
     "name": "stdout",
     "output_type": "stream",
     "text": [
      "(3.5-7j)\n"
     ]
    }
   ],
   "source": [
    "z=3.5-7j\n",
    "print(z)"
   ]
  },
  {
   "cell_type": "markdown",
   "id": "40eb5a0c",
   "metadata": {},
   "source": [
    "Welchen Datentyp hat die Variable z?"
   ]
  },
  {
   "cell_type": "code",
   "execution_count": null,
   "id": "3a5f2415",
   "metadata": {},
   "outputs": [],
   "source": []
  },
  {
   "cell_type": "markdown",
   "id": "984005fb",
   "metadata": {},
   "source": [
    "### Matrizen"
   ]
  },
  {
   "cell_type": "markdown",
   "id": "7feee18c",
   "metadata": {},
   "source": [
    "Erzeugen Sie (möglichst elegant) eine 4x4-Matrix mit lauter Nullen und den Zahlen (1, 2, 3, 4) in der Hauptdiagonalen."
   ]
  },
  {
   "cell_type": "code",
   "execution_count": null,
   "id": "f2401e9f",
   "metadata": {},
   "outputs": [],
   "source": []
  },
  {
   "cell_type": "markdown",
   "id": "c90387b6",
   "metadata": {},
   "source": [
    "Ändern Sie das Element in Spalte 3 und Zeile 2 auf den Wert 7."
   ]
  },
  {
   "cell_type": "code",
   "execution_count": null,
   "id": "b2b10900",
   "metadata": {},
   "outputs": [],
   "source": []
  }
 ],
 "metadata": {
  "kernelspec": {
   "display_name": "Python 3",
   "language": "python",
   "name": "python3"
  },
  "language_info": {
   "codemirror_mode": {
    "name": "ipython",
    "version": 3
   },
   "file_extension": ".py",
   "mimetype": "text/x-python",
   "name": "python",
   "nbconvert_exporter": "python",
   "pygments_lexer": "ipython3",
   "version": "3.12.1"
  }
 },
 "nbformat": 4,
 "nbformat_minor": 5
}
