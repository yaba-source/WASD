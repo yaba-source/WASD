{
 "cells": [
  {
   "cell_type": "markdown",
   "id": "e4d6a28b",
   "metadata": {},
   "source": [
    "# P8 Vorlage: Klassische Regressionsanalye"
   ]
  },
  {
   "cell_type": "markdown",
   "id": "7ad86328",
   "metadata": {},
   "source": [
    "Dieser Versuch beschäftigt sich mit der klassischen Regressionsanalyse. \n",
    "\n",
    "Zunächst werden die benötigten Bibliotheken geladen und ein beispielhafter Datensatz erzeugt."
   ]
  },
  {
   "cell_type": "code",
   "execution_count": 1,
   "id": "183a44d8",
   "metadata": {},
   "outputs": [],
   "source": [
    "import numpy as np\n",
    "import scipy.stats as st\n",
    "import matplotlib.pyplot as plt"
   ]
  },
  {
   "cell_type": "markdown",
   "id": "5f49ad1a",
   "metadata": {},
   "source": [
    "## Lineare Regressionsanalyse"
   ]
  },
  {
   "cell_type": "markdown",
   "id": "e8b3266e",
   "metadata": {},
   "source": [
    "Der Einfachheit halber soll hier ein künstlich erzeugter Datensatz zum Einsatz kommen:"
   ]
  },
  {
   "cell_type": "code",
   "execution_count": 2,
   "id": "1b9e6ceb",
   "metadata": {},
   "outputs": [],
   "source": [
    "# Anlegen eines beispielhaften Datensatzes (unabhängige Variable x und abhängige Variable y = f(x)):\n",
    "x = 3.2*np.random.randn(100)-4.5\n",
    "y = -x*2.5 + 3*np.random.randn(x.size)"
   ]
  },
  {
   "cell_type": "markdown",
   "id": "8a750ea6",
   "metadata": {},
   "source": [
    "Zwischen den oben definierten Vektoren x und y = f(x) wird ein linearer Zusammenhang\n",
    "vermutet. Ermitteln Sie daher die Regressionsgerade\n",
    "- indem Sie eine entsprechende Funktion verwenden.\n",
    "- indem Sie die Formeln zur Berechnung der Koeffizienten einer Regressionsgeraden\n",
    "in Python implementieren."
   ]
  },
  {
   "cell_type": "code",
   "execution_count": null,
   "id": "47094e3a",
   "metadata": {},
   "outputs": [],
   "source": []
  },
  {
   "cell_type": "markdown",
   "id": "489d6595",
   "metadata": {},
   "source": [
    "Stellen Sie die ermittelten Regressionsgeraden zusammen mit den Daten in x und y in\n",
    "einem Diagramm dar und interpretieren Sie das Ergebnis."
   ]
  },
  {
   "cell_type": "code",
   "execution_count": null,
   "id": "ce8d5f2b",
   "metadata": {},
   "outputs": [],
   "source": []
  },
  {
   "cell_type": "markdown",
   "id": "54827535",
   "metadata": {},
   "source": [
    "Ermitteln Sie das Bestimmtheitsmaß der Regression und interpretieren Sie dessen Wert."
   ]
  },
  {
   "cell_type": "code",
   "execution_count": null,
   "id": "22819cf0",
   "metadata": {},
   "outputs": [],
   "source": []
  },
  {
   "cell_type": "markdown",
   "id": "0002a983",
   "metadata": {},
   "source": [
    "## Polynomische Regressionsanalyse"
   ]
  },
  {
   "cell_type": "markdown",
   "id": "8eed8cbe",
   "metadata": {},
   "source": [
    "Nun werden die beiden Vektoren x und y wie folgt geändert: "
   ]
  },
  {
   "cell_type": "code",
   "execution_count": 7,
   "id": "cfa3aed6",
   "metadata": {},
   "outputs": [],
   "source": [
    "x = np.linspace(0, 1, 21)\n",
    "y = 2*x**2 - 1.2*x + 1 + 0.15*np.random.randn(21)"
   ]
  },
  {
   "cell_type": "markdown",
   "id": "da3af9cf",
   "metadata": {},
   "source": [
    "Was für einen Zusammenhang zwischen x und y vermuten Sie nun? Überprüfen Sie\n",
    "Ihre Vermutung indem Sie eine entsprechende Regressionsanalyse durchführen und die\n",
    "Ergebnisse in einem Diagramm darstellen."
   ]
  },
  {
   "cell_type": "code",
   "execution_count": null,
   "id": "2ecfbe34",
   "metadata": {},
   "outputs": [],
   "source": []
  },
  {
   "cell_type": "markdown",
   "id": "c9fb0810",
   "metadata": {},
   "source": [
    "Ändern Sie nun die Vektoren x und y wie folgt:"
   ]
  },
  {
   "cell_type": "code",
   "execution_count": 11,
   "id": "d56b9477",
   "metadata": {},
   "outputs": [],
   "source": [
    "x = np.linspace(0, 1, 21)\n",
    "y = -2.1*x**3 + 2.9*x**2 - 1.2*x - 1.5 + 0.03*np.random.randn(21)"
   ]
  },
  {
   "cell_type": "markdown",
   "id": "a9da7de7",
   "metadata": {},
   "source": [
    "Was für einen Zusammenhang zwischen x und y vermuten Sie nun? Überprüfen Sie\n",
    "Ihre Vermutung indem Sie eine entsprechende Regressionsanalyse durchführen und die\n",
    "Ergebnisse in einem Diagramm darstellen."
   ]
  },
  {
   "cell_type": "code",
   "execution_count": null,
   "id": "36f3aed4",
   "metadata": {},
   "outputs": [],
   "source": []
  },
  {
   "cell_type": "markdown",
   "id": "b4986f80",
   "metadata": {},
   "source": [
    "## Optionale Zusatzaufgabe: Multivariate lineare Regressionsanalyse"
   ]
  },
  {
   "cell_type": "markdown",
   "id": "d46f101c",
   "metadata": {},
   "source": [
    "Es liegen die Daten x1, x2 und y einer Stichprobe des Umfangs n = 100 vor, wobei\n",
    "vermutet wird, dass y linear von x1 und x2 abhängt:"
   ]
  },
  {
   "cell_type": "code",
   "execution_count": 14,
   "id": "02fd9c5f",
   "metadata": {},
   "outputs": [],
   "source": [
    "n = 100                             # Stichprobenumfang\n",
    "x1 = -2*np.random.rand(n)           # Erster Zufallsvektor\n",
    "x2 = 5.5*np.random.rand(n)-1.8      # Zweiter Zufallsvektor\n",
    "y = 12.5 + 2*x1 - 3*x2 + 300*np.random.rand(n)"
   ]
  },
  {
   "cell_type": "markdown",
   "id": "95ae649c",
   "metadata": {},
   "source": [
    "Führen Sie eine multivariate lineare Regressionsanalyse durch, stellen Sie die Ergebnisse\n",
    "in einem 3D-Diagramm dar und interpretieren Sie diese."
   ]
  },
  {
   "cell_type": "code",
   "execution_count": null,
   "id": "29dcf58a",
   "metadata": {},
   "outputs": [],
   "source": []
  }
 ],
 "metadata": {
  "kernelspec": {
   "display_name": "Python 3 (ipykernel)",
   "language": "python",
   "name": "python3"
  },
  "language_info": {
   "codemirror_mode": {
    "name": "ipython",
    "version": 3
   },
   "file_extension": ".py",
   "mimetype": "text/x-python",
   "name": "python",
   "nbconvert_exporter": "python",
   "pygments_lexer": "ipython3",
   "version": "3.8.8"
  }
 },
 "nbformat": 4,
 "nbformat_minor": 5
}
