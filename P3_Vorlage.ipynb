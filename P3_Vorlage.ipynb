{
 "cells": [
  {
   "cell_type": "markdown",
   "id": "57f4408b",
   "metadata": {},
   "source": [
    "# P3 Vorlage: Grafische Darstellungsformen"
   ]
  },
  {
   "cell_type": "markdown",
   "id": "6bd11580",
   "metadata": {},
   "source": [
    "Dieser Praktikumsversuch dreht sich um die grafische Darstellung von Daten. "
   ]
  },
  {
   "cell_type": "markdown",
   "id": "d48cfa60",
   "metadata": {},
   "source": [
    "Wir wollen zunächst wieder vom selben Datenbestand wie im letzten Praktikumsversuch ausgehen (Alter und Jahreseinkommen einer befragten Personengruppe). Die Erzeugung der Daten erfolgt daher auch identisch:"
   ]
  },
  {
   "cell_type": "code",
   "execution_count": 1,
   "id": "8643c132",
   "metadata": {},
   "outputs": [],
   "source": [
    "# Daten generieren:\n",
    "import numpy as np\n",
    "np.random.seed(1)                      # Random-Seed angeben (für reproduzierbare Zufallszahlen)          \n",
    "age = np.random.randint(18,67,100)                                  # Zufallsvektor: Representiert das Alter von 100 befragten Personen\n",
    "income = abs(np.round(age*1200 + 17000*np.random.randn(100) + 1000))  # Zufallsvektor: Representiert das Jahresgehalt von 100 befragten Personen"
   ]
  },
  {
   "cell_type": "markdown",
   "id": "d273f4ed",
   "metadata": {},
   "source": [
    "Im letzten Versuch wurde bereits unter Verwendung des Korrelationskoeffizienten bestätigt, dass zwischen Alter und Jahreseinkommen ein statistischer Zusammenhang besteht. Die Verteilung der Daten soll nun auch grafisch visualisiert werden. Tragen Sie hierzu das Jahreseinkommen als Funktion des Alters in einem Streudiagramm auf. Vergessen Sie nicht, die hierfür benötigte Bibliothek zu importieren. \n",
    "\n",
    "Versuchen Sie auch das durchschnittliche Jahreseinkommen als horizontale Linie (in anderer Farbe) mit im Diagramm darzustellen. \n",
    "\n",
    "<u>Tipp:</u> Sie können sich an folgendem Pseudocode orientieren: plt.plot(  [Minimalwert_Alter, Maximalwert_Alter], [Durchschnittseinkommen, Durchschnittseinkommen], color=\"red\")\n",
    "\n",
    "Beschriften Sie die Achsen entsprechend und fügen Sie eine Legende ins Diagramm ein."
   ]
  },
  {
   "cell_type": "code",
   "execution_count": null,
   "id": "432e8319",
   "metadata": {},
   "outputs": [],
   "source": []
  },
  {
   "cell_type": "markdown",
   "id": "d2442edb",
   "metadata": {},
   "source": [
    "Greifen Sie sich aus dem Datenbestand des Jahreseinkommens die ersten fünf Einträge heraus und stellen Sie diese in einem Kuchendiagramm dar. Die Kuchenstücke müssen nicht beschriftet werden."
   ]
  },
  {
   "cell_type": "code",
   "execution_count": null,
   "id": "9f2aacca",
   "metadata": {},
   "outputs": [],
   "source": []
  },
  {
   "cell_type": "markdown",
   "id": "5429df5d",
   "metadata": {},
   "source": [
    "Greifen Sie sich sowohl aus dem Datenbestand des Jahreseinkommens als auch aus dem Datenbestand des Alters die ersten fünf Einträge heraus und stellen Sie für diese fünf Umfrageteilnehmer*innen das Jahreseinkommen als Funktion des Alters in einem Balkendiagramm dar."
   ]
  },
  {
   "cell_type": "code",
   "execution_count": null,
   "id": "eec5d62d",
   "metadata": {},
   "outputs": [],
   "source": []
  },
  {
   "cell_type": "markdown",
   "id": "54c53d70",
   "metadata": {},
   "source": [
    "Stellen Sie die Verteilung des Jahreseinkommens als Histogramm mit 20 Säulen dar und interpretieren Sie das entstehende Diagramm."
   ]
  },
  {
   "cell_type": "code",
   "execution_count": null,
   "id": "270a9422",
   "metadata": {},
   "outputs": [],
   "source": []
  },
  {
   "cell_type": "markdown",
   "id": "868b010a",
   "metadata": {},
   "source": [
    "Unterteilen Sie nun den gesamten Datenbestand in zwei Teile, so dass Sie im ersten Teil die Jahreseinkommen aller Personen unter 35 Jahren und im zweiten Teil die Jahreseinkommen der Personen über 35 Jahren vorliegen haben. \n",
    "\n",
    "<u>Tipp:</u> Durch den Indexoperator können Sie die income-Datenbank ensprechend adressieren. Der Befehl income[age<35] liefert Ihnen beispielsweise alle Einkommen für Personen unter 35 Jahren. "
   ]
  },
  {
   "cell_type": "code",
   "execution_count": null,
   "id": "efdf88d5",
   "metadata": {},
   "outputs": [],
   "source": []
  },
  {
   "cell_type": "markdown",
   "id": "127f3bf0",
   "metadata": {},
   "source": [
    "Stellen Sie nun beide Teile als Boxplot dar und Interpretieren Sie das Ergebnis."
   ]
  },
  {
   "cell_type": "code",
   "execution_count": null,
   "id": "79f6e5b2",
   "metadata": {},
   "outputs": [],
   "source": []
  }
 ],
 "metadata": {
  "kernelspec": {
   "display_name": "Python 3 (ipykernel)",
   "language": "python",
   "name": "python3"
  },
  "language_info": {
   "codemirror_mode": {
    "name": "ipython",
    "version": 3
   },
   "file_extension": ".py",
   "mimetype": "text/x-python",
   "name": "python",
   "nbconvert_exporter": "python",
   "pygments_lexer": "ipython3",
   "version": "3.8.8"
  }
 },
 "nbformat": 4,
 "nbformat_minor": 5
}
