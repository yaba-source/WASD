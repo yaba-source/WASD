{
 "cells": [
  {
   "cell_type": "markdown",
   "metadata": {},
   "source": [
    "# P4 Vorlage: Laden und Verstehen von Daten mit Pandas"
   ]
  },
  {
   "cell_type": "markdown",
   "metadata": {},
   "source": [
    "In diesem Versuch geht es darum, Daten mit Hilfe der Pandas-Bibliothek zu laden und zu verstehen. "
   ]
  },
  {
   "cell_type": "markdown",
   "metadata": {},
   "source": [
    "Zunächst benutzen wir die Pandas-Bibliothek um Daten in Form einer [CSV-Datei](https://de.wikipedia.org/wiki/CSV_(Dateiformat)) aus dem Internet herunterzuladen. Konkret handelt es sich in dieser Übung um statistische Daten von Spielen der National Basketball Association (NBA) von 1946 bis 2015."
   ]
  },
  {
   "cell_type": "code",
   "execution_count": 1,
   "metadata": {},
   "outputs": [
    {
     "data": {
      "text/plain": [
       "pandas.core.frame.DataFrame"
      ]
     },
     "execution_count": 1,
     "metadata": {},
     "output_type": "execute_result"
    }
   ],
   "source": [
    "import pandas as pd\n",
    "download_url = \"https://raw.githubusercontent.com/fivethirtyeight/data/master/nba-elo/nbaallelo.csv\"\n",
    "nba = pd.read_csv(download_url)\n",
    "type(nba)"
   ]
  },
  {
   "cell_type": "markdown",
   "metadata": {},
   "source": [
    "Hierbei wird ein sogenannter [DataFrame](https://pandas.pydata.org/docs/reference/api/pandas.DataFrame.html) mit dem Namen `nba` erzeugt. Vereinfacht kann man sich darunter eine Tabelle mit Spalten und Zeilen vorstellen. DataFrames sind **die** zentralen Datentypen in Pandas. Mit dem Befehl `type()` kann der Datentyp eines jeden Python-Objekts ausgegeben werden. \n",
    "\n",
    "<u>Hinweis:</u> Wenn die CSV-Datei nicht aus dem Internet heruntergeladen werden soll, sondern bereits auf der Festplatte des Rechners liegt, so lautet der Befehl zum Einlesen der Daten ins Jupyter Notebook `pd.read_csv(\"Name_der_Datei.csv\")`."
   ]
  },
  {
   "cell_type": "markdown",
   "metadata": {},
   "source": [
    "### DataFrame untersuchen\n",
    "\n",
    "Die Funktion `len()` aus dem Python Standard gibt bei pandas DataFrames wie erwartet die Anzahl der Zeilen aus."
   ]
  },
  {
   "cell_type": "code",
   "execution_count": 2,
   "metadata": {},
   "outputs": [
    {
     "data": {
      "text/plain": [
       "126314"
      ]
     },
     "execution_count": 2,
     "metadata": {},
     "output_type": "execute_result"
    }
   ],
   "source": [
    "len(nba)\n",
    "# Expected:\n",
    "# 126314"
   ]
  },
  {
   "cell_type": "markdown",
   "metadata": {},
   "source": [
    "Die (Pandas-)Funktion* `shape` gibt die \"Form\" das Frames aus, also die Zeilen- und Spaltenanzahl. \n",
    "\n",
    "*: Es ist eigentlich eine Funktion des Numpy-Pakets. Da Pandas aber zu weiten Teilen auf Numpy basiert, gibt es diese Unschärfe an vielen Stellen. Wenn Funktionen explizit in Pandas verfügbar sind, wird hier auf die Pandas API verwiesen ([vgl. pandas Dokumentation zu shape()](https://pandas.pydata.org/docs/reference/api/pandas.DataFrame.shape.html?highlight=shape#pandas.DataFrame.shape))."
   ]
  },
  {
   "cell_type": "code",
   "execution_count": 3,
   "metadata": {},
   "outputs": [
    {
     "data": {
      "text/plain": [
       "(126314, 23)"
      ]
     },
     "execution_count": 3,
     "metadata": {},
     "output_type": "execute_result"
    }
   ],
   "source": [
    "nba.shape\n",
    "# Expected:\n",
    "# (126314, 23)"
   ]
  },
  {
   "cell_type": "markdown",
   "metadata": {},
   "source": [
    "Einen schnellen Blick in den DataFrame erhält man mit `head()`. Wird kein Parameter übergeben, so werden fünf Zeilen (und die Spaltenüberschriften) ausgegeben."
   ]
  },
  {
   "cell_type": "code",
   "execution_count": 4,
   "metadata": {
    "scrolled": true
   },
   "outputs": [
    {
     "data": {
      "text/html": [
       "<div>\n",
       "<style scoped>\n",
       "    .dataframe tbody tr th:only-of-type {\n",
       "        vertical-align: middle;\n",
       "    }\n",
       "\n",
       "    .dataframe tbody tr th {\n",
       "        vertical-align: top;\n",
       "    }\n",
       "\n",
       "    .dataframe thead th {\n",
       "        text-align: right;\n",
       "    }\n",
       "</style>\n",
       "<table border=\"1\" class=\"dataframe\">\n",
       "  <thead>\n",
       "    <tr style=\"text-align: right;\">\n",
       "      <th></th>\n",
       "      <th>gameorder</th>\n",
       "      <th>game_id</th>\n",
       "      <th>lg_id</th>\n",
       "      <th>_iscopy</th>\n",
       "      <th>year_id</th>\n",
       "      <th>date_game</th>\n",
       "      <th>seasongame</th>\n",
       "      <th>is_playoffs</th>\n",
       "      <th>team_id</th>\n",
       "      <th>fran_id</th>\n",
       "      <th>...</th>\n",
       "      <th>win_equiv</th>\n",
       "      <th>opp_id</th>\n",
       "      <th>opp_fran</th>\n",
       "      <th>opp_pts</th>\n",
       "      <th>opp_elo_i</th>\n",
       "      <th>opp_elo_n</th>\n",
       "      <th>game_location</th>\n",
       "      <th>game_result</th>\n",
       "      <th>forecast</th>\n",
       "      <th>notes</th>\n",
       "    </tr>\n",
       "  </thead>\n",
       "  <tbody>\n",
       "    <tr>\n",
       "      <th>0</th>\n",
       "      <td>1</td>\n",
       "      <td>194611010TRH</td>\n",
       "      <td>NBA</td>\n",
       "      <td>0</td>\n",
       "      <td>1947</td>\n",
       "      <td>11/1/1946</td>\n",
       "      <td>1</td>\n",
       "      <td>0</td>\n",
       "      <td>TRH</td>\n",
       "      <td>Huskies</td>\n",
       "      <td>...</td>\n",
       "      <td>40.294830</td>\n",
       "      <td>NYK</td>\n",
       "      <td>Knicks</td>\n",
       "      <td>68</td>\n",
       "      <td>1300.0000</td>\n",
       "      <td>1306.7233</td>\n",
       "      <td>H</td>\n",
       "      <td>L</td>\n",
       "      <td>0.640065</td>\n",
       "      <td>NaN</td>\n",
       "    </tr>\n",
       "    <tr>\n",
       "      <th>1</th>\n",
       "      <td>1</td>\n",
       "      <td>194611010TRH</td>\n",
       "      <td>NBA</td>\n",
       "      <td>1</td>\n",
       "      <td>1947</td>\n",
       "      <td>11/1/1946</td>\n",
       "      <td>1</td>\n",
       "      <td>0</td>\n",
       "      <td>NYK</td>\n",
       "      <td>Knicks</td>\n",
       "      <td>...</td>\n",
       "      <td>41.705170</td>\n",
       "      <td>TRH</td>\n",
       "      <td>Huskies</td>\n",
       "      <td>66</td>\n",
       "      <td>1300.0000</td>\n",
       "      <td>1293.2767</td>\n",
       "      <td>A</td>\n",
       "      <td>W</td>\n",
       "      <td>0.359935</td>\n",
       "      <td>NaN</td>\n",
       "    </tr>\n",
       "    <tr>\n",
       "      <th>2</th>\n",
       "      <td>2</td>\n",
       "      <td>194611020CHS</td>\n",
       "      <td>NBA</td>\n",
       "      <td>0</td>\n",
       "      <td>1947</td>\n",
       "      <td>11/2/1946</td>\n",
       "      <td>1</td>\n",
       "      <td>0</td>\n",
       "      <td>CHS</td>\n",
       "      <td>Stags</td>\n",
       "      <td>...</td>\n",
       "      <td>42.012257</td>\n",
       "      <td>NYK</td>\n",
       "      <td>Knicks</td>\n",
       "      <td>47</td>\n",
       "      <td>1306.7233</td>\n",
       "      <td>1297.0712</td>\n",
       "      <td>H</td>\n",
       "      <td>W</td>\n",
       "      <td>0.631101</td>\n",
       "      <td>NaN</td>\n",
       "    </tr>\n",
       "    <tr>\n",
       "      <th>3</th>\n",
       "      <td>2</td>\n",
       "      <td>194611020CHS</td>\n",
       "      <td>NBA</td>\n",
       "      <td>1</td>\n",
       "      <td>1947</td>\n",
       "      <td>11/2/1946</td>\n",
       "      <td>2</td>\n",
       "      <td>0</td>\n",
       "      <td>NYK</td>\n",
       "      <td>Knicks</td>\n",
       "      <td>...</td>\n",
       "      <td>40.692783</td>\n",
       "      <td>CHS</td>\n",
       "      <td>Stags</td>\n",
       "      <td>63</td>\n",
       "      <td>1300.0000</td>\n",
       "      <td>1309.6521</td>\n",
       "      <td>A</td>\n",
       "      <td>L</td>\n",
       "      <td>0.368899</td>\n",
       "      <td>NaN</td>\n",
       "    </tr>\n",
       "    <tr>\n",
       "      <th>4</th>\n",
       "      <td>3</td>\n",
       "      <td>194611020DTF</td>\n",
       "      <td>NBA</td>\n",
       "      <td>0</td>\n",
       "      <td>1947</td>\n",
       "      <td>11/2/1946</td>\n",
       "      <td>1</td>\n",
       "      <td>0</td>\n",
       "      <td>DTF</td>\n",
       "      <td>Falcons</td>\n",
       "      <td>...</td>\n",
       "      <td>38.864048</td>\n",
       "      <td>WSC</td>\n",
       "      <td>Capitols</td>\n",
       "      <td>50</td>\n",
       "      <td>1300.0000</td>\n",
       "      <td>1320.3811</td>\n",
       "      <td>H</td>\n",
       "      <td>L</td>\n",
       "      <td>0.640065</td>\n",
       "      <td>NaN</td>\n",
       "    </tr>\n",
       "  </tbody>\n",
       "</table>\n",
       "<p>5 rows × 23 columns</p>\n",
       "</div>"
      ],
      "text/plain": [
       "   gameorder       game_id lg_id  _iscopy  year_id  date_game  seasongame  \\\n",
       "0          1  194611010TRH   NBA        0     1947  11/1/1946           1   \n",
       "1          1  194611010TRH   NBA        1     1947  11/1/1946           1   \n",
       "2          2  194611020CHS   NBA        0     1947  11/2/1946           1   \n",
       "3          2  194611020CHS   NBA        1     1947  11/2/1946           2   \n",
       "4          3  194611020DTF   NBA        0     1947  11/2/1946           1   \n",
       "\n",
       "   is_playoffs team_id  fran_id  ...  win_equiv  opp_id  opp_fran  opp_pts  \\\n",
       "0            0     TRH  Huskies  ...  40.294830     NYK    Knicks       68   \n",
       "1            0     NYK   Knicks  ...  41.705170     TRH   Huskies       66   \n",
       "2            0     CHS    Stags  ...  42.012257     NYK    Knicks       47   \n",
       "3            0     NYK   Knicks  ...  40.692783     CHS     Stags       63   \n",
       "4            0     DTF  Falcons  ...  38.864048     WSC  Capitols       50   \n",
       "\n",
       "   opp_elo_i  opp_elo_n  game_location  game_result  forecast notes  \n",
       "0  1300.0000  1306.7233              H            L  0.640065   NaN  \n",
       "1  1300.0000  1293.2767              A            W  0.359935   NaN  \n",
       "2  1306.7233  1297.0712              H            W  0.631101   NaN  \n",
       "3  1300.0000  1309.6521              A            L  0.368899   NaN  \n",
       "4  1300.0000  1320.3811              H            L  0.640065   NaN  \n",
       "\n",
       "[5 rows x 23 columns]"
      ]
     },
     "execution_count": 4,
     "metadata": {},
     "output_type": "execute_result"
    }
   ],
   "source": [
    "nba.head()"
   ]
  },
  {
   "cell_type": "markdown",
   "metadata": {},
   "source": [
    "Bei sehr breiten Tabellen werden je nach Breite des Bildschirms automatisch Spalten bei der Anzeige ausgeblendet. Dies ist oben durch \"...\" in der Ausgabe gekennzeichnet.\n",
    "\n",
    "Soll explizit die Anzahl der anzuzeigenden Spalten begrenzt oder wie im Beispiel unten aufgehoben werden (hier `None`), so kann dies durch das Setzen der Optionen des DataFrames mit `set_option()` geschehen (vgl. [Liste aller möglichen Optionen](https://pandas.pydata.org/docs/reference/api/pandas.set_option.html?highlight=set_option#pandas.set_option)).\n",
    "\n",
    "Nun wird die gesamte Breite des DataFrames ausgegeben."
   ]
  },
  {
   "cell_type": "code",
   "execution_count": 5,
   "metadata": {},
   "outputs": [
    {
     "data": {
      "text/html": [
       "<div>\n",
       "<style scoped>\n",
       "    .dataframe tbody tr th:only-of-type {\n",
       "        vertical-align: middle;\n",
       "    }\n",
       "\n",
       "    .dataframe tbody tr th {\n",
       "        vertical-align: top;\n",
       "    }\n",
       "\n",
       "    .dataframe thead th {\n",
       "        text-align: right;\n",
       "    }\n",
       "</style>\n",
       "<table border=\"1\" class=\"dataframe\">\n",
       "  <thead>\n",
       "    <tr style=\"text-align: right;\">\n",
       "      <th></th>\n",
       "      <th>gameorder</th>\n",
       "      <th>game_id</th>\n",
       "      <th>lg_id</th>\n",
       "      <th>_iscopy</th>\n",
       "      <th>year_id</th>\n",
       "      <th>date_game</th>\n",
       "      <th>seasongame</th>\n",
       "      <th>is_playoffs</th>\n",
       "      <th>team_id</th>\n",
       "      <th>fran_id</th>\n",
       "      <th>pts</th>\n",
       "      <th>elo_i</th>\n",
       "      <th>elo_n</th>\n",
       "      <th>win_equiv</th>\n",
       "      <th>opp_id</th>\n",
       "      <th>opp_fran</th>\n",
       "      <th>opp_pts</th>\n",
       "      <th>opp_elo_i</th>\n",
       "      <th>opp_elo_n</th>\n",
       "      <th>game_location</th>\n",
       "      <th>game_result</th>\n",
       "      <th>forecast</th>\n",
       "      <th>notes</th>\n",
       "    </tr>\n",
       "  </thead>\n",
       "  <tbody>\n",
       "    <tr>\n",
       "      <th>0</th>\n",
       "      <td>1</td>\n",
       "      <td>194611010TRH</td>\n",
       "      <td>NBA</td>\n",
       "      <td>0</td>\n",
       "      <td>1947</td>\n",
       "      <td>11/1/1946</td>\n",
       "      <td>1</td>\n",
       "      <td>0</td>\n",
       "      <td>TRH</td>\n",
       "      <td>Huskies</td>\n",
       "      <td>66</td>\n",
       "      <td>1300.0000</td>\n",
       "      <td>1293.2767</td>\n",
       "      <td>40.294830</td>\n",
       "      <td>NYK</td>\n",
       "      <td>Knicks</td>\n",
       "      <td>68</td>\n",
       "      <td>1300.0000</td>\n",
       "      <td>1306.7233</td>\n",
       "      <td>H</td>\n",
       "      <td>L</td>\n",
       "      <td>0.640065</td>\n",
       "      <td>NaN</td>\n",
       "    </tr>\n",
       "    <tr>\n",
       "      <th>1</th>\n",
       "      <td>1</td>\n",
       "      <td>194611010TRH</td>\n",
       "      <td>NBA</td>\n",
       "      <td>1</td>\n",
       "      <td>1947</td>\n",
       "      <td>11/1/1946</td>\n",
       "      <td>1</td>\n",
       "      <td>0</td>\n",
       "      <td>NYK</td>\n",
       "      <td>Knicks</td>\n",
       "      <td>68</td>\n",
       "      <td>1300.0000</td>\n",
       "      <td>1306.7233</td>\n",
       "      <td>41.705170</td>\n",
       "      <td>TRH</td>\n",
       "      <td>Huskies</td>\n",
       "      <td>66</td>\n",
       "      <td>1300.0000</td>\n",
       "      <td>1293.2767</td>\n",
       "      <td>A</td>\n",
       "      <td>W</td>\n",
       "      <td>0.359935</td>\n",
       "      <td>NaN</td>\n",
       "    </tr>\n",
       "    <tr>\n",
       "      <th>2</th>\n",
       "      <td>2</td>\n",
       "      <td>194611020CHS</td>\n",
       "      <td>NBA</td>\n",
       "      <td>0</td>\n",
       "      <td>1947</td>\n",
       "      <td>11/2/1946</td>\n",
       "      <td>1</td>\n",
       "      <td>0</td>\n",
       "      <td>CHS</td>\n",
       "      <td>Stags</td>\n",
       "      <td>63</td>\n",
       "      <td>1300.0000</td>\n",
       "      <td>1309.6521</td>\n",
       "      <td>42.012257</td>\n",
       "      <td>NYK</td>\n",
       "      <td>Knicks</td>\n",
       "      <td>47</td>\n",
       "      <td>1306.7233</td>\n",
       "      <td>1297.0712</td>\n",
       "      <td>H</td>\n",
       "      <td>W</td>\n",
       "      <td>0.631101</td>\n",
       "      <td>NaN</td>\n",
       "    </tr>\n",
       "    <tr>\n",
       "      <th>3</th>\n",
       "      <td>2</td>\n",
       "      <td>194611020CHS</td>\n",
       "      <td>NBA</td>\n",
       "      <td>1</td>\n",
       "      <td>1947</td>\n",
       "      <td>11/2/1946</td>\n",
       "      <td>2</td>\n",
       "      <td>0</td>\n",
       "      <td>NYK</td>\n",
       "      <td>Knicks</td>\n",
       "      <td>47</td>\n",
       "      <td>1306.7233</td>\n",
       "      <td>1297.0712</td>\n",
       "      <td>40.692783</td>\n",
       "      <td>CHS</td>\n",
       "      <td>Stags</td>\n",
       "      <td>63</td>\n",
       "      <td>1300.0000</td>\n",
       "      <td>1309.6521</td>\n",
       "      <td>A</td>\n",
       "      <td>L</td>\n",
       "      <td>0.368899</td>\n",
       "      <td>NaN</td>\n",
       "    </tr>\n",
       "    <tr>\n",
       "      <th>4</th>\n",
       "      <td>3</td>\n",
       "      <td>194611020DTF</td>\n",
       "      <td>NBA</td>\n",
       "      <td>0</td>\n",
       "      <td>1947</td>\n",
       "      <td>11/2/1946</td>\n",
       "      <td>1</td>\n",
       "      <td>0</td>\n",
       "      <td>DTF</td>\n",
       "      <td>Falcons</td>\n",
       "      <td>33</td>\n",
       "      <td>1300.0000</td>\n",
       "      <td>1279.6189</td>\n",
       "      <td>38.864048</td>\n",
       "      <td>WSC</td>\n",
       "      <td>Capitols</td>\n",
       "      <td>50</td>\n",
       "      <td>1300.0000</td>\n",
       "      <td>1320.3811</td>\n",
       "      <td>H</td>\n",
       "      <td>L</td>\n",
       "      <td>0.640065</td>\n",
       "      <td>NaN</td>\n",
       "    </tr>\n",
       "  </tbody>\n",
       "</table>\n",
       "</div>"
      ],
      "text/plain": [
       "   gameorder       game_id lg_id  _iscopy  year_id  date_game  seasongame  \\\n",
       "0          1  194611010TRH   NBA        0     1947  11/1/1946           1   \n",
       "1          1  194611010TRH   NBA        1     1947  11/1/1946           1   \n",
       "2          2  194611020CHS   NBA        0     1947  11/2/1946           1   \n",
       "3          2  194611020CHS   NBA        1     1947  11/2/1946           2   \n",
       "4          3  194611020DTF   NBA        0     1947  11/2/1946           1   \n",
       "\n",
       "   is_playoffs team_id  fran_id  pts      elo_i      elo_n  win_equiv opp_id  \\\n",
       "0            0     TRH  Huskies   66  1300.0000  1293.2767  40.294830    NYK   \n",
       "1            0     NYK   Knicks   68  1300.0000  1306.7233  41.705170    TRH   \n",
       "2            0     CHS    Stags   63  1300.0000  1309.6521  42.012257    NYK   \n",
       "3            0     NYK   Knicks   47  1306.7233  1297.0712  40.692783    CHS   \n",
       "4            0     DTF  Falcons   33  1300.0000  1279.6189  38.864048    WSC   \n",
       "\n",
       "   opp_fran  opp_pts  opp_elo_i  opp_elo_n game_location game_result  \\\n",
       "0    Knicks       68  1300.0000  1306.7233             H           L   \n",
       "1   Huskies       66  1300.0000  1293.2767             A           W   \n",
       "2    Knicks       47  1306.7233  1297.0712             H           W   \n",
       "3     Stags       63  1300.0000  1309.6521             A           L   \n",
       "4  Capitols       50  1300.0000  1320.3811             H           L   \n",
       "\n",
       "   forecast notes  \n",
       "0  0.640065   NaN  \n",
       "1  0.359935   NaN  \n",
       "2  0.631101   NaN  \n",
       "3  0.368899   NaN  \n",
       "4  0.640065   NaN  "
      ]
     },
     "execution_count": 5,
     "metadata": {},
     "output_type": "execute_result"
    }
   ],
   "source": [
    "pd.set_option(\"display.max.columns\", None)\n",
    "nba.head()"
   ]
  },
  {
   "cell_type": "markdown",
   "metadata": {},
   "source": [
    "Die Option `display_precision` hilft die Anzeige von Gleitkomma lesbarer zu gestalten.\n",
    "\n",
    "Analog zu `head()` liefert `tail()` das Ende, also die letzten Teilen eines Frames."
   ]
  },
  {
   "cell_type": "code",
   "execution_count": 6,
   "metadata": {},
   "outputs": [
    {
     "data": {
      "text/html": [
       "<div>\n",
       "<style scoped>\n",
       "    .dataframe tbody tr th:only-of-type {\n",
       "        vertical-align: middle;\n",
       "    }\n",
       "\n",
       "    .dataframe tbody tr th {\n",
       "        vertical-align: top;\n",
       "    }\n",
       "\n",
       "    .dataframe thead th {\n",
       "        text-align: right;\n",
       "    }\n",
       "</style>\n",
       "<table border=\"1\" class=\"dataframe\">\n",
       "  <thead>\n",
       "    <tr style=\"text-align: right;\">\n",
       "      <th></th>\n",
       "      <th>gameorder</th>\n",
       "      <th>game_id</th>\n",
       "      <th>lg_id</th>\n",
       "      <th>_iscopy</th>\n",
       "      <th>year_id</th>\n",
       "      <th>date_game</th>\n",
       "      <th>seasongame</th>\n",
       "      <th>is_playoffs</th>\n",
       "      <th>team_id</th>\n",
       "      <th>fran_id</th>\n",
       "      <th>pts</th>\n",
       "      <th>elo_i</th>\n",
       "      <th>elo_n</th>\n",
       "      <th>win_equiv</th>\n",
       "      <th>opp_id</th>\n",
       "      <th>opp_fran</th>\n",
       "      <th>opp_pts</th>\n",
       "      <th>opp_elo_i</th>\n",
       "      <th>opp_elo_n</th>\n",
       "      <th>game_location</th>\n",
       "      <th>game_result</th>\n",
       "      <th>forecast</th>\n",
       "      <th>notes</th>\n",
       "    </tr>\n",
       "  </thead>\n",
       "  <tbody>\n",
       "    <tr>\n",
       "      <th>126309</th>\n",
       "      <td>63155</td>\n",
       "      <td>201506110CLE</td>\n",
       "      <td>NBA</td>\n",
       "      <td>0</td>\n",
       "      <td>2015</td>\n",
       "      <td>6/11/2015</td>\n",
       "      <td>100</td>\n",
       "      <td>1</td>\n",
       "      <td>CLE</td>\n",
       "      <td>Cavaliers</td>\n",
       "      <td>82</td>\n",
       "      <td>1723.41</td>\n",
       "      <td>1704.39</td>\n",
       "      <td>60.31</td>\n",
       "      <td>GSW</td>\n",
       "      <td>Warriors</td>\n",
       "      <td>103</td>\n",
       "      <td>1790.96</td>\n",
       "      <td>1809.98</td>\n",
       "      <td>H</td>\n",
       "      <td>L</td>\n",
       "      <td>0.55</td>\n",
       "      <td>NaN</td>\n",
       "    </tr>\n",
       "    <tr>\n",
       "      <th>126310</th>\n",
       "      <td>63156</td>\n",
       "      <td>201506140GSW</td>\n",
       "      <td>NBA</td>\n",
       "      <td>0</td>\n",
       "      <td>2015</td>\n",
       "      <td>6/14/2015</td>\n",
       "      <td>102</td>\n",
       "      <td>1</td>\n",
       "      <td>GSW</td>\n",
       "      <td>Warriors</td>\n",
       "      <td>104</td>\n",
       "      <td>1809.98</td>\n",
       "      <td>1813.63</td>\n",
       "      <td>68.01</td>\n",
       "      <td>CLE</td>\n",
       "      <td>Cavaliers</td>\n",
       "      <td>91</td>\n",
       "      <td>1704.39</td>\n",
       "      <td>1700.74</td>\n",
       "      <td>H</td>\n",
       "      <td>W</td>\n",
       "      <td>0.77</td>\n",
       "      <td>NaN</td>\n",
       "    </tr>\n",
       "    <tr>\n",
       "      <th>126311</th>\n",
       "      <td>63156</td>\n",
       "      <td>201506140GSW</td>\n",
       "      <td>NBA</td>\n",
       "      <td>1</td>\n",
       "      <td>2015</td>\n",
       "      <td>6/14/2015</td>\n",
       "      <td>101</td>\n",
       "      <td>1</td>\n",
       "      <td>CLE</td>\n",
       "      <td>Cavaliers</td>\n",
       "      <td>91</td>\n",
       "      <td>1704.39</td>\n",
       "      <td>1700.74</td>\n",
       "      <td>60.01</td>\n",
       "      <td>GSW</td>\n",
       "      <td>Warriors</td>\n",
       "      <td>104</td>\n",
       "      <td>1809.98</td>\n",
       "      <td>1813.63</td>\n",
       "      <td>A</td>\n",
       "      <td>L</td>\n",
       "      <td>0.23</td>\n",
       "      <td>NaN</td>\n",
       "    </tr>\n",
       "    <tr>\n",
       "      <th>126312</th>\n",
       "      <td>63157</td>\n",
       "      <td>201506170CLE</td>\n",
       "      <td>NBA</td>\n",
       "      <td>0</td>\n",
       "      <td>2015</td>\n",
       "      <td>6/16/2015</td>\n",
       "      <td>102</td>\n",
       "      <td>1</td>\n",
       "      <td>CLE</td>\n",
       "      <td>Cavaliers</td>\n",
       "      <td>97</td>\n",
       "      <td>1700.74</td>\n",
       "      <td>1692.09</td>\n",
       "      <td>59.29</td>\n",
       "      <td>GSW</td>\n",
       "      <td>Warriors</td>\n",
       "      <td>105</td>\n",
       "      <td>1813.63</td>\n",
       "      <td>1822.29</td>\n",
       "      <td>H</td>\n",
       "      <td>L</td>\n",
       "      <td>0.48</td>\n",
       "      <td>NaN</td>\n",
       "    </tr>\n",
       "    <tr>\n",
       "      <th>126313</th>\n",
       "      <td>63157</td>\n",
       "      <td>201506170CLE</td>\n",
       "      <td>NBA</td>\n",
       "      <td>1</td>\n",
       "      <td>2015</td>\n",
       "      <td>6/16/2015</td>\n",
       "      <td>103</td>\n",
       "      <td>1</td>\n",
       "      <td>GSW</td>\n",
       "      <td>Warriors</td>\n",
       "      <td>105</td>\n",
       "      <td>1813.63</td>\n",
       "      <td>1822.29</td>\n",
       "      <td>68.52</td>\n",
       "      <td>CLE</td>\n",
       "      <td>Cavaliers</td>\n",
       "      <td>97</td>\n",
       "      <td>1700.74</td>\n",
       "      <td>1692.09</td>\n",
       "      <td>A</td>\n",
       "      <td>W</td>\n",
       "      <td>0.52</td>\n",
       "      <td>NaN</td>\n",
       "    </tr>\n",
       "  </tbody>\n",
       "</table>\n",
       "</div>"
      ],
      "text/plain": [
       "        gameorder       game_id lg_id  _iscopy  year_id  date_game  \\\n",
       "126309      63155  201506110CLE   NBA        0     2015  6/11/2015   \n",
       "126310      63156  201506140GSW   NBA        0     2015  6/14/2015   \n",
       "126311      63156  201506140GSW   NBA        1     2015  6/14/2015   \n",
       "126312      63157  201506170CLE   NBA        0     2015  6/16/2015   \n",
       "126313      63157  201506170CLE   NBA        1     2015  6/16/2015   \n",
       "\n",
       "        seasongame  is_playoffs team_id    fran_id  pts    elo_i    elo_n  \\\n",
       "126309         100            1     CLE  Cavaliers   82  1723.41  1704.39   \n",
       "126310         102            1     GSW   Warriors  104  1809.98  1813.63   \n",
       "126311         101            1     CLE  Cavaliers   91  1704.39  1700.74   \n",
       "126312         102            1     CLE  Cavaliers   97  1700.74  1692.09   \n",
       "126313         103            1     GSW   Warriors  105  1813.63  1822.29   \n",
       "\n",
       "        win_equiv opp_id   opp_fran  opp_pts  opp_elo_i  opp_elo_n  \\\n",
       "126309      60.31    GSW   Warriors      103    1790.96    1809.98   \n",
       "126310      68.01    CLE  Cavaliers       91    1704.39    1700.74   \n",
       "126311      60.01    GSW   Warriors      104    1809.98    1813.63   \n",
       "126312      59.29    GSW   Warriors      105    1813.63    1822.29   \n",
       "126313      68.52    CLE  Cavaliers       97    1700.74    1692.09   \n",
       "\n",
       "       game_location game_result  forecast notes  \n",
       "126309             H           L      0.55   NaN  \n",
       "126310             H           W      0.77   NaN  \n",
       "126311             A           L      0.23   NaN  \n",
       "126312             H           L      0.48   NaN  \n",
       "126313             A           W      0.52   NaN  "
      ]
     },
     "execution_count": 6,
     "metadata": {},
     "output_type": "execute_result"
    }
   ],
   "source": [
    "pd.set_option(\"display.precision\", 2)\n",
    "nba.tail()"
   ]
  },
  {
   "cell_type": "markdown",
   "metadata": {},
   "source": [
    "### Aufgabe\n",
    "\n",
    "Geben Sie die letzten drei Zeilen des DataFrames aus."
   ]
  },
  {
   "cell_type": "code",
   "execution_count": null,
   "metadata": {},
   "outputs": [],
   "source": []
  },
  {
   "cell_type": "markdown",
   "metadata": {},
   "source": [
    "## Den Inhalt des DataFrames kennenlernen"
   ]
  },
  {
   "cell_type": "markdown",
   "metadata": {},
   "source": [
    "### Datentypen mit `.info()` anzeigen\n",
    "\n",
    "Die `info()`-Funktion zeigt für alle Spalten des DataFrame die verwendeten Datentypen an. Hier hat Pandas beim Import der CSV-Datei zu Beginn alle Spalten analysiert und einen geeigneten Datentyp ausgewählt. \n",
    "* `int64` ist ein ganzzahliger numerischer 64-bit Datentyp \n",
    "* `float64` ist eine 64-bit Gleitkommazahl\n",
    "* `object` ist der allen Datentypen zugrundeliegende Basisdatentyp in Pythons Datentypenhierarchie\n",
    "\n",
    "Man erkennt, dass für alle numerischen Typen, abhängig vom Vorhandensein eines Kommas (oder Punkts),  entweder `int64` oder `float64` festgelegt wird, für alle anderen Spalten jedoch der sehr allgemeine Datentyp `object`. Folgen und Maßnahmen dazu lernen Sie im weiteren Verlauf kennen.\n",
    "\n",
    "Interssant ist auch die Spalte `Non-Null-Count` in der Ausgabe. Alle Spalten haben für jede Zeile Werte, bis auf die Spalte `notes`, die nur in 5424 der 126314 Zeilen gefüllt ist."
   ]
  },
  {
   "cell_type": "code",
   "execution_count": 7,
   "metadata": {},
   "outputs": [
    {
     "name": "stdout",
     "output_type": "stream",
     "text": [
      "<class 'pandas.core.frame.DataFrame'>\n",
      "RangeIndex: 126314 entries, 0 to 126313\n",
      "Data columns (total 23 columns):\n",
      " #   Column         Non-Null Count   Dtype  \n",
      "---  ------         --------------   -----  \n",
      " 0   gameorder      126314 non-null  int64  \n",
      " 1   game_id        126314 non-null  object \n",
      " 2   lg_id          126314 non-null  object \n",
      " 3   _iscopy        126314 non-null  int64  \n",
      " 4   year_id        126314 non-null  int64  \n",
      " 5   date_game      126314 non-null  object \n",
      " 6   seasongame     126314 non-null  int64  \n",
      " 7   is_playoffs    126314 non-null  int64  \n",
      " 8   team_id        126314 non-null  object \n",
      " 9   fran_id        126314 non-null  object \n",
      " 10  pts            126314 non-null  int64  \n",
      " 11  elo_i          126314 non-null  float64\n",
      " 12  elo_n          126314 non-null  float64\n",
      " 13  win_equiv      126314 non-null  float64\n",
      " 14  opp_id         126314 non-null  object \n",
      " 15  opp_fran       126314 non-null  object \n",
      " 16  opp_pts        126314 non-null  int64  \n",
      " 17  opp_elo_i      126314 non-null  float64\n",
      " 18  opp_elo_n      126314 non-null  float64\n",
      " 19  game_location  126314 non-null  object \n",
      " 20  game_result    126314 non-null  object \n",
      " 21  forecast       126314 non-null  float64\n",
      " 22  notes          5424 non-null    object \n",
      "dtypes: float64(6), int64(7), object(10)\n",
      "memory usage: 22.2+ MB\n"
     ]
    }
   ],
   "source": [
    "nba.info()"
   ]
  },
  {
   "cell_type": "markdown",
   "metadata": {},
   "source": [
    "### (Mini-)Statistik mit  `.describe()`\n",
    "\n",
    "Die Funktion `describe()` generiert eine zusammenfassende Statistik aller *numerischen* Spalten des DataFrames. Fehlende Werte (Not a Number, NaN) in den Spalten werden dabei ignoriert.  \n",
    "\n",
    "* count: Anzahl der Zeilen, die gefüllt sind (also nicht NaN)\n",
    "* mean: Arithmetisches Mittel\n",
    "* std: Standardabweichung\n",
    "* min/max: Minimum und Maximum\n",
    "* 25%/50%/75% Perzentile: Quantile (Bsp für 25% Perzentil: 25% der Werte sind kleiner als X)"
   ]
  },
  {
   "cell_type": "code",
   "execution_count": 8,
   "metadata": {},
   "outputs": [
    {
     "data": {
      "text/html": [
       "<div>\n",
       "<style scoped>\n",
       "    .dataframe tbody tr th:only-of-type {\n",
       "        vertical-align: middle;\n",
       "    }\n",
       "\n",
       "    .dataframe tbody tr th {\n",
       "        vertical-align: top;\n",
       "    }\n",
       "\n",
       "    .dataframe thead th {\n",
       "        text-align: right;\n",
       "    }\n",
       "</style>\n",
       "<table border=\"1\" class=\"dataframe\">\n",
       "  <thead>\n",
       "    <tr style=\"text-align: right;\">\n",
       "      <th></th>\n",
       "      <th>gameorder</th>\n",
       "      <th>_iscopy</th>\n",
       "      <th>year_id</th>\n",
       "      <th>seasongame</th>\n",
       "      <th>is_playoffs</th>\n",
       "      <th>pts</th>\n",
       "      <th>elo_i</th>\n",
       "      <th>elo_n</th>\n",
       "      <th>win_equiv</th>\n",
       "      <th>opp_pts</th>\n",
       "      <th>opp_elo_i</th>\n",
       "      <th>opp_elo_n</th>\n",
       "      <th>forecast</th>\n",
       "    </tr>\n",
       "  </thead>\n",
       "  <tbody>\n",
       "    <tr>\n",
       "      <th>count</th>\n",
       "      <td>126314.00</td>\n",
       "      <td>126314.0</td>\n",
       "      <td>126314.00</td>\n",
       "      <td>126314.00</td>\n",
       "      <td>126314.00</td>\n",
       "      <td>126314.00</td>\n",
       "      <td>126314.00</td>\n",
       "      <td>126314.00</td>\n",
       "      <td>126314.00</td>\n",
       "      <td>126314.00</td>\n",
       "      <td>126314.00</td>\n",
       "      <td>126314.00</td>\n",
       "      <td>126314.00</td>\n",
       "    </tr>\n",
       "    <tr>\n",
       "      <th>mean</th>\n",
       "      <td>31579.00</td>\n",
       "      <td>0.5</td>\n",
       "      <td>1988.20</td>\n",
       "      <td>43.53</td>\n",
       "      <td>0.06</td>\n",
       "      <td>102.73</td>\n",
       "      <td>1495.24</td>\n",
       "      <td>1495.24</td>\n",
       "      <td>41.71</td>\n",
       "      <td>102.73</td>\n",
       "      <td>1495.24</td>\n",
       "      <td>1495.24</td>\n",
       "      <td>0.50</td>\n",
       "    </tr>\n",
       "    <tr>\n",
       "      <th>std</th>\n",
       "      <td>18231.93</td>\n",
       "      <td>0.5</td>\n",
       "      <td>17.58</td>\n",
       "      <td>25.38</td>\n",
       "      <td>0.24</td>\n",
       "      <td>14.81</td>\n",
       "      <td>112.14</td>\n",
       "      <td>112.46</td>\n",
       "      <td>10.63</td>\n",
       "      <td>14.81</td>\n",
       "      <td>112.14</td>\n",
       "      <td>112.46</td>\n",
       "      <td>0.22</td>\n",
       "    </tr>\n",
       "    <tr>\n",
       "      <th>min</th>\n",
       "      <td>1.00</td>\n",
       "      <td>0.0</td>\n",
       "      <td>1947.00</td>\n",
       "      <td>1.00</td>\n",
       "      <td>0.00</td>\n",
       "      <td>0.00</td>\n",
       "      <td>1091.64</td>\n",
       "      <td>1085.77</td>\n",
       "      <td>10.15</td>\n",
       "      <td>0.00</td>\n",
       "      <td>1091.64</td>\n",
       "      <td>1085.77</td>\n",
       "      <td>0.02</td>\n",
       "    </tr>\n",
       "    <tr>\n",
       "      <th>25%</th>\n",
       "      <td>15790.00</td>\n",
       "      <td>0.0</td>\n",
       "      <td>1975.00</td>\n",
       "      <td>22.00</td>\n",
       "      <td>0.00</td>\n",
       "      <td>93.00</td>\n",
       "      <td>1417.24</td>\n",
       "      <td>1416.99</td>\n",
       "      <td>34.10</td>\n",
       "      <td>93.00</td>\n",
       "      <td>1417.24</td>\n",
       "      <td>1416.99</td>\n",
       "      <td>0.33</td>\n",
       "    </tr>\n",
       "    <tr>\n",
       "      <th>50%</th>\n",
       "      <td>31579.00</td>\n",
       "      <td>0.5</td>\n",
       "      <td>1990.00</td>\n",
       "      <td>43.00</td>\n",
       "      <td>0.00</td>\n",
       "      <td>103.00</td>\n",
       "      <td>1500.95</td>\n",
       "      <td>1500.95</td>\n",
       "      <td>42.11</td>\n",
       "      <td>103.00</td>\n",
       "      <td>1500.95</td>\n",
       "      <td>1500.95</td>\n",
       "      <td>0.50</td>\n",
       "    </tr>\n",
       "    <tr>\n",
       "      <th>75%</th>\n",
       "      <td>47368.00</td>\n",
       "      <td>1.0</td>\n",
       "      <td>2003.00</td>\n",
       "      <td>65.00</td>\n",
       "      <td>0.00</td>\n",
       "      <td>112.00</td>\n",
       "      <td>1576.06</td>\n",
       "      <td>1576.29</td>\n",
       "      <td>49.64</td>\n",
       "      <td>112.00</td>\n",
       "      <td>1576.06</td>\n",
       "      <td>1576.29</td>\n",
       "      <td>0.67</td>\n",
       "    </tr>\n",
       "    <tr>\n",
       "      <th>max</th>\n",
       "      <td>63157.00</td>\n",
       "      <td>1.0</td>\n",
       "      <td>2015.00</td>\n",
       "      <td>108.00</td>\n",
       "      <td>1.00</td>\n",
       "      <td>186.00</td>\n",
       "      <td>1853.10</td>\n",
       "      <td>1853.10</td>\n",
       "      <td>71.11</td>\n",
       "      <td>186.00</td>\n",
       "      <td>1853.10</td>\n",
       "      <td>1853.10</td>\n",
       "      <td>0.98</td>\n",
       "    </tr>\n",
       "  </tbody>\n",
       "</table>\n",
       "</div>"
      ],
      "text/plain": [
       "       gameorder   _iscopy    year_id  seasongame  is_playoffs        pts  \\\n",
       "count  126314.00  126314.0  126314.00   126314.00    126314.00  126314.00   \n",
       "mean    31579.00       0.5    1988.20       43.53         0.06     102.73   \n",
       "std     18231.93       0.5      17.58       25.38         0.24      14.81   \n",
       "min         1.00       0.0    1947.00        1.00         0.00       0.00   \n",
       "25%     15790.00       0.0    1975.00       22.00         0.00      93.00   \n",
       "50%     31579.00       0.5    1990.00       43.00         0.00     103.00   \n",
       "75%     47368.00       1.0    2003.00       65.00         0.00     112.00   \n",
       "max     63157.00       1.0    2015.00      108.00         1.00     186.00   \n",
       "\n",
       "           elo_i      elo_n  win_equiv    opp_pts  opp_elo_i  opp_elo_n  \\\n",
       "count  126314.00  126314.00  126314.00  126314.00  126314.00  126314.00   \n",
       "mean     1495.24    1495.24      41.71     102.73    1495.24    1495.24   \n",
       "std       112.14     112.46      10.63      14.81     112.14     112.46   \n",
       "min      1091.64    1085.77      10.15       0.00    1091.64    1085.77   \n",
       "25%      1417.24    1416.99      34.10      93.00    1417.24    1416.99   \n",
       "50%      1500.95    1500.95      42.11     103.00    1500.95    1500.95   \n",
       "75%      1576.06    1576.29      49.64     112.00    1576.06    1576.29   \n",
       "max      1853.10    1853.10      71.11     186.00    1853.10    1853.10   \n",
       "\n",
       "        forecast  \n",
       "count  126314.00  \n",
       "mean        0.50  \n",
       "std         0.22  \n",
       "min         0.02  \n",
       "25%         0.33  \n",
       "50%         0.50  \n",
       "75%         0.67  \n",
       "max         0.98  "
      ]
     },
     "execution_count": 8,
     "metadata": {},
     "output_type": "execute_result"
    }
   ],
   "source": [
    "nba.describe()"
   ]
  },
  {
   "cell_type": "markdown",
   "metadata": {},
   "source": [
    "Eine Minimal-Statistik für nicht-numerische Typen erhält man, wenn man describe den parameter `include=object` übergibt."
   ]
  },
  {
   "cell_type": "code",
   "execution_count": 9,
   "metadata": {},
   "outputs": [
    {
     "data": {
      "text/html": [
       "<div>\n",
       "<style scoped>\n",
       "    .dataframe tbody tr th:only-of-type {\n",
       "        vertical-align: middle;\n",
       "    }\n",
       "\n",
       "    .dataframe tbody tr th {\n",
       "        vertical-align: top;\n",
       "    }\n",
       "\n",
       "    .dataframe thead th {\n",
       "        text-align: right;\n",
       "    }\n",
       "</style>\n",
       "<table border=\"1\" class=\"dataframe\">\n",
       "  <thead>\n",
       "    <tr style=\"text-align: right;\">\n",
       "      <th></th>\n",
       "      <th>game_id</th>\n",
       "      <th>lg_id</th>\n",
       "      <th>date_game</th>\n",
       "      <th>team_id</th>\n",
       "      <th>fran_id</th>\n",
       "      <th>opp_id</th>\n",
       "      <th>opp_fran</th>\n",
       "      <th>game_location</th>\n",
       "      <th>game_result</th>\n",
       "      <th>notes</th>\n",
       "    </tr>\n",
       "  </thead>\n",
       "  <tbody>\n",
       "    <tr>\n",
       "      <th>count</th>\n",
       "      <td>126314</td>\n",
       "      <td>126314</td>\n",
       "      <td>126314</td>\n",
       "      <td>126314</td>\n",
       "      <td>126314</td>\n",
       "      <td>126314</td>\n",
       "      <td>126314</td>\n",
       "      <td>126314</td>\n",
       "      <td>126314</td>\n",
       "      <td>5424</td>\n",
       "    </tr>\n",
       "    <tr>\n",
       "      <th>unique</th>\n",
       "      <td>63157</td>\n",
       "      <td>2</td>\n",
       "      <td>12426</td>\n",
       "      <td>104</td>\n",
       "      <td>53</td>\n",
       "      <td>104</td>\n",
       "      <td>53</td>\n",
       "      <td>3</td>\n",
       "      <td>2</td>\n",
       "      <td>231</td>\n",
       "    </tr>\n",
       "    <tr>\n",
       "      <th>top</th>\n",
       "      <td>194611010TRH</td>\n",
       "      <td>NBA</td>\n",
       "      <td>4/13/2011</td>\n",
       "      <td>BOS</td>\n",
       "      <td>Lakers</td>\n",
       "      <td>BOS</td>\n",
       "      <td>Lakers</td>\n",
       "      <td>H</td>\n",
       "      <td>L</td>\n",
       "      <td>at New York NY</td>\n",
       "    </tr>\n",
       "    <tr>\n",
       "      <th>freq</th>\n",
       "      <td>2</td>\n",
       "      <td>118016</td>\n",
       "      <td>30</td>\n",
       "      <td>5997</td>\n",
       "      <td>6024</td>\n",
       "      <td>5997</td>\n",
       "      <td>6024</td>\n",
       "      <td>63138</td>\n",
       "      <td>63157</td>\n",
       "      <td>440</td>\n",
       "    </tr>\n",
       "  </tbody>\n",
       "</table>\n",
       "</div>"
      ],
      "text/plain": [
       "             game_id   lg_id  date_game team_id fran_id  opp_id opp_fran  \\\n",
       "count         126314  126314     126314  126314  126314  126314   126314   \n",
       "unique         63157       2      12426     104      53     104       53   \n",
       "top     194611010TRH     NBA  4/13/2011     BOS  Lakers     BOS   Lakers   \n",
       "freq               2  118016         30    5997    6024    5997     6024   \n",
       "\n",
       "       game_location game_result           notes  \n",
       "count         126314      126314            5424  \n",
       "unique             3           2             231  \n",
       "top                H           L  at New York NY  \n",
       "freq           63138       63157             440  "
      ]
     },
     "execution_count": 9,
     "metadata": {},
     "output_type": "execute_result"
    }
   ],
   "source": [
    "nba.describe(include=object)"
   ]
  },
  {
   "cell_type": "markdown",
   "metadata": {},
   "source": [
    "### Explorative Datenanalyse mit Pandas (ein Anfang...)\n",
    "\n",
    "Mit dem Index-Operator `[]` greifen wir zunächst auf die Spalte mit dem Label team_id zu. Die Funktion `value_counts()` berechnet die Anzahl der Datenpunkte mit gleichem Inhalt. In unserem Beispiel wird dadurch die Anzahl der Heimspiele für jede Mannschaft ermittelt."
   ]
  },
  {
   "cell_type": "code",
   "execution_count": 10,
   "metadata": {},
   "outputs": [
    {
     "data": {
      "text/plain": [
       "BOS    5997\n",
       "NYK    5769\n",
       "LAL    5078\n",
       "DET    4985\n",
       "PHI    4533\n",
       "       ... \n",
       "INJ      60\n",
       "PIT      60\n",
       "DTF      60\n",
       "TRH      60\n",
       "SDS      11\n",
       "Name: team_id, Length: 104, dtype: int64"
      ]
     },
     "execution_count": 10,
     "metadata": {},
     "output_type": "execute_result"
    }
   ],
   "source": [
    "nba[\"team_id\"].value_counts()\n",
    "# Expected:\n",
    "# BOS    5997\n",
    "# NYK    5769\n",
    "# LAL    5078\n",
    "\n",
    "# SDS      11"
   ]
  },
  {
   "cell_type": "markdown",
   "metadata": {},
   "source": [
    "Benutzen wir die Spalte `fran_id` so wird das Gleiche für die Namen der Teams ermittelt. Beachten Sie dass für die Boston Celtics (BOS bzw. Celtics) der Wert übereinstimmt, die Lakers (LAL) aber abweichende Werte haben. Wie kann das sein?  (-> Antwort: siehe weiter unten.)"
   ]
  },
  {
   "cell_type": "code",
   "execution_count": 11,
   "metadata": {},
   "outputs": [
    {
     "data": {
      "text/plain": [
       "Lakers          6024\n",
       "Celtics         5997\n",
       "Knicks          5769\n",
       "Warriors        5657\n",
       "Pistons         5650\n",
       "Sixers          5644\n",
       "Hawks           5572\n",
       "Kings           5475\n",
       "Wizards         4582\n",
       "Spurs           4309\n",
       "Bulls           4307\n",
       "Pacers          4227\n",
       "Thunder         4178\n",
       "Rockets         4154\n",
       "Nuggets         4120\n",
       "Nets            4106\n",
       "Suns            4080\n",
       "Bucks           4034\n",
       "Trailblazers    3870\n",
       "Cavaliers       3810\n",
       "Clippers        3733\n",
       "Jazz            3555\n",
       "Mavericks       3013\n",
       "Heat            2371\n",
       "Pelicans        2254\n",
       "Magic           2207\n",
       "Timberwolves    2131\n",
       "Grizzlies       1657\n",
       "Raptors         1634\n",
       "Hornets          894\n",
       "Colonels         846\n",
       "Squires          799\n",
       "Spirits          777\n",
       "Stars            756\n",
       "Sounds           697\n",
       "Baltimore        467\n",
       "Floridians       440\n",
       "Condors          430\n",
       "Capitols         291\n",
       "Olympians        282\n",
       "Sails            274\n",
       "Stags            260\n",
       "Bombers          249\n",
       "Steamrollers     168\n",
       "Packers           72\n",
       "Redskins          65\n",
       "Rebels            63\n",
       "Waterloo          62\n",
       "Denver            62\n",
       "Falcons           60\n",
       "Jets              60\n",
       "Ironmen           60\n",
       "Huskies           60\n",
       "Name: fran_id, dtype: int64"
      ]
     },
     "execution_count": 11,
     "metadata": {},
     "output_type": "execute_result"
    }
   ],
   "source": [
    "nba[\"fran_id\"].value_counts()\n",
    "# Expected:\n",
    "# Lakers          6024\n",
    "# Celtics         5997\n",
    "# Knicks          5769\n",
    "\n",
    "# Falcons           60\n",
    "# Name: fran_id, dtype: int64"
   ]
  },
  {
   "cell_type": "markdown",
   "metadata": {},
   "source": [
    "An  die Funktion `loc[]` kann als erstes Argument eine boolsche Bedingung (= Filter) und als zweites Argument eine Liste an auszugebenden Spalten übergeben werden.\n",
    "Im Beispiel wird dadurch die Ermittlung der Spielanzahl nur für Zeilen mit dem Teamnamen `Lakers` durchgeführt. "
   ]
  },
  {
   "cell_type": "code",
   "execution_count": 12,
   "metadata": {},
   "outputs": [
    {
     "data": {
      "text/html": [
       "<div>\n",
       "<style scoped>\n",
       "    .dataframe tbody tr th:only-of-type {\n",
       "        vertical-align: middle;\n",
       "    }\n",
       "\n",
       "    .dataframe tbody tr th {\n",
       "        vertical-align: top;\n",
       "    }\n",
       "\n",
       "    .dataframe thead th {\n",
       "        text-align: right;\n",
       "    }\n",
       "</style>\n",
       "<table border=\"1\" class=\"dataframe\">\n",
       "  <thead>\n",
       "    <tr style=\"text-align: right;\">\n",
       "      <th></th>\n",
       "      <th>team_id</th>\n",
       "      <th>fran_id</th>\n",
       "    </tr>\n",
       "  </thead>\n",
       "  <tbody>\n",
       "    <tr>\n",
       "      <th>1136</th>\n",
       "      <td>MNL</td>\n",
       "      <td>Lakers</td>\n",
       "    </tr>\n",
       "    <tr>\n",
       "      <th>1152</th>\n",
       "      <td>MNL</td>\n",
       "      <td>Lakers</td>\n",
       "    </tr>\n",
       "    <tr>\n",
       "      <th>1159</th>\n",
       "      <td>MNL</td>\n",
       "      <td>Lakers</td>\n",
       "    </tr>\n",
       "    <tr>\n",
       "      <th>1170</th>\n",
       "      <td>MNL</td>\n",
       "      <td>Lakers</td>\n",
       "    </tr>\n",
       "    <tr>\n",
       "      <th>1183</th>\n",
       "      <td>MNL</td>\n",
       "      <td>Lakers</td>\n",
       "    </tr>\n",
       "    <tr>\n",
       "      <th>...</th>\n",
       "      <td>...</td>\n",
       "      <td>...</td>\n",
       "    </tr>\n",
       "    <tr>\n",
       "      <th>126016</th>\n",
       "      <td>LAL</td>\n",
       "      <td>Lakers</td>\n",
       "    </tr>\n",
       "    <tr>\n",
       "      <th>126052</th>\n",
       "      <td>LAL</td>\n",
       "      <td>Lakers</td>\n",
       "    </tr>\n",
       "    <tr>\n",
       "      <th>126086</th>\n",
       "      <td>LAL</td>\n",
       "      <td>Lakers</td>\n",
       "    </tr>\n",
       "    <tr>\n",
       "      <th>126115</th>\n",
       "      <td>LAL</td>\n",
       "      <td>Lakers</td>\n",
       "    </tr>\n",
       "    <tr>\n",
       "      <th>126137</th>\n",
       "      <td>LAL</td>\n",
       "      <td>Lakers</td>\n",
       "    </tr>\n",
       "  </tbody>\n",
       "</table>\n",
       "<p>6024 rows × 2 columns</p>\n",
       "</div>"
      ],
      "text/plain": [
       "       team_id fran_id\n",
       "1136       MNL  Lakers\n",
       "1152       MNL  Lakers\n",
       "1159       MNL  Lakers\n",
       "1170       MNL  Lakers\n",
       "1183       MNL  Lakers\n",
       "...        ...     ...\n",
       "126016     LAL  Lakers\n",
       "126052     LAL  Lakers\n",
       "126086     LAL  Lakers\n",
       "126115     LAL  Lakers\n",
       "126137     LAL  Lakers\n",
       "\n",
       "[6024 rows x 2 columns]"
      ]
     },
     "execution_count": 12,
     "metadata": {},
     "output_type": "execute_result"
    }
   ],
   "source": [
    "nba.loc[nba[\"fran_id\"] == \"Lakers\", (\"team_id\", \"fran_id\")]\n",
    "# Erlärung: Hier wird die team_id und die fran_id für alle Datenpunkte ausgegeben, für die gilt fran_id == \"Lakers\"."
   ]
  },
  {
   "cell_type": "markdown",
   "metadata": {},
   "source": [
    "Wie sich zeigt, gibt es wohl zwei Teams mit dem Namen (bzw. der fran_id) Lakers: MNL und LAL. Zählen wir nun, wie oft darin LAL und MNL vorkommen:"
   ]
  },
  {
   "cell_type": "code",
   "execution_count": 13,
   "metadata": {},
   "outputs": [
    {
     "data": {
      "text/plain": [
       "team_id  fran_id\n",
       "LAL      Lakers     5078\n",
       "MNL      Lakers      946\n",
       "dtype: int64"
      ]
     },
     "execution_count": 13,
     "metadata": {},
     "output_type": "execute_result"
    }
   ],
   "source": [
    "nba.loc[nba[\"fran_id\"] == \"Lakers\", (\"team_id\", \"fran_id\")].value_counts()\n",
    "# Expected:\n",
    "# LAL    5078\n",
    "# MNL     946\n",
    "# Name: team_id, dtype: int64"
   ]
  },
  {
   "cell_type": "markdown",
   "metadata": {},
   "source": [
    "Lassen Sie uns die Spiele der Lakers untersuchen. Dazu wandeln wir zuerst die Spalte mit dem Spieldatum in den richtigen Datentyp um. Bisher war die Spalte vom allgemeinen Typ object und somit nicht für Datumsoperationen nutzbar."
   ]
  },
  {
   "cell_type": "code",
   "execution_count": 14,
   "metadata": {},
   "outputs": [
    {
     "name": "stdout",
     "output_type": "stream",
     "text": [
      "<class 'pandas.core.frame.DataFrame'>\n",
      "RangeIndex: 126314 entries, 0 to 126313\n",
      "Data columns (total 24 columns):\n",
      " #   Column         Non-Null Count   Dtype         \n",
      "---  ------         --------------   -----         \n",
      " 0   gameorder      126314 non-null  int64         \n",
      " 1   game_id        126314 non-null  object        \n",
      " 2   lg_id          126314 non-null  object        \n",
      " 3   _iscopy        126314 non-null  int64         \n",
      " 4   year_id        126314 non-null  int64         \n",
      " 5   date_game      126314 non-null  object        \n",
      " 6   seasongame     126314 non-null  int64         \n",
      " 7   is_playoffs    126314 non-null  int64         \n",
      " 8   team_id        126314 non-null  object        \n",
      " 9   fran_id        126314 non-null  object        \n",
      " 10  pts            126314 non-null  int64         \n",
      " 11  elo_i          126314 non-null  float64       \n",
      " 12  elo_n          126314 non-null  float64       \n",
      " 13  win_equiv      126314 non-null  float64       \n",
      " 14  opp_id         126314 non-null  object        \n",
      " 15  opp_fran       126314 non-null  object        \n",
      " 16  opp_pts        126314 non-null  int64         \n",
      " 17  opp_elo_i      126314 non-null  float64       \n",
      " 18  opp_elo_n      126314 non-null  float64       \n",
      " 19  game_location  126314 non-null  object        \n",
      " 20  game_result    126314 non-null  object        \n",
      " 21  forecast       126314 non-null  float64       \n",
      " 22  notes          5424 non-null    object        \n",
      " 23  date_played    126314 non-null  datetime64[ns]\n",
      "dtypes: datetime64[ns](1), float64(6), int64(7), object(10)\n",
      "memory usage: 23.1+ MB\n"
     ]
    }
   ],
   "source": [
    "nba[\"date_played\"] = pd.to_datetime(nba[\"date_game\"])\n",
    "nba.info()   # Wie man sieht, enthält die Datenbank nba nun eine neue Spalte mit dem Namen date_played."
   ]
  },
  {
   "cell_type": "markdown",
   "metadata": {},
   "source": [
    "Das allererste Spiel des Teams MNL:"
   ]
  },
  {
   "cell_type": "code",
   "execution_count": 15,
   "metadata": {},
   "outputs": [
    {
     "data": {
      "text/plain": [
       "Timestamp('1948-11-04 00:00:00')"
      ]
     },
     "execution_count": 15,
     "metadata": {},
     "output_type": "execute_result"
    }
   ],
   "source": [
    "nba.loc[nba[\"team_id\"] == \"MNL\", \"date_played\"].min()\n",
    "# Expected:\n",
    "# Timestamp('1948-11-04 00:00:00')"
   ]
  },
  {
   "cell_type": "markdown",
   "metadata": {},
   "source": [
    "Das letzte Spiel des Teams MNL:"
   ]
  },
  {
   "cell_type": "code",
   "execution_count": 16,
   "metadata": {},
   "outputs": [
    {
     "data": {
      "text/plain": [
       "Timestamp('1960-03-26 00:00:00')"
      ]
     },
     "execution_count": 16,
     "metadata": {},
     "output_type": "execute_result"
    }
   ],
   "source": [
    "nba.loc[nba[\"team_id\"] == \"MNL\", \"date_played\"].max()\n",
    "# Expected:\n",
    "# Timestamp('1960-03-26 00:00:00')"
   ]
  },
  {
   "cell_type": "markdown",
   "metadata": {},
   "source": [
    "Die MNL Lakers (Minneapolis Lakers) waren also nur bis in die 60er Jahre aktiv. Danach ist das Team (bzw. das Franchise) von Minnesota nach Los Angeles umgezogen. [https://de.wikipedia.org/wiki/Los_Angeles_Lakers](https://de.wikipedia.org/wiki/Los_Angeles_Lakers)"
   ]
  },
  {
   "cell_type": "markdown",
   "metadata": {},
   "source": [
    "Weitere Aggregatsfunktionen, wie zum Beispiel zum Bilden von Summen, finden Sie in der [Pandas Dokumentation](https://pandas.pydata.org/pandas-docs/stable/reference/frame.html#computations-descriptive-stats)."
   ]
  },
  {
   "cell_type": "markdown",
   "metadata": {},
   "source": [
    "#### Aufgabe\n",
    "\n",
    "Wie viele Punkte haben die Boston Celtics in allen Spielen dieser Datenbank erzielt?"
   ]
  },
  {
   "cell_type": "code",
   "execution_count": null,
   "metadata": {},
   "outputs": [],
   "source": []
  },
  {
   "cell_type": "markdown",
   "metadata": {},
   "source": [
    "## Pandas Datenstrukturen kennenlernen"
   ]
  },
  {
   "cell_type": "markdown",
   "metadata": {},
   "source": [
    "### `Series`: Die \"Basis\"-Datenstruktur in Pandas"
   ]
  },
  {
   "cell_type": "markdown",
   "metadata": {},
   "source": [
    "Man erzeugt eine neue sog. Series mit dem `Series()`-Befehl. Hier können z.B. Python Listen als Argument übergeben werden. Im Beispiel unten wird beispielhaft eine Reihe von Unternehmensumsätzen erzeugt."
   ]
  },
  {
   "cell_type": "code",
   "execution_count": 17,
   "metadata": {},
   "outputs": [
    {
     "data": {
      "text/plain": [
       "0    5555\n",
       "1    7000\n",
       "2    1980\n",
       "dtype: int64"
      ]
     },
     "execution_count": 17,
     "metadata": {},
     "output_type": "execute_result"
    }
   ],
   "source": [
    "revenues = pd.Series([5555, 7000, 1980])\n",
    "revenues\n",
    "# Expected:\n",
    "# 0    5555\n",
    "# 1    7000\n",
    "# 2    1980\n",
    "# dtype: int64"
   ]
  },
  {
   "cell_type": "markdown",
   "metadata": {},
   "source": [
    "Im Ergebnis sind zwei Spalten zu erkennen: die eigentlichen Umsätze und eine Nummerierung für jede Zeile. Zugriff auf die Werte dieser Series erhält man mit `revenue.values`. Das Ergebnis ist ein Numpy-Array."
   ]
  },
  {
   "cell_type": "code",
   "execution_count": 18,
   "metadata": {},
   "outputs": [
    {
     "data": {
      "text/plain": [
       "array([5555, 7000, 1980], dtype=int64)"
      ]
     },
     "execution_count": 18,
     "metadata": {},
     "output_type": "execute_result"
    }
   ],
   "source": [
    "revenues.values\n",
    "# Expected:\n",
    "# array([5555, 7000, 1980])"
   ]
  },
  {
   "cell_type": "code",
   "execution_count": 19,
   "metadata": {},
   "outputs": [
    {
     "data": {
      "text/plain": [
       "numpy.ndarray"
      ]
     },
     "execution_count": 19,
     "metadata": {},
     "output_type": "execute_result"
    }
   ],
   "source": [
    "type(revenues.values)\n",
    "# Expected:\n",
    "# <class 'numpy.ndarray'>"
   ]
  },
  {
   "cell_type": "markdown",
   "metadata": {},
   "source": [
    "Man kann auf einzelne Werte der Series durch Indizierung zugreifen:"
   ]
  },
  {
   "cell_type": "code",
   "execution_count": 20,
   "metadata": {},
   "outputs": [
    {
     "data": {
      "text/plain": [
       "7000"
      ]
     },
     "execution_count": 20,
     "metadata": {},
     "output_type": "execute_result"
    }
   ],
   "source": [
    "revenues[1]\n",
    "# Expected:\n",
    "# 7000"
   ]
  },
  {
   "cell_type": "markdown",
   "metadata": {},
   "source": [
    "Indizes zu Series können auch explizit vergeben werden. Im Beispiel unten wird der Series ein alphanumerischer Index zugewiesen der die Namen der Städte als \"Labels\" für die Umsätze festlegt."
   ]
  },
  {
   "cell_type": "code",
   "execution_count": 21,
   "metadata": {},
   "outputs": [
    {
     "data": {
      "text/plain": [
       "Amsterdam    4200\n",
       "Toronto      8000\n",
       "Tokyo        6500\n",
       "dtype: int64"
      ]
     },
     "execution_count": 21,
     "metadata": {},
     "output_type": "execute_result"
    }
   ],
   "source": [
    "city_revenues = pd.Series(\n",
    "    [4200, 8000, 6500],\n",
    "    index=[\"Amsterdam\", \"Toronto\", \"Tokyo\"]\n",
    ")\n",
    "city_revenues\n",
    "# Expected:\n",
    "# Amsterdam    4200\n",
    "# Toronto      8000\n",
    "# Tokyo        6500\n",
    "# dtype: int64"
   ]
  },
  {
   "cell_type": "markdown",
   "metadata": {},
   "source": [
    "Mittels city_revenues.index werden die vergebenen Indizes ausgegeben."
   ]
  },
  {
   "cell_type": "code",
   "execution_count": 22,
   "metadata": {},
   "outputs": [
    {
     "data": {
      "text/plain": [
       "Index(['Amsterdam', 'Toronto', 'Tokyo'], dtype='object')"
      ]
     },
     "execution_count": 22,
     "metadata": {},
     "output_type": "execute_result"
    }
   ],
   "source": [
    "city_revenues.index"
   ]
  },
  {
   "cell_type": "markdown",
   "metadata": {},
   "source": [
    "Wird ein Python Dictionary (manchmal auch Hash-Tabelle genannt, also eine Menge an Schlüssel-Wert-Paaren) als Datenelement bei der Initialisierung der Series verwendet, so wird automatisch ein Index in der Reihenfolge der Schlüsselwerte erzeugt."
   ]
  },
  {
   "cell_type": "code",
   "execution_count": 23,
   "metadata": {},
   "outputs": [
    {
     "data": {
      "text/plain": [
       "Amsterdam    5\n",
       "Tokyo        8\n",
       "dtype: int64"
      ]
     },
     "execution_count": 23,
     "metadata": {},
     "output_type": "execute_result"
    }
   ],
   "source": [
    "city_employee_count = pd.Series({\"Amsterdam\": 5, \"Tokyo\": 8})\n",
    "city_employee_count\n",
    "# Expected:\n",
    "# Amsterdam    5\n",
    "# Tokyo        8\n",
    "# dtype: int64"
   ]
  },
  {
   "cell_type": "markdown",
   "metadata": {},
   "source": [
    "Die Dictionary Methode `keys()` führt bei Series zum gleichen Ergebnis wie `index`."
   ]
  },
  {
   "cell_type": "code",
   "execution_count": 24,
   "metadata": {},
   "outputs": [
    {
     "data": {
      "text/plain": [
       "Index(['Amsterdam', 'Tokyo'], dtype='object')"
      ]
     },
     "execution_count": 24,
     "metadata": {},
     "output_type": "execute_result"
    }
   ],
   "source": [
    "city_employee_count.keys()\n",
    "# Expected:\n",
    "# Index(['Amsterdam', 'Tokyo'], dtype='object')"
   ]
  },
  {
   "cell_type": "markdown",
   "metadata": {},
   "source": [
    "Series können wie Listen und andere Sequence-artige Typen auf Vorhandensein von Elementen überprüft werden."
   ]
  },
  {
   "cell_type": "code",
   "execution_count": 25,
   "metadata": {},
   "outputs": [
    {
     "data": {
      "text/plain": [
       "True"
      ]
     },
     "execution_count": 25,
     "metadata": {},
     "output_type": "execute_result"
    }
   ],
   "source": [
    "\"Tokyo\" in city_employee_count\n",
    "# Expected:\n",
    "# True"
   ]
  },
  {
   "cell_type": "code",
   "execution_count": 26,
   "metadata": {},
   "outputs": [
    {
     "data": {
      "text/plain": [
       "False"
      ]
     },
     "execution_count": 26,
     "metadata": {},
     "output_type": "execute_result"
    }
   ],
   "source": [
    "\"New York\" in city_employee_count\n",
    "# Expected:\n",
    "# False"
   ]
  },
  {
   "cell_type": "markdown",
   "metadata": {},
   "source": [
    "### `DataFrame`: Pandas' beliebteste Datenstruktur\n",
    "\n",
    "DataFrames sind mehrdimensionale Datenstrukturen die aus mehreren Datenreihen (-> Series) mit entsprechenden Labels bzw. Keys (also Spaltenüberschriften) und einem Index bestehen. In unserem Beispiel verbinden wir die beiden obigen Series-Objekte zu einem gemeinsamen DataFrame. Der Index wird über das Verschmelzen der beiden Indizes der ursprünglichen Series gebildet. Liegt zu einem der Indizes nicht in jeder Series ein Wert vor, so wird mit `NaN` aufgefüllt."
   ]
  },
  {
   "cell_type": "code",
   "execution_count": 27,
   "metadata": {},
   "outputs": [
    {
     "data": {
      "text/html": [
       "<div>\n",
       "<style scoped>\n",
       "    .dataframe tbody tr th:only-of-type {\n",
       "        vertical-align: middle;\n",
       "    }\n",
       "\n",
       "    .dataframe tbody tr th {\n",
       "        vertical-align: top;\n",
       "    }\n",
       "\n",
       "    .dataframe thead th {\n",
       "        text-align: right;\n",
       "    }\n",
       "</style>\n",
       "<table border=\"1\" class=\"dataframe\">\n",
       "  <thead>\n",
       "    <tr style=\"text-align: right;\">\n",
       "      <th></th>\n",
       "      <th>revenue</th>\n",
       "      <th>employee_count</th>\n",
       "    </tr>\n",
       "  </thead>\n",
       "  <tbody>\n",
       "    <tr>\n",
       "      <th>Amsterdam</th>\n",
       "      <td>4200</td>\n",
       "      <td>5.0</td>\n",
       "    </tr>\n",
       "    <tr>\n",
       "      <th>Tokyo</th>\n",
       "      <td>6500</td>\n",
       "      <td>8.0</td>\n",
       "    </tr>\n",
       "    <tr>\n",
       "      <th>Toronto</th>\n",
       "      <td>8000</td>\n",
       "      <td>NaN</td>\n",
       "    </tr>\n",
       "  </tbody>\n",
       "</table>\n",
       "</div>"
      ],
      "text/plain": [
       "           revenue  employee_count\n",
       "Amsterdam     4200             5.0\n",
       "Tokyo         6500             8.0\n",
       "Toronto       8000             NaN"
      ]
     },
     "execution_count": 27,
     "metadata": {},
     "output_type": "execute_result"
    }
   ],
   "source": [
    "city_data = pd.DataFrame({\n",
    "    \"revenue\": city_revenues,\n",
    "    \"employee_count\": city_employee_count\n",
    "})\n",
    "city_data\n",
    "# Expected:\n",
    "#               revenue         employee_count\n",
    "# Amsterdam     4200            5.0\n",
    "# Tokyo         6500            8.0\n",
    "# Toronto       8000            NaN"
   ]
  },
  {
   "cell_type": "code",
   "execution_count": 28,
   "metadata": {},
   "outputs": [
    {
     "data": {
      "text/plain": [
       "Index(['Amsterdam', 'Tokyo', 'Toronto'], dtype='object')"
      ]
     },
     "execution_count": 28,
     "metadata": {},
     "output_type": "execute_result"
    }
   ],
   "source": [
    "city_data.index\n",
    "# Expected:\n",
    "# Index(['Amsterdam', 'Tokyo', 'Toronto'], dtype='object')"
   ]
  },
  {
   "cell_type": "markdown",
   "metadata": {},
   "source": [
    "Die Werte sind nun keine eindimensionalen Arrays mehr sondern, wie erwartet, zweidimensional."
   ]
  },
  {
   "cell_type": "code",
   "execution_count": 29,
   "metadata": {},
   "outputs": [
    {
     "data": {
      "text/plain": [
       "array([[4.2e+03, 5.0e+00],\n",
       "       [6.5e+03, 8.0e+00],\n",
       "       [8.0e+03,     nan]])"
      ]
     },
     "execution_count": 29,
     "metadata": {},
     "output_type": "execute_result"
    }
   ],
   "source": [
    "city_data.values\n",
    "# Expected:\n",
    "# array([[4.2e+03, 5.0e+00],\n",
    "#        [6.5e+03, 8.0e+00],\n",
    "#        [8.0e+03,     nan]])"
   ]
  },
  {
   "cell_type": "markdown",
   "metadata": {},
   "source": [
    "Lassen wir uns die \"Achsen\" dieser zweidimensionalen Datenstruktur mit `city_data.axes` ausgeben, so sieht man, dass auch für die Spaltenüberschriften, also für unsere zwei Variablen (Umsatz und Anzahl Mitarbeiter), ein Index gebildet wurde.\n",
    "Diese beiden Indizes sind ihrerseits in einem Array verpackt (man bemerke die eckigen Klammern ganz außen) und so kann wie gewohnt mit `[0]` und `[1]` über die Position im Array auf die einzelnen Objekte zugegriffen werden."
   ]
  },
  {
   "cell_type": "code",
   "execution_count": 30,
   "metadata": {},
   "outputs": [
    {
     "data": {
      "text/plain": [
       "[Index(['Amsterdam', 'Tokyo', 'Toronto'], dtype='object'),\n",
       " Index(['revenue', 'employee_count'], dtype='object')]"
      ]
     },
     "execution_count": 30,
     "metadata": {},
     "output_type": "execute_result"
    }
   ],
   "source": [
    "city_data.axes\n",
    "# Expected:\n",
    "# [Index(['Amsterdam', 'Tokyo', 'Toronto'], dtype='object'),\n",
    "# Index(['revenue', 'employee_count'], dtype='object')]"
   ]
  },
  {
   "cell_type": "code",
   "execution_count": 31,
   "metadata": {},
   "outputs": [
    {
     "data": {
      "text/plain": [
       "Index(['Amsterdam', 'Tokyo', 'Toronto'], dtype='object')"
      ]
     },
     "execution_count": 31,
     "metadata": {},
     "output_type": "execute_result"
    }
   ],
   "source": [
    "city_data.axes[0]\n",
    "# Expected:\n",
    "# Index(['Amsterdam', 'Tokyo', 'Toronto'], dtype='object')"
   ]
  },
  {
   "cell_type": "code",
   "execution_count": 32,
   "metadata": {},
   "outputs": [
    {
     "data": {
      "text/plain": [
       "Index(['revenue', 'employee_count'], dtype='object')"
      ]
     },
     "execution_count": 32,
     "metadata": {},
     "output_type": "execute_result"
    }
   ],
   "source": [
    "city_data.axes[1]\n",
    "# Expected:\n",
    "# Index(['revenue', 'employee_count'], dtype='object')"
   ]
  },
  {
   "cell_type": "markdown",
   "metadata": {},
   "source": [
    "**Achtung**\n",
    "\n",
    "Es gibt auch Unterschiede wie diese beiden Indizes auf DataFrame-Ebene angesprochen werden. \n",
    "\n",
    "Die Funktion `keys()` liefert den \"Spaltenindex\", das Attribut `.index` liefert hingegen den \"Zeilenindex\".\n",
    "Wird mit dem `in` Operator direkt der DataFrame durchsucht, so wird nur in den Spaltenüberschriften gesucht."
   ]
  },
  {
   "cell_type": "code",
   "execution_count": 33,
   "metadata": {},
   "outputs": [
    {
     "data": {
      "text/plain": [
       "Index(['revenue', 'employee_count'], dtype='object')"
      ]
     },
     "execution_count": 33,
     "metadata": {},
     "output_type": "execute_result"
    }
   ],
   "source": [
    "city_data.keys()\n",
    "# Expected:\n",
    "# Index(['revenue', 'employee_count'], dtype='object')"
   ]
  },
  {
   "cell_type": "code",
   "execution_count": 34,
   "metadata": {},
   "outputs": [
    {
     "data": {
      "text/plain": [
       "Index(['Amsterdam', 'Tokyo', 'Toronto'], dtype='object')"
      ]
     },
     "execution_count": 34,
     "metadata": {},
     "output_type": "execute_result"
    }
   ],
   "source": [
    "city_data.index"
   ]
  },
  {
   "cell_type": "code",
   "execution_count": 35,
   "metadata": {},
   "outputs": [
    {
     "data": {
      "text/plain": [
       "True"
      ]
     },
     "execution_count": 35,
     "metadata": {},
     "output_type": "execute_result"
    }
   ],
   "source": [
    "\"Amsterdam\" in city_data.index"
   ]
  },
  {
   "cell_type": "code",
   "execution_count": 36,
   "metadata": {},
   "outputs": [
    {
     "data": {
      "text/plain": [
       "False"
      ]
     },
     "execution_count": 36,
     "metadata": {},
     "output_type": "execute_result"
    }
   ],
   "source": [
    "\"Amsterdam\" in city_data\n",
    "# Expected:\n",
    "# False"
   ]
  },
  {
   "cell_type": "code",
   "execution_count": 37,
   "metadata": {},
   "outputs": [
    {
     "data": {
      "text/plain": [
       "True"
      ]
     },
     "execution_count": 37,
     "metadata": {},
     "output_type": "execute_result"
    }
   ],
   "source": [
    "\"revenue\" in city_data\n",
    "# Expected:\n",
    "# True"
   ]
  },
  {
   "cell_type": "markdown",
   "metadata": {},
   "source": [
    "#### Aufgabe\n",
    "\n",
    "* Zeigen Sie die Achsen und den index des `nba` datasets an.\n",
    "* Überprüfen Sie, ob die Spalte \"points\" existiert. Oder hieß die vielleicht \"pts\"?"
   ]
  },
  {
   "cell_type": "code",
   "execution_count": null,
   "metadata": {},
   "outputs": [],
   "source": []
  },
  {
   "cell_type": "code",
   "execution_count": null,
   "metadata": {},
   "outputs": [],
   "source": []
  },
  {
   "cell_type": "code",
   "execution_count": 38,
   "metadata": {},
   "outputs": [
    {
     "data": {
      "text/plain": [
       "False"
      ]
     },
     "execution_count": 38,
     "metadata": {},
     "output_type": "execute_result"
    }
   ],
   "source": [
    "\"points\" in nba.keys()"
   ]
  },
  {
   "cell_type": "code",
   "execution_count": 39,
   "metadata": {},
   "outputs": [
    {
     "data": {
      "text/plain": [
       "True"
      ]
     },
     "execution_count": 39,
     "metadata": {},
     "output_type": "execute_result"
    }
   ],
   "source": [
    "\"pts\" in nba.keys()"
   ]
  },
  {
   "cell_type": "markdown",
   "metadata": {},
   "source": [
    "## Zugriff auf Elemente für Python `list` und Pandas `Series` Objekte: Gemeinsamkeiten und Unterschiede"
   ]
  },
  {
   "cell_type": "markdown",
   "metadata": {},
   "source": [
    "### Der Python Index Operator `[]`"
   ]
  },
  {
   "cell_type": "code",
   "execution_count": 40,
   "metadata": {},
   "outputs": [
    {
     "data": {
      "text/plain": [
       "Amsterdam    4200\n",
       "Toronto      8000\n",
       "Tokyo        6500\n",
       "dtype: int64"
      ]
     },
     "execution_count": 40,
     "metadata": {},
     "output_type": "execute_result"
    }
   ],
   "source": [
    "city_revenues\n",
    "# Expected:\n",
    "# Amsterdam    4200\n",
    "# Toronto      8000\n",
    "# Tokyo        6500\n",
    "# dtype: int64"
   ]
  },
  {
   "cell_type": "markdown",
   "metadata": {},
   "source": [
    "Zugriff über Index-Wert:"
   ]
  },
  {
   "cell_type": "code",
   "execution_count": 41,
   "metadata": {},
   "outputs": [
    {
     "data": {
      "text/plain": [
       "8000"
      ]
     },
     "execution_count": 41,
     "metadata": {},
     "output_type": "execute_result"
    }
   ],
   "source": [
    "city_revenues[\"Toronto\"]\n",
    "# Expected:\n",
    "# 8000"
   ]
  },
  {
   "cell_type": "markdown",
   "metadata": {},
   "source": [
    "Zugriff über Index-Position:"
   ]
  },
  {
   "cell_type": "code",
   "execution_count": 42,
   "metadata": {},
   "outputs": [
    {
     "data": {
      "text/plain": [
       "8000"
      ]
     },
     "execution_count": 42,
     "metadata": {},
     "output_type": "execute_result"
    }
   ],
   "source": [
    "city_revenues[1]\n",
    "# Expected:\n",
    "# 8000"
   ]
  },
  {
   "cell_type": "markdown",
   "metadata": {},
   "source": [
    "Die Position `[-1]` liefert das letzte Element."
   ]
  },
  {
   "cell_type": "code",
   "execution_count": 43,
   "metadata": {},
   "outputs": [
    {
     "data": {
      "text/plain": [
       "6500"
      ]
     },
     "execution_count": 43,
     "metadata": {},
     "output_type": "execute_result"
    }
   ],
   "source": [
    "city_revenues[-1]\n",
    "# Expected:\n",
    "# 6500"
   ]
  },
  {
   "cell_type": "markdown",
   "metadata": {},
   "source": [
    "Bereiche können einfach über`[n:m]` selektiert werden. n ist dabei immer eingeschlossen und m ausgeschlossen. Auch einseitig begrenzte Intervalle sind durch Weglassen einer Grenze möglich."
   ]
  },
  {
   "cell_type": "code",
   "execution_count": 44,
   "metadata": {},
   "outputs": [
    {
     "data": {
      "text/plain": [
       "Toronto    8000\n",
       "Tokyo      6500\n",
       "dtype: int64"
      ]
     },
     "execution_count": 44,
     "metadata": {},
     "output_type": "execute_result"
    }
   ],
   "source": [
    "city_revenues[1:]\n",
    "# Expected:\n",
    "# Toronto    8000\n",
    "# Tokyo      6500\n",
    "# dtype: int64"
   ]
  },
  {
   "cell_type": "code",
   "execution_count": 45,
   "metadata": {},
   "outputs": [
    {
     "data": {
      "text/plain": [
       "Toronto    8000\n",
       "Tokyo      6500\n",
       "dtype: int64"
      ]
     },
     "execution_count": 45,
     "metadata": {},
     "output_type": "execute_result"
    }
   ],
   "source": [
    "city_revenues[\"Toronto\":]\n",
    "# Expected:\n",
    "# Toronto    8000\n",
    "# Tokyo      6500\n",
    "# dtype: int64"
   ]
  },
  {
   "cell_type": "markdown",
   "metadata": {},
   "source": [
    "### Zugriff auf `Series`' Elemente via `.loc` und `.iloc`"
   ]
  },
  {
   "cell_type": "code",
   "execution_count": 46,
   "metadata": {},
   "outputs": [
    {
     "data": {
      "text/plain": [
       "1       red\n",
       "2    purple\n",
       "3      blue\n",
       "5     green\n",
       "8    yellow\n",
       "dtype: object"
      ]
     },
     "execution_count": 46,
     "metadata": {},
     "output_type": "execute_result"
    }
   ],
   "source": [
    "colors = pd.Series(\n",
    "    [\"red\", \"purple\", \"blue\", \"green\", \"yellow\"],\n",
    "    index=[1, 2, 3, 5, 8]\n",
    ")\n",
    "colors\n",
    "# Expected:\n",
    "# 1       red\n",
    "# 2    purple\n",
    "# 3      blue\n",
    "# 5     green\n",
    "# 8    yellow\n",
    "# dtype: object"
   ]
  },
  {
   "cell_type": "markdown",
   "metadata": {},
   "source": [
    "Die Pandas Funktionen `loc[i]` und  `iloc[j]` können zusätzlich benutzt werden um auf Elemente von Series zuzugreifen. \n",
    "\n",
    "* `loc[i]` liefert das Element der Series mit dem Index `i` zurück. Es wird vom expliziten Index gesprochen.\n",
    "* `iloc[j]` liefert das Element an der j-ten Position zurück. Es wird hier vom impliziten Index gesprochen.\n",
    "\n",
    "Es sind auch Bereiche (wie oben) möglich.\n"
   ]
  },
  {
   "cell_type": "code",
   "execution_count": 47,
   "metadata": {},
   "outputs": [
    {
     "data": {
      "text/plain": [
       "'red'"
      ]
     },
     "execution_count": 47,
     "metadata": {},
     "output_type": "execute_result"
    }
   ],
   "source": [
    "colors.loc[1]\n",
    "# Expected:\n",
    "# 'red'"
   ]
  },
  {
   "cell_type": "code",
   "execution_count": 48,
   "metadata": {},
   "outputs": [
    {
     "data": {
      "text/plain": [
       "'purple'"
      ]
     },
     "execution_count": 48,
     "metadata": {},
     "output_type": "execute_result"
    }
   ],
   "source": [
    "colors.iloc[1]\n",
    "# Expected:\n",
    "# 'purple'"
   ]
  },
  {
   "cell_type": "code",
   "execution_count": 49,
   "metadata": {},
   "outputs": [
    {
     "data": {
      "text/plain": [
       "2    purple\n",
       "3      blue\n",
       "dtype: object"
      ]
     },
     "execution_count": 49,
     "metadata": {},
     "output_type": "execute_result"
    }
   ],
   "source": [
    "colors.iloc[1:3]\n",
    "# Expected:\n",
    "# 2    purple\n",
    "# 3      blue\n",
    "# dtype: object"
   ]
  },
  {
   "cell_type": "code",
   "execution_count": 50,
   "metadata": {},
   "outputs": [
    {
     "data": {
      "text/plain": [
       "3      blue\n",
       "5     green\n",
       "8    yellow\n",
       "dtype: object"
      ]
     },
     "execution_count": 50,
     "metadata": {},
     "output_type": "execute_result"
    }
   ],
   "source": [
    "colors.loc[3:8]\n",
    "# Expected:\n",
    "# 3      blue\n",
    "# 5     green\n",
    "# 8    yellow\n",
    "# dtype: object"
   ]
  },
  {
   "cell_type": "code",
   "execution_count": 51,
   "metadata": {},
   "outputs": [
    {
     "data": {
      "text/plain": [
       "'green'"
      ]
     },
     "execution_count": 51,
     "metadata": {},
     "output_type": "execute_result"
    }
   ],
   "source": [
    "colors.iloc[-2]\n",
    "# Expected:\n",
    "# 'green'"
   ]
  },
  {
   "cell_type": "markdown",
   "metadata": {},
   "source": [
    "Selbstverständlich können Elemente der Series auch weiterhin ohne Verwendung von loc oder iloc durch Verwendung des Index-Operators `[]` adressiert werden (hier gleichbedeutend mit loc)."
   ]
  },
  {
   "cell_type": "code",
   "execution_count": 52,
   "metadata": {},
   "outputs": [
    {
     "data": {
      "text/plain": [
       "'red'"
      ]
     },
     "execution_count": 52,
     "metadata": {},
     "output_type": "execute_result"
    }
   ],
   "source": [
    "colors[1]    "
   ]
  },
  {
   "cell_type": "markdown",
   "metadata": {},
   "source": [
    "## Zugriff auf `DataFrame` Elemente"
   ]
  },
  {
   "cell_type": "markdown",
   "metadata": {},
   "source": [
    "### Zugriff auf Spalten eines `DataFrame`\n",
    "\n",
    "Da ein DataFrame zwei Dimensionen besitzt, gibt es nun mehrere Möglichkeiten Elemente aus diesem zu selektieren. \n",
    "\n",
    "Sie können entweder \n",
    "* einen Teil der Spalten,\n",
    "* einen Teil der Zeilen oder\n",
    "* eine Kombination aus Zeilen und Spalten \n",
    "\n",
    "des DataFrames selektieren.\n",
    "\n",
    "Für die Spalten verwenden Sie den klassischen Python Index-Operator `[]` mit dem Indexwert für die jeweilige Spalte."
   ]
  },
  {
   "cell_type": "code",
   "execution_count": 53,
   "metadata": {},
   "outputs": [
    {
     "data": {
      "text/plain": [
       "Amsterdam    4200\n",
       "Tokyo        6500\n",
       "Toronto      8000\n",
       "Name: revenue, dtype: int64"
      ]
     },
     "execution_count": 53,
     "metadata": {},
     "output_type": "execute_result"
    }
   ],
   "source": [
    "city_data[\"revenue\"]\n",
    "# Expected:\n",
    "# Amsterdam    4200\n",
    "# Tokyo        6500\n",
    "# Toronto      8000\n",
    "# Name: revenue, dtype: int64"
   ]
  },
  {
   "cell_type": "markdown",
   "metadata": {},
   "source": [
    "Dieser jetzt eindimensionale Teil des DataFrames ist folgerichtig eine Series."
   ]
  },
  {
   "cell_type": "code",
   "execution_count": 54,
   "metadata": {},
   "outputs": [
    {
     "data": {
      "text/plain": [
       "pandas.core.series.Series"
      ]
     },
     "execution_count": 54,
     "metadata": {},
     "output_type": "execute_result"
    }
   ],
   "source": [
    "type(city_data[\"revenue\"])\n",
    "# Expected:\n",
    "# pandas.core.series.Series"
   ]
  },
  {
   "cell_type": "markdown",
   "metadata": {},
   "source": [
    "Alternativ kann auch über die Attribute des Dataframes auf eine Spalte zugegriffen werden."
   ]
  },
  {
   "cell_type": "code",
   "execution_count": 55,
   "metadata": {},
   "outputs": [
    {
     "data": {
      "text/plain": [
       "Amsterdam    4200\n",
       "Tokyo        6500\n",
       "Toronto      8000\n",
       "Name: revenue, dtype: int64"
      ]
     },
     "execution_count": 55,
     "metadata": {},
     "output_type": "execute_result"
    }
   ],
   "source": [
    "city_data.revenue\n",
    "# Expected:\n",
    "# Amsterdam    4200\n",
    "# Tokyo        6500\n",
    "# Toronto      8000\n",
    "# Name: revenue, dtype: int64"
   ]
  },
  {
   "cell_type": "markdown",
   "metadata": {},
   "source": [
    "Hier kann es aber zu Problemen mit den Namensbereichen kommen. So ist das Attribut `shape` ein allgemeines Attribut das die Dimensionen, sprich die Form des DataFrames beschreibt. Eine gleichnamige Spalte kann also so nicht angesprochen werden, da der Name bereits belegt ist. Auch sind so Zugriffe auf Spalten mit Sonderzeichen in den Indexwerten nicht möglich."
   ]
  },
  {
   "cell_type": "code",
   "execution_count": 56,
   "metadata": {},
   "outputs": [
    {
     "data": {
      "text/plain": [
       "0    sphere\n",
       "1      cube\n",
       "Name: shape, dtype: object"
      ]
     },
     "execution_count": 56,
     "metadata": {},
     "output_type": "execute_result"
    }
   ],
   "source": [
    "toys = pd.DataFrame([\n",
    "    {\"name\": \"ball\", \"shape\": \"sphere\"},\n",
    "    {\"name\": \"Rubik's cube\", \"shape\": \"cube\"}\n",
    "])\n",
    "toys[\"shape\"]\n",
    "# 0    sphere\n",
    "# 1      cube\n",
    "# Name: shape, dtype: object"
   ]
  },
  {
   "cell_type": "code",
   "execution_count": 57,
   "metadata": {},
   "outputs": [
    {
     "data": {
      "text/plain": [
       "(2, 2)"
      ]
     },
     "execution_count": 57,
     "metadata": {},
     "output_type": "execute_result"
    }
   ],
   "source": [
    "toys.shape\n",
    "# Expected:\n",
    "# (2, 2)"
   ]
  },
  {
   "cell_type": "markdown",
   "metadata": {},
   "source": [
    "### Zugriff auf Zeilen des `DataFrame` mit `.loc` und `.iloc`\n",
    "\n",
    "`iloc` und `loc` selektieren Zeilen des Dataframes wie oben beschrieben entweder explizit (`loc`) oder implizit (`iloc`). Wird nur eine Zeile selektiert so entsteht eine Series, werden mehrere Zeilen selektiert so ist das Ergebnis erneut ein DataFrame."
   ]
  },
  {
   "cell_type": "code",
   "execution_count": 58,
   "metadata": {},
   "outputs": [
    {
     "data": {
      "text/plain": [
       "revenue           4200.0\n",
       "employee_count       5.0\n",
       "Name: Amsterdam, dtype: float64"
      ]
     },
     "execution_count": 58,
     "metadata": {},
     "output_type": "execute_result"
    }
   ],
   "source": [
    "city_data.loc[\"Amsterdam\"]\n",
    "# Expected:\n",
    "# revenue           4200.0\n",
    "# employee_count       5.0\n",
    "# Name: Amsterdam, dtype: float64"
   ]
  },
  {
   "cell_type": "code",
   "execution_count": 59,
   "metadata": {},
   "outputs": [
    {
     "data": {
      "text/html": [
       "<div>\n",
       "<style scoped>\n",
       "    .dataframe tbody tr th:only-of-type {\n",
       "        vertical-align: middle;\n",
       "    }\n",
       "\n",
       "    .dataframe tbody tr th {\n",
       "        vertical-align: top;\n",
       "    }\n",
       "\n",
       "    .dataframe thead th {\n",
       "        text-align: right;\n",
       "    }\n",
       "</style>\n",
       "<table border=\"1\" class=\"dataframe\">\n",
       "  <thead>\n",
       "    <tr style=\"text-align: right;\">\n",
       "      <th></th>\n",
       "      <th>revenue</th>\n",
       "      <th>employee_count</th>\n",
       "    </tr>\n",
       "  </thead>\n",
       "  <tbody>\n",
       "    <tr>\n",
       "      <th>Tokyo</th>\n",
       "      <td>6500</td>\n",
       "      <td>8.0</td>\n",
       "    </tr>\n",
       "    <tr>\n",
       "      <th>Toronto</th>\n",
       "      <td>8000</td>\n",
       "      <td>NaN</td>\n",
       "    </tr>\n",
       "  </tbody>\n",
       "</table>\n",
       "</div>"
      ],
      "text/plain": [
       "         revenue  employee_count\n",
       "Tokyo       6500             8.0\n",
       "Toronto     8000             NaN"
      ]
     },
     "execution_count": 59,
     "metadata": {},
     "output_type": "execute_result"
    }
   ],
   "source": [
    "city_data.loc[\"Tokyo\": \"Toronto\"]\n",
    "# Expected:\n",
    "# revenue employee_count\n",
    "# Tokyo   6500    8.0\n",
    "# Toronto 8000    NaN"
   ]
  },
  {
   "cell_type": "code",
   "execution_count": 60,
   "metadata": {},
   "outputs": [
    {
     "data": {
      "text/plain": [
       "revenue           6500.0\n",
       "employee_count       8.0\n",
       "Name: Tokyo, dtype: float64"
      ]
     },
     "execution_count": 60,
     "metadata": {},
     "output_type": "execute_result"
    }
   ],
   "source": [
    "city_data.iloc[1]\n",
    "# Expected:\n",
    "# revenue           6500.0\n",
    "# employee_count       8.0\n",
    "# Name: Tokyo, dtype: float64"
   ]
  },
  {
   "cell_type": "markdown",
   "metadata": {},
   "source": [
    "Durch folgende Codezeile wird die vorletzte Zeile des nba Datasets ausgegeben:"
   ]
  },
  {
   "cell_type": "code",
   "execution_count": 61,
   "metadata": {},
   "outputs": [
    {
     "data": {
      "text/html": [
       "<div>\n",
       "<style scoped>\n",
       "    .dataframe tbody tr th:only-of-type {\n",
       "        vertical-align: middle;\n",
       "    }\n",
       "\n",
       "    .dataframe tbody tr th {\n",
       "        vertical-align: top;\n",
       "    }\n",
       "\n",
       "    .dataframe thead th {\n",
       "        text-align: right;\n",
       "    }\n",
       "</style>\n",
       "<table border=\"1\" class=\"dataframe\">\n",
       "  <thead>\n",
       "    <tr style=\"text-align: right;\">\n",
       "      <th></th>\n",
       "      <th>gameorder</th>\n",
       "      <th>game_id</th>\n",
       "      <th>lg_id</th>\n",
       "      <th>_iscopy</th>\n",
       "      <th>year_id</th>\n",
       "      <th>date_game</th>\n",
       "      <th>seasongame</th>\n",
       "      <th>is_playoffs</th>\n",
       "      <th>team_id</th>\n",
       "      <th>fran_id</th>\n",
       "      <th>pts</th>\n",
       "      <th>elo_i</th>\n",
       "      <th>elo_n</th>\n",
       "      <th>win_equiv</th>\n",
       "      <th>opp_id</th>\n",
       "      <th>opp_fran</th>\n",
       "      <th>opp_pts</th>\n",
       "      <th>opp_elo_i</th>\n",
       "      <th>opp_elo_n</th>\n",
       "      <th>game_location</th>\n",
       "      <th>game_result</th>\n",
       "      <th>forecast</th>\n",
       "      <th>notes</th>\n",
       "      <th>date_played</th>\n",
       "    </tr>\n",
       "  </thead>\n",
       "  <tbody>\n",
       "    <tr>\n",
       "      <th>126312</th>\n",
       "      <td>63157</td>\n",
       "      <td>201506170CLE</td>\n",
       "      <td>NBA</td>\n",
       "      <td>0</td>\n",
       "      <td>2015</td>\n",
       "      <td>6/16/2015</td>\n",
       "      <td>102</td>\n",
       "      <td>1</td>\n",
       "      <td>CLE</td>\n",
       "      <td>Cavaliers</td>\n",
       "      <td>97</td>\n",
       "      <td>1700.74</td>\n",
       "      <td>1692.09</td>\n",
       "      <td>59.29</td>\n",
       "      <td>GSW</td>\n",
       "      <td>Warriors</td>\n",
       "      <td>105</td>\n",
       "      <td>1813.63</td>\n",
       "      <td>1822.29</td>\n",
       "      <td>H</td>\n",
       "      <td>L</td>\n",
       "      <td>0.48</td>\n",
       "      <td>NaN</td>\n",
       "      <td>2015-06-16</td>\n",
       "    </tr>\n",
       "  </tbody>\n",
       "</table>\n",
       "</div>"
      ],
      "text/plain": [
       "        gameorder       game_id lg_id  _iscopy  year_id  date_game  \\\n",
       "126312      63157  201506170CLE   NBA        0     2015  6/16/2015   \n",
       "\n",
       "        seasongame  is_playoffs team_id    fran_id  pts    elo_i    elo_n  \\\n",
       "126312         102            1     CLE  Cavaliers   97  1700.74  1692.09   \n",
       "\n",
       "        win_equiv opp_id  opp_fran  opp_pts  opp_elo_i  opp_elo_n  \\\n",
       "126312      59.29    GSW  Warriors      105    1813.63    1822.29   \n",
       "\n",
       "       game_location game_result  forecast notes date_played  \n",
       "126312             H           L      0.48   NaN  2015-06-16  "
      ]
     },
     "execution_count": 61,
     "metadata": {},
     "output_type": "execute_result"
    }
   ],
   "source": [
    "nba.iloc[[-2]]"
   ]
  },
  {
   "cell_type": "markdown",
   "metadata": {},
   "source": [
    "### Zugriff auf eine Teilmenge von Zeilen `und` Spalten eines `DataFrame` mit `.loc` und `.iloc`\n",
    "\n",
    "Indem man `loc` eine durch Komma getrennte Kombination aus Indexwerten für beide Achsen übergibt, erhält man bestimmte Spalten für einen Teil der Zeilen. Grundsätzlich lautet die Syntax `data_frame_name.loc[gewünschte_Zeilen, gewünschte_Spalten]`.\n",
    "Im folgenden Beispiel wird im Zeilenindex ein Wertebereich und für den Spaltenindex ein Einzelwert ausgewählt."
   ]
  },
  {
   "cell_type": "code",
   "execution_count": 62,
   "metadata": {},
   "outputs": [
    {
     "data": {
      "text/plain": [
       "Amsterdam    4200\n",
       "Tokyo        6500\n",
       "Name: revenue, dtype: int64"
      ]
     },
     "execution_count": 62,
     "metadata": {},
     "output_type": "execute_result"
    }
   ],
   "source": [
    "city_data.loc[\"Amsterdam\": \"Tokyo\",  \"revenue\"]  # Von Amsterdam bis Tokyo interessiert uns der revenue.\n",
    "# Expected:\n",
    "# Amsterdam    4200\n",
    "# Tokyo        6500\n",
    "# Name: revenue, dtype: int64"
   ]
  },
  {
   "cell_type": "code",
   "execution_count": 63,
   "metadata": {},
   "outputs": [
    {
     "data": {
      "text/plain": [
       "Amsterdam    4200\n",
       "Toronto      8000\n",
       "Name: revenue, dtype: int64"
      ]
     },
     "execution_count": 63,
     "metadata": {},
     "output_type": "execute_result"
    }
   ],
   "source": [
    "city_data.loc[[\"Amsterdam\", \"Toronto\"],\"revenue\"]   # Nur für Amsterdam und Toronto interessiert uns der revenue.\n",
    "# Expected:\n",
    "# Amsterdam    4200\n",
    "# Toronto      8000\n",
    "# Name: revenue, dtype: int64"
   ]
  },
  {
   "cell_type": "markdown",
   "metadata": {},
   "source": [
    "#### Aufgabe\n",
    "\n",
    "Schauen Sie sich die Spiele mit den Labels 5555 und 5559 an. Wir interessieren uns für die Namen der beteiligten Mannschaften und die jeweils erzielten Punkte.\n"
   ]
  },
  {
   "cell_type": "code",
   "execution_count": null,
   "metadata": {},
   "outputs": [],
   "source": []
  },
  {
   "cell_type": "markdown",
   "metadata": {},
   "source": [
    "## Abfragen mit Pandas\n",
    "\n",
    "Nicht immer sind direkte Selektionen möglich oder gewollt. Oft muss ein Bereich nach einem bestimmten Kriterium oder einer Kombination von Kriterien durchsucht werden. Dazu können Sie direkt nach dem Namens des DataFrame in eckigen Klammern eine Reihe von Bedingungen angeben nach denen die zu selektierenden Zeilen ausgewählt werden."
   ]
  },
  {
   "cell_type": "code",
   "execution_count": 64,
   "metadata": {},
   "outputs": [
    {
     "data": {
      "text/html": [
       "<div>\n",
       "<style scoped>\n",
       "    .dataframe tbody tr th:only-of-type {\n",
       "        vertical-align: middle;\n",
       "    }\n",
       "\n",
       "    .dataframe tbody tr th {\n",
       "        vertical-align: top;\n",
       "    }\n",
       "\n",
       "    .dataframe thead th {\n",
       "        text-align: right;\n",
       "    }\n",
       "</style>\n",
       "<table border=\"1\" class=\"dataframe\">\n",
       "  <thead>\n",
       "    <tr style=\"text-align: right;\">\n",
       "      <th></th>\n",
       "      <th>gameorder</th>\n",
       "      <th>game_id</th>\n",
       "      <th>lg_id</th>\n",
       "      <th>_iscopy</th>\n",
       "      <th>year_id</th>\n",
       "      <th>date_game</th>\n",
       "      <th>seasongame</th>\n",
       "      <th>is_playoffs</th>\n",
       "      <th>team_id</th>\n",
       "      <th>fran_id</th>\n",
       "      <th>pts</th>\n",
       "      <th>elo_i</th>\n",
       "      <th>elo_n</th>\n",
       "      <th>win_equiv</th>\n",
       "      <th>opp_id</th>\n",
       "      <th>opp_fran</th>\n",
       "      <th>opp_pts</th>\n",
       "      <th>opp_elo_i</th>\n",
       "      <th>opp_elo_n</th>\n",
       "      <th>game_location</th>\n",
       "      <th>game_result</th>\n",
       "      <th>forecast</th>\n",
       "      <th>notes</th>\n",
       "      <th>date_played</th>\n",
       "    </tr>\n",
       "  </thead>\n",
       "  <tbody>\n",
       "    <tr>\n",
       "      <th>113656</th>\n",
       "      <td>56829</td>\n",
       "      <td>201010260BOS</td>\n",
       "      <td>NBA</td>\n",
       "      <td>1</td>\n",
       "      <td>2011</td>\n",
       "      <td>10/26/2010</td>\n",
       "      <td>1</td>\n",
       "      <td>0</td>\n",
       "      <td>MIA</td>\n",
       "      <td>Heat</td>\n",
       "      <td>80</td>\n",
       "      <td>1547.36</td>\n",
       "      <td>1543.16</td>\n",
       "      <td>45.14</td>\n",
       "      <td>BOS</td>\n",
       "      <td>Celtics</td>\n",
       "      <td>88</td>\n",
       "      <td>1625.10</td>\n",
       "      <td>1629.30</td>\n",
       "      <td>A</td>\n",
       "      <td>L</td>\n",
       "      <td>0.26</td>\n",
       "      <td>NaN</td>\n",
       "      <td>2010-10-26</td>\n",
       "    </tr>\n",
       "    <tr>\n",
       "      <th>113657</th>\n",
       "      <td>56829</td>\n",
       "      <td>201010260BOS</td>\n",
       "      <td>NBA</td>\n",
       "      <td>0</td>\n",
       "      <td>2011</td>\n",
       "      <td>10/26/2010</td>\n",
       "      <td>1</td>\n",
       "      <td>0</td>\n",
       "      <td>BOS</td>\n",
       "      <td>Celtics</td>\n",
       "      <td>88</td>\n",
       "      <td>1625.10</td>\n",
       "      <td>1629.30</td>\n",
       "      <td>53.75</td>\n",
       "      <td>MIA</td>\n",
       "      <td>Heat</td>\n",
       "      <td>80</td>\n",
       "      <td>1547.36</td>\n",
       "      <td>1543.16</td>\n",
       "      <td>H</td>\n",
       "      <td>W</td>\n",
       "      <td>0.74</td>\n",
       "      <td>NaN</td>\n",
       "      <td>2010-10-26</td>\n",
       "    </tr>\n",
       "    <tr>\n",
       "      <th>113658</th>\n",
       "      <td>56830</td>\n",
       "      <td>201010260LAL</td>\n",
       "      <td>NBA</td>\n",
       "      <td>1</td>\n",
       "      <td>2011</td>\n",
       "      <td>10/26/2010</td>\n",
       "      <td>1</td>\n",
       "      <td>0</td>\n",
       "      <td>HOU</td>\n",
       "      <td>Rockets</td>\n",
       "      <td>110</td>\n",
       "      <td>1504.20</td>\n",
       "      <td>1502.60</td>\n",
       "      <td>40.90</td>\n",
       "      <td>LAL</td>\n",
       "      <td>Lakers</td>\n",
       "      <td>112</td>\n",
       "      <td>1647.60</td>\n",
       "      <td>1649.20</td>\n",
       "      <td>A</td>\n",
       "      <td>L</td>\n",
       "      <td>0.20</td>\n",
       "      <td>NaN</td>\n",
       "      <td>2010-10-26</td>\n",
       "    </tr>\n",
       "    <tr>\n",
       "      <th>113659</th>\n",
       "      <td>56830</td>\n",
       "      <td>201010260LAL</td>\n",
       "      <td>NBA</td>\n",
       "      <td>0</td>\n",
       "      <td>2011</td>\n",
       "      <td>10/26/2010</td>\n",
       "      <td>1</td>\n",
       "      <td>0</td>\n",
       "      <td>LAL</td>\n",
       "      <td>Lakers</td>\n",
       "      <td>112</td>\n",
       "      <td>1647.60</td>\n",
       "      <td>1649.20</td>\n",
       "      <td>55.61</td>\n",
       "      <td>HOU</td>\n",
       "      <td>Rockets</td>\n",
       "      <td>110</td>\n",
       "      <td>1504.20</td>\n",
       "      <td>1502.60</td>\n",
       "      <td>H</td>\n",
       "      <td>W</td>\n",
       "      <td>0.80</td>\n",
       "      <td>NaN</td>\n",
       "      <td>2010-10-26</td>\n",
       "    </tr>\n",
       "    <tr>\n",
       "      <th>113660</th>\n",
       "      <td>56831</td>\n",
       "      <td>201010260POR</td>\n",
       "      <td>NBA</td>\n",
       "      <td>1</td>\n",
       "      <td>2011</td>\n",
       "      <td>10/26/2010</td>\n",
       "      <td>1</td>\n",
       "      <td>0</td>\n",
       "      <td>PHO</td>\n",
       "      <td>Suns</td>\n",
       "      <td>92</td>\n",
       "      <td>1643.02</td>\n",
       "      <td>1630.62</td>\n",
       "      <td>53.88</td>\n",
       "      <td>POR</td>\n",
       "      <td>Trailblazers</td>\n",
       "      <td>106</td>\n",
       "      <td>1552.81</td>\n",
       "      <td>1565.22</td>\n",
       "      <td>A</td>\n",
       "      <td>L</td>\n",
       "      <td>0.49</td>\n",
       "      <td>NaN</td>\n",
       "      <td>2010-10-26</td>\n",
       "    </tr>\n",
       "    <tr>\n",
       "      <th>...</th>\n",
       "      <td>...</td>\n",
       "      <td>...</td>\n",
       "      <td>...</td>\n",
       "      <td>...</td>\n",
       "      <td>...</td>\n",
       "      <td>...</td>\n",
       "      <td>...</td>\n",
       "      <td>...</td>\n",
       "      <td>...</td>\n",
       "      <td>...</td>\n",
       "      <td>...</td>\n",
       "      <td>...</td>\n",
       "      <td>...</td>\n",
       "      <td>...</td>\n",
       "      <td>...</td>\n",
       "      <td>...</td>\n",
       "      <td>...</td>\n",
       "      <td>...</td>\n",
       "      <td>...</td>\n",
       "      <td>...</td>\n",
       "      <td>...</td>\n",
       "      <td>...</td>\n",
       "      <td>...</td>\n",
       "      <td>...</td>\n",
       "    </tr>\n",
       "    <tr>\n",
       "      <th>126309</th>\n",
       "      <td>63155</td>\n",
       "      <td>201506110CLE</td>\n",
       "      <td>NBA</td>\n",
       "      <td>0</td>\n",
       "      <td>2015</td>\n",
       "      <td>6/11/2015</td>\n",
       "      <td>100</td>\n",
       "      <td>1</td>\n",
       "      <td>CLE</td>\n",
       "      <td>Cavaliers</td>\n",
       "      <td>82</td>\n",
       "      <td>1723.41</td>\n",
       "      <td>1704.39</td>\n",
       "      <td>60.31</td>\n",
       "      <td>GSW</td>\n",
       "      <td>Warriors</td>\n",
       "      <td>103</td>\n",
       "      <td>1790.96</td>\n",
       "      <td>1809.98</td>\n",
       "      <td>H</td>\n",
       "      <td>L</td>\n",
       "      <td>0.55</td>\n",
       "      <td>NaN</td>\n",
       "      <td>2015-06-11</td>\n",
       "    </tr>\n",
       "    <tr>\n",
       "      <th>126310</th>\n",
       "      <td>63156</td>\n",
       "      <td>201506140GSW</td>\n",
       "      <td>NBA</td>\n",
       "      <td>0</td>\n",
       "      <td>2015</td>\n",
       "      <td>6/14/2015</td>\n",
       "      <td>102</td>\n",
       "      <td>1</td>\n",
       "      <td>GSW</td>\n",
       "      <td>Warriors</td>\n",
       "      <td>104</td>\n",
       "      <td>1809.98</td>\n",
       "      <td>1813.63</td>\n",
       "      <td>68.01</td>\n",
       "      <td>CLE</td>\n",
       "      <td>Cavaliers</td>\n",
       "      <td>91</td>\n",
       "      <td>1704.39</td>\n",
       "      <td>1700.74</td>\n",
       "      <td>H</td>\n",
       "      <td>W</td>\n",
       "      <td>0.77</td>\n",
       "      <td>NaN</td>\n",
       "      <td>2015-06-14</td>\n",
       "    </tr>\n",
       "    <tr>\n",
       "      <th>126311</th>\n",
       "      <td>63156</td>\n",
       "      <td>201506140GSW</td>\n",
       "      <td>NBA</td>\n",
       "      <td>1</td>\n",
       "      <td>2015</td>\n",
       "      <td>6/14/2015</td>\n",
       "      <td>101</td>\n",
       "      <td>1</td>\n",
       "      <td>CLE</td>\n",
       "      <td>Cavaliers</td>\n",
       "      <td>91</td>\n",
       "      <td>1704.39</td>\n",
       "      <td>1700.74</td>\n",
       "      <td>60.01</td>\n",
       "      <td>GSW</td>\n",
       "      <td>Warriors</td>\n",
       "      <td>104</td>\n",
       "      <td>1809.98</td>\n",
       "      <td>1813.63</td>\n",
       "      <td>A</td>\n",
       "      <td>L</td>\n",
       "      <td>0.23</td>\n",
       "      <td>NaN</td>\n",
       "      <td>2015-06-14</td>\n",
       "    </tr>\n",
       "    <tr>\n",
       "      <th>126312</th>\n",
       "      <td>63157</td>\n",
       "      <td>201506170CLE</td>\n",
       "      <td>NBA</td>\n",
       "      <td>0</td>\n",
       "      <td>2015</td>\n",
       "      <td>6/16/2015</td>\n",
       "      <td>102</td>\n",
       "      <td>1</td>\n",
       "      <td>CLE</td>\n",
       "      <td>Cavaliers</td>\n",
       "      <td>97</td>\n",
       "      <td>1700.74</td>\n",
       "      <td>1692.09</td>\n",
       "      <td>59.29</td>\n",
       "      <td>GSW</td>\n",
       "      <td>Warriors</td>\n",
       "      <td>105</td>\n",
       "      <td>1813.63</td>\n",
       "      <td>1822.29</td>\n",
       "      <td>H</td>\n",
       "      <td>L</td>\n",
       "      <td>0.48</td>\n",
       "      <td>NaN</td>\n",
       "      <td>2015-06-16</td>\n",
       "    </tr>\n",
       "    <tr>\n",
       "      <th>126313</th>\n",
       "      <td>63157</td>\n",
       "      <td>201506170CLE</td>\n",
       "      <td>NBA</td>\n",
       "      <td>1</td>\n",
       "      <td>2015</td>\n",
       "      <td>6/16/2015</td>\n",
       "      <td>103</td>\n",
       "      <td>1</td>\n",
       "      <td>GSW</td>\n",
       "      <td>Warriors</td>\n",
       "      <td>105</td>\n",
       "      <td>1813.63</td>\n",
       "      <td>1822.29</td>\n",
       "      <td>68.52</td>\n",
       "      <td>CLE</td>\n",
       "      <td>Cavaliers</td>\n",
       "      <td>97</td>\n",
       "      <td>1700.74</td>\n",
       "      <td>1692.09</td>\n",
       "      <td>A</td>\n",
       "      <td>W</td>\n",
       "      <td>0.52</td>\n",
       "      <td>NaN</td>\n",
       "      <td>2015-06-16</td>\n",
       "    </tr>\n",
       "  </tbody>\n",
       "</table>\n",
       "<p>12658 rows × 24 columns</p>\n",
       "</div>"
      ],
      "text/plain": [
       "        gameorder       game_id lg_id  _iscopy  year_id   date_game  \\\n",
       "113656      56829  201010260BOS   NBA        1     2011  10/26/2010   \n",
       "113657      56829  201010260BOS   NBA        0     2011  10/26/2010   \n",
       "113658      56830  201010260LAL   NBA        1     2011  10/26/2010   \n",
       "113659      56830  201010260LAL   NBA        0     2011  10/26/2010   \n",
       "113660      56831  201010260POR   NBA        1     2011  10/26/2010   \n",
       "...           ...           ...   ...      ...      ...         ...   \n",
       "126309      63155  201506110CLE   NBA        0     2015   6/11/2015   \n",
       "126310      63156  201506140GSW   NBA        0     2015   6/14/2015   \n",
       "126311      63156  201506140GSW   NBA        1     2015   6/14/2015   \n",
       "126312      63157  201506170CLE   NBA        0     2015   6/16/2015   \n",
       "126313      63157  201506170CLE   NBA        1     2015   6/16/2015   \n",
       "\n",
       "        seasongame  is_playoffs team_id    fran_id  pts    elo_i    elo_n  \\\n",
       "113656           1            0     MIA       Heat   80  1547.36  1543.16   \n",
       "113657           1            0     BOS    Celtics   88  1625.10  1629.30   \n",
       "113658           1            0     HOU    Rockets  110  1504.20  1502.60   \n",
       "113659           1            0     LAL     Lakers  112  1647.60  1649.20   \n",
       "113660           1            0     PHO       Suns   92  1643.02  1630.62   \n",
       "...            ...          ...     ...        ...  ...      ...      ...   \n",
       "126309         100            1     CLE  Cavaliers   82  1723.41  1704.39   \n",
       "126310         102            1     GSW   Warriors  104  1809.98  1813.63   \n",
       "126311         101            1     CLE  Cavaliers   91  1704.39  1700.74   \n",
       "126312         102            1     CLE  Cavaliers   97  1700.74  1692.09   \n",
       "126313         103            1     GSW   Warriors  105  1813.63  1822.29   \n",
       "\n",
       "        win_equiv opp_id      opp_fran  opp_pts  opp_elo_i  opp_elo_n  \\\n",
       "113656      45.14    BOS       Celtics       88    1625.10    1629.30   \n",
       "113657      53.75    MIA          Heat       80    1547.36    1543.16   \n",
       "113658      40.90    LAL        Lakers      112    1647.60    1649.20   \n",
       "113659      55.61    HOU       Rockets      110    1504.20    1502.60   \n",
       "113660      53.88    POR  Trailblazers      106    1552.81    1565.22   \n",
       "...           ...    ...           ...      ...        ...        ...   \n",
       "126309      60.31    GSW      Warriors      103    1790.96    1809.98   \n",
       "126310      68.01    CLE     Cavaliers       91    1704.39    1700.74   \n",
       "126311      60.01    GSW      Warriors      104    1809.98    1813.63   \n",
       "126312      59.29    GSW      Warriors      105    1813.63    1822.29   \n",
       "126313      68.52    CLE     Cavaliers       97    1700.74    1692.09   \n",
       "\n",
       "       game_location game_result  forecast notes date_played  \n",
       "113656             A           L      0.26   NaN  2010-10-26  \n",
       "113657             H           W      0.74   NaN  2010-10-26  \n",
       "113658             A           L      0.20   NaN  2010-10-26  \n",
       "113659             H           W      0.80   NaN  2010-10-26  \n",
       "113660             A           L      0.49   NaN  2010-10-26  \n",
       "...              ...         ...       ...   ...         ...  \n",
       "126309             H           L      0.55   NaN  2015-06-11  \n",
       "126310             H           W      0.77   NaN  2015-06-14  \n",
       "126311             A           L      0.23   NaN  2015-06-14  \n",
       "126312             H           L      0.48   NaN  2015-06-16  \n",
       "126313             A           W      0.52   NaN  2015-06-16  \n",
       "\n",
       "[12658 rows x 24 columns]"
      ]
     },
     "execution_count": 64,
     "metadata": {},
     "output_type": "execute_result"
    }
   ],
   "source": [
    "nba[nba[\"year_id\"] > 2010]\n",
    "# Expected:\n",
    "# 12658 rows × 24 columns"
   ]
  },
  {
   "cell_type": "markdown",
   "metadata": {},
   "source": [
    "Es können neue DataFrames für die spätere Verwendung auch auf Basis einer Selektion auf einen bestehenden DataFrame angelegt werden. Dies ist für Zwischenergebnisse oft sehr sinnvoll."
   ]
  },
  {
   "cell_type": "code",
   "execution_count": 65,
   "metadata": {},
   "outputs": [
    {
     "data": {
      "text/plain": [
       "(5424, 24)"
      ]
     },
     "execution_count": 65,
     "metadata": {},
     "output_type": "execute_result"
    }
   ],
   "source": [
    "games_with_notes = nba[nba[\"notes\"].notnull()]\n",
    "games_with_notes.shape\n",
    "# Expected:\n",
    "# (5424, 24)"
   ]
  },
  {
   "cell_type": "code",
   "execution_count": 66,
   "metadata": {},
   "outputs": [
    {
     "data": {
      "text/plain": [
       "(27797, 24)"
      ]
     },
     "execution_count": 66,
     "metadata": {},
     "output_type": "execute_result"
    }
   ],
   "source": [
    "ers = nba[nba[\"fran_id\"].str.endswith(\"ers\")]\n",
    "ers.shape\n",
    "# Expected:\n",
    "# (27797, 24)"
   ]
  },
  {
   "cell_type": "markdown",
   "metadata": {},
   "source": [
    "Sollen anschließend noch bestimmte Spalten oder gar explizit Zeilen ausgeschlossen werden, so kann die `loc`-Funktion angehängt werden."
   ]
  },
  {
   "cell_type": "code",
   "execution_count": 67,
   "metadata": {},
   "outputs": [
    {
     "data": {
      "text/plain": [
       "1726    Baltimore\n",
       "4890    Baltimore\n",
       "4909    Baltimore\n",
       "5208    Baltimore\n",
       "5825    Baltimore\n",
       "Name: fran_id, dtype: object"
      ]
     },
     "execution_count": 67,
     "metadata": {},
     "output_type": "execute_result"
    }
   ],
   "source": [
    "nba[\n",
    "    (nba[\"_iscopy\"] == 0) &\n",
    "    (nba[\"pts\"] > 100) &\n",
    "    (nba[\"opp_pts\"] > 100) &\n",
    "    (nba[\"team_id\"] == \"BLB\")\n",
    "].loc[:,\"fran_id\"]\n",
    "# Expected:\n",
    "# 1726    Baltimore\n",
    "# 4890    Baltimore\n",
    "# 4909    Baltimore\n",
    "# 5208    Baltimore\n",
    "# 5825    Baltimore\n",
    "# Name: fran_id, dtype: object"
   ]
  },
  {
   "cell_type": "markdown",
   "metadata": {},
   "source": [
    "Im Frühjahr des Jahres 1992 mussten beide Teams aus Los Angeles ein Heimspiel an einem anderen Ort abhalten. (Beide Spiele haben eine ID die mit \"LA\" beginnt. Änderungen und Bemerkungen sind in der Spalte notes vermerkt.)\n",
    "\n",
    "[Hintergrund](https://de.wikipedia.org/wiki/Unruhen_in_Los_Angeles_1992)"
   ]
  },
  {
   "cell_type": "code",
   "execution_count": 68,
   "metadata": {},
   "outputs": [
    {
     "data": {
      "text/html": [
       "<div>\n",
       "<style scoped>\n",
       "    .dataframe tbody tr th:only-of-type {\n",
       "        vertical-align: middle;\n",
       "    }\n",
       "\n",
       "    .dataframe tbody tr th {\n",
       "        vertical-align: top;\n",
       "    }\n",
       "\n",
       "    .dataframe thead th {\n",
       "        text-align: right;\n",
       "    }\n",
       "</style>\n",
       "<table border=\"1\" class=\"dataframe\">\n",
       "  <thead>\n",
       "    <tr style=\"text-align: right;\">\n",
       "      <th></th>\n",
       "      <th>gameorder</th>\n",
       "      <th>game_id</th>\n",
       "      <th>lg_id</th>\n",
       "      <th>_iscopy</th>\n",
       "      <th>year_id</th>\n",
       "      <th>date_game</th>\n",
       "      <th>seasongame</th>\n",
       "      <th>is_playoffs</th>\n",
       "      <th>team_id</th>\n",
       "      <th>fran_id</th>\n",
       "      <th>pts</th>\n",
       "      <th>elo_i</th>\n",
       "      <th>elo_n</th>\n",
       "      <th>win_equiv</th>\n",
       "      <th>opp_id</th>\n",
       "      <th>opp_fran</th>\n",
       "      <th>opp_pts</th>\n",
       "      <th>opp_elo_i</th>\n",
       "      <th>opp_elo_n</th>\n",
       "      <th>game_location</th>\n",
       "      <th>game_result</th>\n",
       "      <th>forecast</th>\n",
       "      <th>notes</th>\n",
       "      <th>date_played</th>\n",
       "    </tr>\n",
       "  </thead>\n",
       "  <tbody>\n",
       "    <tr>\n",
       "      <th>68901</th>\n",
       "      <td>34451</td>\n",
       "      <td>199205030LAC</td>\n",
       "      <td>NBA</td>\n",
       "      <td>0</td>\n",
       "      <td>1992</td>\n",
       "      <td>5/3/1992</td>\n",
       "      <td>86</td>\n",
       "      <td>1</td>\n",
       "      <td>LAC</td>\n",
       "      <td>Clippers</td>\n",
       "      <td>115</td>\n",
       "      <td>1546.90</td>\n",
       "      <td>1556.0</td>\n",
       "      <td>47.89</td>\n",
       "      <td>UTA</td>\n",
       "      <td>Jazz</td>\n",
       "      <td>107</td>\n",
       "      <td>1647.51</td>\n",
       "      <td>1638.41</td>\n",
       "      <td>H</td>\n",
       "      <td>W</td>\n",
       "      <td>0.50</td>\n",
       "      <td>at Anaheim, CA (Anaheim Convention Center)</td>\n",
       "      <td>1992-05-03</td>\n",
       "    </tr>\n",
       "    <tr>\n",
       "      <th>68903</th>\n",
       "      <td>34452</td>\n",
       "      <td>199205030LAL</td>\n",
       "      <td>NBA</td>\n",
       "      <td>0</td>\n",
       "      <td>1992</td>\n",
       "      <td>5/3/1992</td>\n",
       "      <td>86</td>\n",
       "      <td>1</td>\n",
       "      <td>LAL</td>\n",
       "      <td>Lakers</td>\n",
       "      <td>76</td>\n",
       "      <td>1489.65</td>\n",
       "      <td>1474.4</td>\n",
       "      <td>39.40</td>\n",
       "      <td>POR</td>\n",
       "      <td>Trailblazers</td>\n",
       "      <td>102</td>\n",
       "      <td>1655.12</td>\n",
       "      <td>1670.37</td>\n",
       "      <td>H</td>\n",
       "      <td>L</td>\n",
       "      <td>0.41</td>\n",
       "      <td>at Las Vegas, NV</td>\n",
       "      <td>1992-05-03</td>\n",
       "    </tr>\n",
       "  </tbody>\n",
       "</table>\n",
       "</div>"
      ],
      "text/plain": [
       "       gameorder       game_id lg_id  _iscopy  year_id date_game  seasongame  \\\n",
       "68901      34451  199205030LAC   NBA        0     1992  5/3/1992          86   \n",
       "68903      34452  199205030LAL   NBA        0     1992  5/3/1992          86   \n",
       "\n",
       "       is_playoffs team_id   fran_id  pts    elo_i   elo_n  win_equiv opp_id  \\\n",
       "68901            1     LAC  Clippers  115  1546.90  1556.0      47.89    UTA   \n",
       "68903            1     LAL    Lakers   76  1489.65  1474.4      39.40    POR   \n",
       "\n",
       "           opp_fran  opp_pts  opp_elo_i  opp_elo_n game_location game_result  \\\n",
       "68901          Jazz      107    1647.51    1638.41             H           W   \n",
       "68903  Trailblazers      102    1655.12    1670.37             H           L   \n",
       "\n",
       "       forecast                                       notes date_played  \n",
       "68901      0.50  at Anaheim, CA (Anaheim Convention Center)  1992-05-03  \n",
       "68903      0.41                            at Las Vegas, NV  1992-05-03  "
      ]
     },
     "execution_count": 68,
     "metadata": {},
     "output_type": "execute_result"
    }
   ],
   "source": [
    "nba[\n",
    "    (nba[\"team_id\"].str.startswith(\"LA\")) &\n",
    "    (nba[\"date_played\"] >= \"1992-01-01\") &\n",
    "    (nba[\"date_played\"] < \"1993-01-01\") &\n",
    "    (nba[\"notes\"].notnull())\n",
    "]"
   ]
  },
  {
   "cell_type": "markdown",
   "metadata": {},
   "source": [
    "## Aggregationsfunktionen\n",
    "\n",
    "Aggregationsfunktionen werden verwendet, um zusammenfassende Berechnungen über mehrere Werte oder sogar ganze Spalten durchzuführen. \n",
    "Sie sind in der Regel auf numerische Werte beschränkt.\n",
    "\n",
    "Gängige Funktionen sind:\n",
    "* Min\n",
    "* Max\n",
    "* Count\n",
    "* Sum"
   ]
  },
  {
   "cell_type": "markdown",
   "metadata": {},
   "source": [
    "### Aggregationen für `Series`"
   ]
  },
  {
   "cell_type": "code",
   "execution_count": 69,
   "metadata": {},
   "outputs": [
    {
     "data": {
      "text/plain": [
       "18700"
      ]
     },
     "execution_count": 69,
     "metadata": {},
     "output_type": "execute_result"
    }
   ],
   "source": [
    "city_revenues.sum()\n",
    "# Expected:\n",
    "# 18700"
   ]
  },
  {
   "cell_type": "code",
   "execution_count": 70,
   "metadata": {},
   "outputs": [
    {
     "data": {
      "text/plain": [
       "8000"
      ]
     },
     "execution_count": 70,
     "metadata": {},
     "output_type": "execute_result"
    }
   ],
   "source": [
    "city_revenues.max()\n",
    "# Expected:\n",
    "# 8000"
   ]
  },
  {
   "cell_type": "markdown",
   "metadata": {},
   "source": [
    "### Aggregationen für `DataFrames`\n",
    "\n",
    "Diese funktionieren analog zu Series, jedoch ist in den meisten Fällen die Einschränkung auf eine oder mehrere Spalten sinnvoll.\n"
   ]
  },
  {
   "cell_type": "code",
   "execution_count": 71,
   "metadata": {},
   "outputs": [
    {
     "data": {
      "text/plain": [
       "pandas.core.series.Series"
      ]
     },
     "execution_count": 71,
     "metadata": {},
     "output_type": "execute_result"
    }
   ],
   "source": [
    "points = nba[\"pts\"]\n",
    "type(points)\n",
    "# Expected:\n",
    "# <class 'pandas.core.series.Series'>"
   ]
  },
  {
   "cell_type": "code",
   "execution_count": 72,
   "metadata": {},
   "outputs": [
    {
     "data": {
      "text/plain": [
       "12976235"
      ]
     },
     "execution_count": 72,
     "metadata": {},
     "output_type": "execute_result"
    }
   ],
   "source": [
    "points.sum()\n",
    "# Expected:\n",
    "# 12976235"
   ]
  },
  {
   "cell_type": "markdown",
   "metadata": {},
   "source": [
    "Das funktioniert natürlich auch ohne Zwischenspeichern:"
   ]
  },
  {
   "cell_type": "code",
   "execution_count": 73,
   "metadata": {},
   "outputs": [
    {
     "data": {
      "text/plain": [
       "12976235"
      ]
     },
     "execution_count": 73,
     "metadata": {},
     "output_type": "execute_result"
    }
   ],
   "source": [
    "nba[\"pts\"].sum()\n",
    "# Expected:\n",
    "# 12976235"
   ]
  },
  {
   "cell_type": "markdown",
   "metadata": {},
   "source": [
    "### Grouping (Gruppen)\n",
    "\n",
    "Sollen nun die gesammelten Punkte für jedes Team separat und nicht für die gesamte Liga aufsummiert werden, muss die `groupby`-Funktion verwendet werden.\n",
    "Dabei werden die Gruppen (also die Teams) während der Laufzeit aus den Daten ermittelt und die Punkte auf einem \"Punktekonto\" für jedes gefundene Team gesammelt."
   ]
  },
  {
   "cell_type": "code",
   "execution_count": 74,
   "metadata": {},
   "outputs": [
    {
     "data": {
      "text/plain": [
       "fran_id\n",
       "Huskies           3995\n",
       "Knicks          582497\n",
       "Stags            20398\n",
       "Falcons           3797\n",
       "Capitols         22387\n",
       "Celtics         626484\n",
       "Steamrollers     12372\n",
       "Ironmen           3674\n",
       "Bombers          17793\n",
       "Rebels            4474\n",
       "Warriors        591224\n",
       "Baltimore        37219\n",
       "Jets              4482\n",
       "Pistons         572758\n",
       "Lakers          637444\n",
       "Kings           569245\n",
       "Hawks           567261\n",
       "Denver            4818\n",
       "Olympians        22864\n",
       "Redskins          5372\n",
       "Waterloo          4921\n",
       "Packers           6193\n",
       "Sixers          585891\n",
       "Wizards         474809\n",
       "Bulls           437269\n",
       "Thunder         437735\n",
       "Squires          91127\n",
       "Stars            84940\n",
       "Rockets         432504\n",
       "Colonels         94435\n",
       "Pacers          438288\n",
       "Nuggets         445780\n",
       "Spurs           453822\n",
       "Spirits          85874\n",
       "Sounds           75582\n",
       "Floridians       49568\n",
       "Nets            417809\n",
       "Condors          49642\n",
       "Bucks           418326\n",
       "Suns            437486\n",
       "Clippers        380523\n",
       "Cavaliers       380416\n",
       "Trailblazers    402695\n",
       "Sails            30080\n",
       "Jazz            363155\n",
       "Mavericks       309239\n",
       "Pelicans        220794\n",
       "Heat            229103\n",
       "Timberwolves    207693\n",
       "Magic           219436\n",
       "Grizzlies       157683\n",
       "Raptors         158370\n",
       "Hornets          84489\n",
       "Name: pts, dtype: int64"
      ]
     },
     "execution_count": 74,
     "metadata": {},
     "output_type": "execute_result"
    }
   ],
   "source": [
    "nba.groupby(\"fran_id\", sort=False)[\"pts\"].sum()\n",
    "# Expected:\n",
    "# fran_id\n",
    "# Huskies           3995\n",
    "# Knicks          582497\n",
    "# Stags            20398\n",
    "# Falcons           3797\n",
    "# Capitols         22387"
   ]
  },
  {
   "cell_type": "markdown",
   "metadata": {},
   "source": [
    "Es sind auch mehrstufige Gruppierungen möglich. Im Beispiel unten wird pro Jahr die Anzahl der gewonnenen und verlorenen Spiele ermittelt.\n",
    "\n",
    "Sie sehen zusätzlich sehr schön wie die Abfrage vorher auf einen Zeitbereich und ein Team eingeschränkt wird."
   ]
  },
  {
   "cell_type": "code",
   "execution_count": 75,
   "metadata": {},
   "outputs": [
    {
     "data": {
      "text/plain": [
       "year_id  game_result\n",
       "2011     L              25\n",
       "         W              63\n",
       "2012     L              20\n",
       "         W              60\n",
       "2013     L              30\n",
       "         W              73\n",
       "2014     L              27\n",
       "         W              78\n",
       "2015     L              31\n",
       "         W              58\n",
       "Name: game_id, dtype: int64"
      ]
     },
     "execution_count": 75,
     "metadata": {},
     "output_type": "execute_result"
    }
   ],
   "source": [
    "nba[\n",
    "    (nba[\"fran_id\"] == \"Spurs\") &\n",
    "    (nba[\"year_id\"] > 2010)\n",
    "].groupby([\"year_id\", \"game_result\"])[\"game_id\"].count()\n",
    "# Expected:\n",
    "# year_id  game_result\n",
    "# 2011     L              25\n",
    "# W              63\n",
    "# 2012     L              20\n",
    "# W              60\n",
    "# 2013     L              30\n",
    "# W              73\n",
    "# 2014     L              27\n",
    "# W              78\n",
    "# 2015     L              31\n",
    "# W              58\n",
    "# Name: game_id, dtype: int64"
   ]
  },
  {
   "cell_type": "markdown",
   "metadata": {},
   "source": [
    "#### Aufgabe\n",
    "\n",
    "Sehen wir uns die Saison 2014-15 (year_id: 2015) der Golden State Warriors (team_id = GSW) genauer an. Wie viele Siege und Niederlagen gab es in der regulären Saison, wie viele in den Playoffs (Spalte is_playoffs)? \n"
   ]
  },
  {
   "cell_type": "code",
   "execution_count": null,
   "metadata": {},
   "outputs": [],
   "source": []
  },
  {
   "cell_type": "markdown",
   "metadata": {},
   "source": [
    "## Änderungen an DataFrames"
   ]
  },
  {
   "cell_type": "markdown",
   "metadata": {},
   "source": [
    "DataFrames können 1:1 kopiert werden."
   ]
  },
  {
   "cell_type": "code",
   "execution_count": 76,
   "metadata": {},
   "outputs": [
    {
     "data": {
      "text/plain": [
       "(126314, 24)"
      ]
     },
     "execution_count": 76,
     "metadata": {},
     "output_type": "execute_result"
    }
   ],
   "source": [
    "df = nba.copy()\n",
    "df.shape\n",
    "# Expected:\n",
    "# (126314, 24)"
   ]
  },
  {
   "cell_type": "markdown",
   "metadata": {},
   "source": [
    "### Hinzufügen neuer Spalten\n",
    "\n",
    "Hier wird die Punktdifferenz als Ergebnis einer elementweisen Subtraktion zwischen zwei Spalten in eine neue Spalte gespeichert."
   ]
  },
  {
   "cell_type": "code",
   "execution_count": 77,
   "metadata": {},
   "outputs": [
    {
     "data": {
      "text/plain": [
       "(126314, 25)"
      ]
     },
     "execution_count": 77,
     "metadata": {},
     "output_type": "execute_result"
    }
   ],
   "source": [
    "df[\"difference\"] = df.pts - df.opp_pts\n",
    "df.shape\n",
    "# Expected:\n",
    "# (126314, 25)"
   ]
  },
  {
   "cell_type": "code",
   "execution_count": 78,
   "metadata": {},
   "outputs": [
    {
     "data": {
      "text/plain": [
       "68"
      ]
     },
     "execution_count": 78,
     "metadata": {},
     "output_type": "execute_result"
    }
   ],
   "source": [
    "df[\"difference\"].max()\n",
    "# Expected:\n",
    "# 68"
   ]
  },
  {
   "cell_type": "markdown",
   "metadata": {},
   "source": [
    "### Umbenennen von Spalten\n",
    "\n",
    "Spalten können beim Kopieren von DataFrames aber auch bei bestehenden DataFrames umbenannt werden. Im letzteren Fall muss der Parameter `inplace = true` gesetzt werden."
   ]
  },
  {
   "cell_type": "code",
   "execution_count": 79,
   "metadata": {},
   "outputs": [
    {
     "name": "stdout",
     "output_type": "stream",
     "text": [
      "<class 'pandas.core.frame.DataFrame'>\n",
      "RangeIndex: 126314 entries, 0 to 126313\n",
      "Data columns (total 25 columns):\n",
      " #   Column       Non-Null Count   Dtype         \n",
      "---  ------       --------------   -----         \n",
      " 0   gameorder    126314 non-null  int64         \n",
      " 1   game_id      126314 non-null  object        \n",
      " 2   lg_id        126314 non-null  object        \n",
      " 3   _iscopy      126314 non-null  int64         \n",
      " 4   year_id      126314 non-null  int64         \n",
      " 5   date_game    126314 non-null  object        \n",
      " 6   seasongame   126314 non-null  int64         \n",
      " 7   is_playoffs  126314 non-null  int64         \n",
      " 8   team_id      126314 non-null  object        \n",
      " 9   fran_id      126314 non-null  object        \n",
      " 10  pts          126314 non-null  int64         \n",
      " 11  elo_i        126314 non-null  float64       \n",
      " 12  elo_n        126314 non-null  float64       \n",
      " 13  win_equiv    126314 non-null  float64       \n",
      " 14  opp_id       126314 non-null  object        \n",
      " 15  opp_fran     126314 non-null  object        \n",
      " 16  opp_pts      126314 non-null  int64         \n",
      " 17  opp_elo_i    126314 non-null  float64       \n",
      " 18  opp_elo_n    126314 non-null  float64       \n",
      " 19  location     126314 non-null  object        \n",
      " 20  result       126314 non-null  object        \n",
      " 21  forecast     126314 non-null  float64       \n",
      " 22  notes        5424 non-null    object        \n",
      " 23  date_played  126314 non-null  datetime64[ns]\n",
      " 24  difference   126314 non-null  int64         \n",
      "dtypes: datetime64[ns](1), float64(6), int64(8), object(10)\n",
      "memory usage: 24.1+ MB\n"
     ]
    }
   ],
   "source": [
    "renamed_df = df.rename(\n",
    "    columns={\"game_result\": \"result\", \"game_location\": \"location\"}\n",
    ")\n",
    "renamed_df.info()\n",
    "# Expected:\n",
    "# <class 'pandas.core.frame.DataFrame'>\n",
    "# RangeIndex: 126314 entries, 0 to 126313\n",
    "# Data columns (total 25 columns):\n",
    "# gameorder      126314 non-null int64\n",
    "\n",
    "# location       126314 non-null object\n",
    "# result         126314 non-null object\n",
    "# forecast       126314 non-null float64\n",
    "# notes          5424 non-null object\n",
    "# date_played    126314 non-null datetime64[ns]\n",
    "# difference     126314 non-null int64\n",
    "# dtypes: datetime64[ns](1), float64(6), int64(8), object(10)\n",
    "# memory usage: 24.1+ MB"
   ]
  },
  {
   "cell_type": "markdown",
   "metadata": {},
   "source": [
    "### Spalten löschen"
   ]
  },
  {
   "cell_type": "code",
   "execution_count": 80,
   "metadata": {},
   "outputs": [
    {
     "data": {
      "text/plain": [
       "(126314, 25)"
      ]
     },
     "execution_count": 80,
     "metadata": {},
     "output_type": "execute_result"
    }
   ],
   "source": [
    "df.shape\n",
    "# Expected:\n",
    "# (126314, 25)"
   ]
  },
  {
   "cell_type": "markdown",
   "metadata": {},
   "source": [
    "Im Beispiel wird eine Liste an zu löschenden Spalten vorbereitet. Die Funktion `drop()` löscht nun aus den Spalten (`axis=1`), direkt im DataFrame (`inplace=true`) die angegebenen Spalten.\n",
    "\n",
    "Auf die gleiche Weise können auch Zeilen aus dem DataFrame gelöscht werden. Dazu muss nur auf dem Zeilenindex (`axis=0`) und mit passender Indexliste für die Zeilen gearbeitet werden. "
   ]
  },
  {
   "cell_type": "code",
   "execution_count": 81,
   "metadata": {},
   "outputs": [
    {
     "data": {
      "text/plain": [
       "(126314, 21)"
      ]
     },
     "execution_count": 81,
     "metadata": {},
     "output_type": "execute_result"
    }
   ],
   "source": [
    "elo_columns = [\"elo_i\", \"elo_n\", \"opp_elo_i\", \"opp_elo_n\"]\n",
    "df.drop(elo_columns, inplace=True, axis=1)\n",
    "df.shape\n",
    "# Expected:\n",
    "# (126314, 21)"
   ]
  },
  {
   "cell_type": "markdown",
   "metadata": {},
   "source": [
    "### Datentyp einer Spalte ändern\n",
    "\n",
    "Der Datentyp einer Spalte kann (!) beim Initialisieren des DataFrames festgelegt werden. Wird das nicht gemacht entstehen oft Spalten mit sehr generischen Datentypen wie object. \n",
    "\n",
    "So ist in unserem Beispiel die Spalte date_game vpn Typ object obwohl dort sicher ein Datum gespeichert ist. Funktionen zum Verarbeiten von Datumswerten können hier also nicht ohne Weiteres angewendet werden. Deeswegen macht es oft Sinn diese Spalten umzuwandeln."
   ]
  },
  {
   "cell_type": "code",
   "execution_count": 82,
   "metadata": {},
   "outputs": [
    {
     "name": "stdout",
     "output_type": "stream",
     "text": [
      "<class 'pandas.core.frame.DataFrame'>\n",
      "RangeIndex: 126314 entries, 0 to 126313\n",
      "Data columns (total 21 columns):\n",
      " #   Column         Non-Null Count   Dtype         \n",
      "---  ------         --------------   -----         \n",
      " 0   gameorder      126314 non-null  int64         \n",
      " 1   game_id        126314 non-null  object        \n",
      " 2   lg_id          126314 non-null  object        \n",
      " 3   _iscopy        126314 non-null  int64         \n",
      " 4   year_id        126314 non-null  int64         \n",
      " 5   date_game      126314 non-null  object        \n",
      " 6   seasongame     126314 non-null  int64         \n",
      " 7   is_playoffs    126314 non-null  int64         \n",
      " 8   team_id        126314 non-null  object        \n",
      " 9   fran_id        126314 non-null  object        \n",
      " 10  pts            126314 non-null  int64         \n",
      " 11  win_equiv      126314 non-null  float64       \n",
      " 12  opp_id         126314 non-null  object        \n",
      " 13  opp_fran       126314 non-null  object        \n",
      " 14  opp_pts        126314 non-null  int64         \n",
      " 15  game_location  126314 non-null  object        \n",
      " 16  game_result    126314 non-null  object        \n",
      " 17  forecast       126314 non-null  float64       \n",
      " 18  notes          5424 non-null    object        \n",
      " 19  date_played    126314 non-null  datetime64[ns]\n",
      " 20  difference     126314 non-null  int64         \n",
      "dtypes: datetime64[ns](1), float64(2), int64(8), object(10)\n",
      "memory usage: 20.2+ MB\n"
     ]
    }
   ],
   "source": [
    "df.info()"
   ]
  },
  {
   "cell_type": "markdown",
   "metadata": {},
   "source": [
    "Hier wird nun die Spalte mit der Pandas Funktion `to_datetime` umgewandelt und anschließend an den vorigen Platz kopiert."
   ]
  },
  {
   "cell_type": "code",
   "execution_count": 83,
   "metadata": {},
   "outputs": [
    {
     "name": "stdout",
     "output_type": "stream",
     "text": [
      "<class 'pandas.core.frame.DataFrame'>\n",
      "RangeIndex: 126314 entries, 0 to 126313\n",
      "Data columns (total 21 columns):\n",
      " #   Column         Non-Null Count   Dtype         \n",
      "---  ------         --------------   -----         \n",
      " 0   gameorder      126314 non-null  int64         \n",
      " 1   game_id        126314 non-null  object        \n",
      " 2   lg_id          126314 non-null  object        \n",
      " 3   _iscopy        126314 non-null  int64         \n",
      " 4   year_id        126314 non-null  int64         \n",
      " 5   date_game      126314 non-null  datetime64[ns]\n",
      " 6   seasongame     126314 non-null  int64         \n",
      " 7   is_playoffs    126314 non-null  int64         \n",
      " 8   team_id        126314 non-null  object        \n",
      " 9   fran_id        126314 non-null  object        \n",
      " 10  pts            126314 non-null  int64         \n",
      " 11  win_equiv      126314 non-null  float64       \n",
      " 12  opp_id         126314 non-null  object        \n",
      " 13  opp_fran       126314 non-null  object        \n",
      " 14  opp_pts        126314 non-null  int64         \n",
      " 15  game_location  126314 non-null  object        \n",
      " 16  game_result    126314 non-null  object        \n",
      " 17  forecast       126314 non-null  float64       \n",
      " 18  notes          5424 non-null    object        \n",
      " 19  date_played    126314 non-null  datetime64[ns]\n",
      " 20  difference     126314 non-null  int64         \n",
      "dtypes: datetime64[ns](2), float64(2), int64(8), object(9)\n",
      "memory usage: 20.2+ MB\n"
     ]
    }
   ],
   "source": [
    "df[\"date_game\"] = pd.to_datetime(df[\"date_game\"])\n",
    "df.info()"
   ]
  },
  {
   "cell_type": "markdown",
   "metadata": {},
   "source": [
    "Sollten Spalten nur einige wenige unterschiedliche Werte enthalten, so handelt sich oft um kategorische Variablen. Diese sollten im entsprechenden Datentyp abgelegt sein so dass diese a) speicherschonend verarbeitet werden und b) für statistische Auswertungen passend weiterverarbeitet werden können. "
   ]
  },
  {
   "cell_type": "code",
   "execution_count": 84,
   "metadata": {},
   "outputs": [
    {
     "data": {
      "text/plain": [
       "3"
      ]
     },
     "execution_count": 84,
     "metadata": {},
     "output_type": "execute_result"
    }
   ],
   "source": [
    "df[\"game_location\"].nunique()   # Ermitteln der Anzahl der in der Spalte \"game_location\" vorkommenden Werte.\n",
    "# Expected:\n",
    "# 3"
   ]
  },
  {
   "cell_type": "code",
   "execution_count": 85,
   "metadata": {},
   "outputs": [
    {
     "data": {
      "text/plain": [
       "H    63138\n",
       "A    63138\n",
       "N       38\n",
       "Name: game_location, dtype: int64"
      ]
     },
     "execution_count": 85,
     "metadata": {},
     "output_type": "execute_result"
    }
   ],
   "source": [
    "df[\"game_location\"].value_counts()   # Zählen, wie oft jeder Wert vorkommt.\n",
    "# Expected:\n",
    "# A    63138\n",
    "# H    63138\n",
    "# N       38\n",
    "# Name: game_location, dtype: int64"
   ]
  },
  {
   "cell_type": "code",
   "execution_count": 86,
   "metadata": {},
   "outputs": [
    {
     "data": {
      "text/plain": [
       "CategoricalDtype(categories=['A', 'H', 'N'], ordered=False)"
      ]
     },
     "execution_count": 86,
     "metadata": {},
     "output_type": "execute_result"
    }
   ],
   "source": [
    "df[\"game_location\"] = pd.Categorical(df[\"game_location\"])\n",
    "df[\"game_location\"].dtype\n",
    "# Expected:\n",
    "# CategoricalDtype(categories=['A', 'H', 'N'], ordered=False)"
   ]
  },
  {
   "cell_type": "markdown",
   "metadata": {},
   "source": [
    "## Visualisierungen mit Pandas\n",
    "In Pandas sind einige Visualisierungsfunktionalitäten direkt eingebaut und können über die Funktion `plot()` direkt aufgerufen werden."
   ]
  },
  {
   "cell_type": "markdown",
   "metadata": {},
   "source": [
    "Hier wird die Summe der erzielten Punkte pro Jahr (--> `groupby`) für die New York Knicks ermittelt. Das Ergebnis ist eine Pandas Series die sich ein einem Liniendiagramm visualisieren lässt."
   ]
  },
  {
   "cell_type": "code",
   "execution_count": 87,
   "metadata": {},
   "outputs": [
    {
     "data": {
      "text/plain": [
       "<AxesSubplot:xlabel='year_id'>"
      ]
     },
     "execution_count": 87,
     "metadata": {},
     "output_type": "execute_result"
    },
    {
     "data": {
      "image/png": "[encoded data removed]",
      "text/plain": [
       "<Figure size 640x480 with 1 Axes>"
      ]
     },
     "metadata": {},
     "output_type": "display_data"
    }
   ],
   "source": [
    "nba[nba[\"fran_id\"] == \"Knicks\"].groupby(\"year_id\")[\"pts\"].sum().plot()"
   ]
  },
  {
   "cell_type": "markdown",
   "metadata": {},
   "source": [
    "Die Funktion `value_counts()` liefert für eine Series die Anzahl der eindeutigen Werte zurück. Die zehn häufigsten Werte werden nun per Säulendiagramm visualisiert."
   ]
  },
  {
   "cell_type": "code",
   "execution_count": 88,
   "metadata": {},
   "outputs": [
    {
     "data": {
      "text/plain": [
       "<AxesSubplot:>"
      ]
     },
     "execution_count": 88,
     "metadata": {},
     "output_type": "execute_result"
    },
    {
     "data": {
      "image/png": "[encoded data removed]",
      "text/plain": [
       "<Figure size 640x480 with 1 Axes>"
      ]
     },
     "metadata": {},
     "output_type": "display_data"
    }
   ],
   "source": [
    "nba[\"fran_id\"].value_counts().head(10).plot(kind=\"bar\")"
   ]
  },
  {
   "cell_type": "markdown",
   "metadata": {},
   "source": [
    "#### Aufgabe\n",
    "\n",
    "Im Jahr 2013 haben die Miami Heats (fran_id = Heat) die Meisterschaft gewonnen. Erzeugen Sie ein Kuchendiagramm (= Pie) das die Anzahl der Siege und Niederlagen in dieser Saison zeigt. \n"
   ]
  },
  {
   "cell_type": "code",
   "execution_count": null,
   "metadata": {},
   "outputs": [],
   "source": []
  }
 ],
 "metadata": {
  "kernelspec": {
   "display_name": "Python 3 (ipykernel)",
   "language": "python",
   "name": "python3"
  },
  "language": "python",
  "language_info": {
   "codemirror_mode": {
    "name": "ipython",
    "version": 3
   },
   "file_extension": ".py",
   "mimetype": "text/x-python",
   "name": "python",
   "nbconvert_exporter": "python",
   "pygments_lexer": "ipython3",
   "version": "3.8.8"
  }
 },
 "nbformat": 4,
 "nbformat_minor": 4
}
