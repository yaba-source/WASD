{
 "cells": [
  {
   "cell_type": "markdown",
   "id": "e4d6a28b",
   "metadata": {},
   "source": [
    "# P9 Vorlage: Machine Learning (Teil 1)"
   ]
  },
  {
   "cell_type": "markdown",
   "id": "7ad86328",
   "metadata": {},
   "source": [
    "In diesem Versuch entwickeln und testen Sie verschiedene Systeme zur Klassifikation von\n",
    "Daten in Python mittels Scikit-Learn. Das Datenmaterial basiert auf zwei Merkmalen und ist kategorisiert in zwei\n",
    "Klassen. Die Daten stehen Ihnen im beiliegenden CSV-File database.csv zur Verfügung.\n",
    "Der Einfachheit halber werden in diesem Versuch die Klassen als „Klasse 0“ bzw. „Klasse\n",
    "1“ und die Merkmale als „Merkmal A“ bzw. „Merkmal B“ bezeichnet."
   ]
  },
  {
   "cell_type": "markdown",
   "id": "d2e6af5e",
   "metadata": {},
   "source": [
    "Lesen Sie die Daten aus dem CSV-File in Python ein. Dies lässt sich am einfachsten\n",
    "mittels Pandas bewerkstelligen, wie im nachfolgenden Codeausschnitt\n",
    "dargestellt."
   ]
  },
  {
   "cell_type": "code",
   "execution_count": 1,
   "id": "78d080e8",
   "metadata": {},
   "outputs": [],
   "source": [
    "# Einlesen der Daten aus dem CSV-File:\n",
    "import pandas as pd                 # Importieren der Bibliothek\n",
    "data = pd.read_csv(\"database.csv\")  # Einlesen des Files\n",
    "X = data.values[:,0:2]              # Merkmalswerte\n",
    "y = data.values[:,2]                # Klassenwerte"
   ]
  },
  {
   "cell_type": "markdown",
   "id": "5c741924",
   "metadata": {},
   "source": [
    "<u>Info:</u> Nach dem Einlesen des CSV-Files mittels pd.read_csv() liegt die Datenbank als Pandas DataFrame\n",
    "(hier mit dem Namen data) vor. Die Daten selbst liegen in data.values. Die letzten beiden Zeilen des\n",
    "Codeausschnitts dienen der Umwandlung des DataFrames in Numpy-Arrays (Merkmalswerte X und Klassen y)."
   ]
  },
  {
   "cell_type": "markdown",
   "id": "cad0a1a9",
   "metadata": {},
   "source": [
    "Visualisieren Sie den Datenbestand in Form eines Streudiagramms oder einer Scattermatix."
   ]
  },
  {
   "cell_type": "code",
   "execution_count": null,
   "id": "900a567a",
   "metadata": {},
   "outputs": [],
   "source": []
  },
  {
   "cell_type": "markdown",
   "id": "2de62561",
   "metadata": {},
   "source": [
    "Unterteilen Sie den Datenbestand in Trainings- und Testdaten. Verwenden Sie die\n",
    "Trainingsdaten nur zum trainieren der Klassifikatoren und die Testdaten nur zum\n",
    "testen."
   ]
  },
  {
   "cell_type": "code",
   "execution_count": null,
   "id": "18e3e417",
   "metadata": {},
   "outputs": [],
   "source": []
  },
  {
   "cell_type": "markdown",
   "id": "4e6294e5",
   "metadata": {},
   "source": [
    "Erzeugen und trainieren Sie mehrere Klassifikatoren (k-Nearest-Neighbors, SVM mit Kernel, Entscheidungsbaum). Überlegen\n",
    "Sie sich, welcher dieser Klassifikatoren für die vorliegende Aufgabe überhaupt Sinn\n",
    "macht. Vergleichen Sie die Klassifikationsergebnisse der unterschiedlichen Klassifikatoren.\n",
    "Visualisieren Sie die Entscheidungsbereiche der jeweiligen Klassifikatoren im\n",
    "Merkmalsraum (hierzu können Sie die in der nächsten Zelle implementierte Funktion plot_2d_seperator() verwenden) und interpretieren Sie die Diagramme. Überlegen Sie sich (sofern praktikabel) sinnvolle Parameterwerte zur Regularisierung\n",
    "der jeweiligen Klassifikatoren und spielen Sie mit den Parameterwerten."
   ]
  },
  {
   "cell_type": "code",
   "execution_count": 2,
   "id": "690ecb02",
   "metadata": {},
   "outputs": [],
   "source": [
    "# plot_2d_seperator: Funktion zum Visualisieren der Entscheidungsgrenzen von 2D-Classifiern\n",
    "#\n",
    "# Eingabeparameter: \n",
    "#  - clf: Instanz des Klassifikators -> bspw.: clf = nc (für nc = NearestCentroid())\n",
    "#  - X: Merkmalsmatrix\n",
    "#  - y: Klassenvektor\n",
    "\n",
    "# Darstellen der Entscheidungsgrenzen eines 2D-Classifiers (Code von hier: https://scikit-learn.org/stable/auto_examples/neighbors/plot_classification.html#sphx-glr-auto-examples-neighbors-plot-classification-py):\n",
    "def plot_2d_seperator(clf, X, y):\n",
    "    from matplotlib.colors import ListedColormap\n",
    "    import numpy as np\n",
    "    import matplotlib.pyplot as plt\n",
    "    cmap_light = ListedColormap(['#FFAAAA', '#AAFFAA', '#AAAAFF'])\n",
    "    cmap_bold = ListedColormap(['#FF0000', '#00FF00', '#0000FF'])\n",
    "    h = .02  # step size in the mesh\n",
    "    x1_min, x1_max = X[:, 0].min() - 1, X[:, 0].max() + 1\n",
    "    x2_min, x2_max = X[:, 1].min() - 1, X[:, 1].max() + 1\n",
    "    xx1, xx2 = np.meshgrid(np.arange(x1_min, x1_max, h), np.arange(x2_min, x2_max, h))\n",
    "    Y_pred = clf.predict(np.c_[xx1.ravel(), xx2.ravel()])\n",
    "    Y_pred = Y_pred.reshape(xx1.shape)\n",
    "#    plt.figure()\n",
    "    plt.pcolormesh(xx1, xx2, Y_pred, cmap=cmap_light, shading='auto')\n",
    "    plt.scatter(X[:, 0], X[:, 1], c=y, cmap=cmap_bold, edgecolor='k', s=20)    \n",
    "    plt.xlabel('Merkmal A')\n",
    "    plt.ylabel('Merkmal B')"
   ]
  },
  {
   "cell_type": "code",
   "execution_count": 3,
   "id": "e86e0df4",
   "metadata": {},
   "outputs": [],
   "source": [
    "# k-Nearest-Neighbors:\n"
   ]
  },
  {
   "cell_type": "code",
   "execution_count": 4,
   "id": "c57353c6",
   "metadata": {},
   "outputs": [],
   "source": [
    "# SVM mit Kernel:\n"
   ]
  },
  {
   "cell_type": "code",
   "execution_count": 5,
   "id": "f843a376",
   "metadata": {},
   "outputs": [],
   "source": [
    "# Entscheidungsbaum:\n"
   ]
  }
 ],
 "metadata": {
  "kernelspec": {
   "display_name": "Python 3 (ipykernel)",
   "language": "python",
   "name": "python3"
  },
  "language_info": {
   "codemirror_mode": {
    "name": "ipython",
    "version": 3
   },
   "file_extension": ".py",
   "mimetype": "text/x-python",
   "name": "python",
   "nbconvert_exporter": "python",
   "pygments_lexer": "ipython3",
   "version": "3.8.8"
  }
 },
 "nbformat": 4,
 "nbformat_minor": 5
}
