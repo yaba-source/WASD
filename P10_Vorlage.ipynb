{
 "cells": [
  {
   "cell_type": "markdown",
   "id": "e4d6a28b",
   "metadata": {},
   "source": [
    "# P10 Vorlage: Machine Learning (Teil 2)"
   ]
  },
  {
   "cell_type": "markdown",
   "id": "7ad86328",
   "metadata": {},
   "source": [
    "## Einleitung"
   ]
  },
  {
   "cell_type": "markdown",
   "id": "d2e6af5e",
   "metadata": {},
   "source": [
    "Zur Überwachung von Vital- und Bewegungsparametern wurde der Körper\n",
    "von Menschen mit verschiedenen Sensoren ausgestattet. Diese senden über ein drahtloses\n",
    "Sensornetz alle fünf Sekunden ihre Daten an einen zentralen Rechner, wo die Daten ausgewertet\n",
    "werden sollen. Wir wollen versuchen, anhand der Daten herauszufinden, welcher\n",
    "Aktivität die Person aktuell nachgeht. Hierbei sollen folgende Aktivitäten (= Klassen) unterschieden\n",
    "werden (mit angegeben ist die Klassen-Nummerierung):\n",
    "- Liegen (0)\n",
    "- Sitzen (1)\n",
    "- Stehen (2)\n",
    "- Gehen (3)\n",
    "- Laufen (4)\n",
    "- Radfahren (5)\n",
    "\n",
    "Die Sensoren liefern hierzu folgende Bewegungs- und Vitalparameter (alle gemittelt über\n",
    "jeweils fünf Sekunden):\n",
    "- v_x: Geschwindigkeit in x-Richtung (horizontal)\n",
    "- v_y: Geschwindigkeit in y-Richtung (vertikal)\n",
    "- a_abs_x: Betrag der Beschleunigung in x-Richtung\n",
    "- a_abs_y: Betrag der Beschleunigung in y-Richtung\n",
    "- a_var_x: Varianz der Beschleunigung in x-Richtung\n",
    "- a_var_y: Varianz der Beschleunigung in y-Richtung\n",
    "- heart_rate: Herzschlag\n",
    "- body_temp: Körpertemperatur\n",
    "- blood_pressure_low: Blutdruck (diastolischer Wert)\n",
    "- blood_pressure_high: Blutdruck (systolischer Wert)\n",
    "- age: Alter, unterteilt in die drei Größenordnungen „young“, „middle“ und „old“\n",
    "\n",
    "Eine Datenbank zum Trainieren unseres Systems liegt in der Datei database_training.csv\n",
    "vor."
   ]
  },
  {
   "cell_type": "markdown",
   "id": "c1f036be",
   "metadata": {},
   "source": [
    "## Vorgehensweise"
   ]
  },
  {
   "cell_type": "markdown",
   "id": "46ec1874",
   "metadata": {},
   "source": [
    "Lesen Sie die Daten der CSV-Datei durch die Verwendung einer geeigneten Pandas-Funktion ein."
   ]
  },
  {
   "cell_type": "code",
   "execution_count": 1,
   "id": "526a019f",
   "metadata": {},
   "outputs": [],
   "source": [
    "import pandas as pd\n",
    "dataframe = pd.read_csv('database_training.csv')  # Einlesen der Daten im CSV-File in ein Pandas-DataFrame"
   ]
  },
  {
   "cell_type": "markdown",
   "id": "7e2916fd",
   "metadata": {},
   "source": [
    "In dem nun vorliegenden DataFrame liegen die Daten der Merkmale (nach oben aufgeführter\n",
    "Sortierung) zusammen mit ihren Zielgrößen (Klassenlabels) vor, wie nachfolgend sichtbar."
   ]
  },
  {
   "cell_type": "code",
   "execution_count": 2,
   "id": "8676cb64",
   "metadata": {},
   "outputs": [
    {
     "data": {
      "text/html": [
       "<div>\n",
       "<style scoped>\n",
       "    .dataframe tbody tr th:only-of-type {\n",
       "        vertical-align: middle;\n",
       "    }\n",
       "\n",
       "    .dataframe tbody tr th {\n",
       "        vertical-align: top;\n",
       "    }\n",
       "\n",
       "    .dataframe thead th {\n",
       "        text-align: right;\n",
       "    }\n",
       "</style>\n",
       "<table border=\"1\" class=\"dataframe\">\n",
       "  <thead>\n",
       "    <tr style=\"text-align: right;\">\n",
       "      <th></th>\n",
       "      <th>Unnamed: 0</th>\n",
       "      <th>v_x</th>\n",
       "      <th>v_y</th>\n",
       "      <th>a_abs_x</th>\n",
       "      <th>a_abs_y</th>\n",
       "      <th>a_var_x</th>\n",
       "      <th>a_var_y</th>\n",
       "      <th>heart_rate</th>\n",
       "      <th>body_temp</th>\n",
       "      <th>blood_pressure_low</th>\n",
       "      <th>blood_pressure_high</th>\n",
       "      <th>age</th>\n",
       "      <th>label</th>\n",
       "    </tr>\n",
       "  </thead>\n",
       "  <tbody>\n",
       "    <tr>\n",
       "      <th>0</th>\n",
       "      <td>0</td>\n",
       "      <td>0.018499</td>\n",
       "      <td>0.064238</td>\n",
       "      <td>9.901068</td>\n",
       "      <td>0.037793</td>\n",
       "      <td>0.011977</td>\n",
       "      <td>0.058820</td>\n",
       "      <td>69.374172</td>\n",
       "      <td>36.573928</td>\n",
       "      <td>81.386801</td>\n",
       "      <td>125.831797</td>\n",
       "      <td>middle</td>\n",
       "      <td>0.0</td>\n",
       "    </tr>\n",
       "    <tr>\n",
       "      <th>1</th>\n",
       "      <td>1</td>\n",
       "      <td>0.072561</td>\n",
       "      <td>0.040411</td>\n",
       "      <td>9.788648</td>\n",
       "      <td>0.049675</td>\n",
       "      <td>0.093034</td>\n",
       "      <td>0.088790</td>\n",
       "      <td>72.853029</td>\n",
       "      <td>36.669077</td>\n",
       "      <td>74.027770</td>\n",
       "      <td>118.544641</td>\n",
       "      <td>young</td>\n",
       "      <td>0.0</td>\n",
       "    </tr>\n",
       "    <tr>\n",
       "      <th>2</th>\n",
       "      <td>2</td>\n",
       "      <td>0.017227</td>\n",
       "      <td>0.002426</td>\n",
       "      <td>9.751765</td>\n",
       "      <td>0.010925</td>\n",
       "      <td>0.091010</td>\n",
       "      <td>0.065621</td>\n",
       "      <td>70.348332</td>\n",
       "      <td>37.381143</td>\n",
       "      <td>78.797816</td>\n",
       "      <td>121.596693</td>\n",
       "      <td>middle</td>\n",
       "      <td>0.0</td>\n",
       "    </tr>\n",
       "    <tr>\n",
       "      <th>3</th>\n",
       "      <td>3</td>\n",
       "      <td>0.076551</td>\n",
       "      <td>0.007210</td>\n",
       "      <td>9.740146</td>\n",
       "      <td>0.021282</td>\n",
       "      <td>0.074918</td>\n",
       "      <td>0.047278</td>\n",
       "      <td>69.425905</td>\n",
       "      <td>36.830309</td>\n",
       "      <td>79.813959</td>\n",
       "      <td>123.849766</td>\n",
       "      <td>middle</td>\n",
       "      <td>0.0</td>\n",
       "    </tr>\n",
       "    <tr>\n",
       "      <th>4</th>\n",
       "      <td>4</td>\n",
       "      <td>0.040701</td>\n",
       "      <td>0.009288</td>\n",
       "      <td>9.853633</td>\n",
       "      <td>0.021192</td>\n",
       "      <td>0.076053</td>\n",
       "      <td>0.030555</td>\n",
       "      <td>72.691210</td>\n",
       "      <td>37.298334</td>\n",
       "      <td>71.851608</td>\n",
       "      <td>114.497185</td>\n",
       "      <td>young</td>\n",
       "      <td>0.0</td>\n",
       "    </tr>\n",
       "  </tbody>\n",
       "</table>\n",
       "</div>"
      ],
      "text/plain": [
       "   Unnamed: 0       v_x       v_y   a_abs_x   a_abs_y   a_var_x   a_var_y  \\\n",
       "0           0  0.018499  0.064238  9.901068  0.037793  0.011977  0.058820   \n",
       "1           1  0.072561  0.040411  9.788648  0.049675  0.093034  0.088790   \n",
       "2           2  0.017227  0.002426  9.751765  0.010925  0.091010  0.065621   \n",
       "3           3  0.076551  0.007210  9.740146  0.021282  0.074918  0.047278   \n",
       "4           4  0.040701  0.009288  9.853633  0.021192  0.076053  0.030555   \n",
       "\n",
       "   heart_rate  body_temp  blood_pressure_low  blood_pressure_high     age  \\\n",
       "0   69.374172  36.573928           81.386801           125.831797  middle   \n",
       "1   72.853029  36.669077           74.027770           118.544641   young   \n",
       "2   70.348332  37.381143           78.797816           121.596693  middle   \n",
       "3   69.425905  36.830309           79.813959           123.849766  middle   \n",
       "4   72.691210  37.298334           71.851608           114.497185   young   \n",
       "\n",
       "   label  \n",
       "0    0.0  \n",
       "1    0.0  \n",
       "2    0.0  \n",
       "3    0.0  \n",
       "4    0.0  "
      ]
     },
     "execution_count": 2,
     "metadata": {},
     "output_type": "execute_result"
    }
   ],
   "source": [
    "dataframe.head()"
   ]
  },
  {
   "cell_type": "markdown",
   "id": "f426277b",
   "metadata": {},
   "source": [
    "Unterteilen Sie nun die Datenbank in eine Matrix mit Merkmalswerten und einen\n",
    "Vektor mit Klassenlabels. Sie können auf die entsprechenden Spalten des\n",
    "DataFrames wie gewohnt zugreifen:"
   ]
  },
  {
   "cell_type": "code",
   "execution_count": 3,
   "id": "0d119c64",
   "metadata": {},
   "outputs": [],
   "source": [
    "features = dataframe.loc[:,'v_x':'age']         # Auswahl der Merkamle aus dem DataFrame\n",
    "labels = dataframe.loc[:,\"label\"]"
   ]
  },
  {
   "cell_type": "markdown",
   "id": "14604241",
   "metadata": {},
   "source": [
    "Lassen Sie sich mittels head()-Funktion die ersten paar Zeilen des DataFrames ausgeben."
   ]
  },
  {
   "cell_type": "code",
   "execution_count": null,
   "id": "f42a4d9c",
   "metadata": {},
   "outputs": [],
   "source": []
  },
  {
   "cell_type": "markdown",
   "id": "499e9d02",
   "metadata": {},
   "source": [
    "Wie oben bereits angemerkt, liegt das Merkmal \"age\" nicht als kontinuierliche Variable (also als eine einfache Angabe des Alters in Jahren) vor, sondern als sog. kategorische Variable mit den Werten \"young\", \"middle\" und \"old\". Ein Trainieren eines Systems mit diesen kategorischen Werten ist nicht (ohne Weiteres) möglich. Löschen Sie daher die Spalte \"age\" aus dem DataFrame. Überprüfen Sie dies, indem Sie sich erneut mittels head() die ersten paar Zeilen anzeigen lassen."
   ]
  },
  {
   "cell_type": "code",
   "execution_count": null,
   "id": "07fb07c6",
   "metadata": {},
   "outputs": [],
   "source": []
  },
  {
   "cell_type": "markdown",
   "id": "6024e31b",
   "metadata": {},
   "source": [
    "Machen Sie sich mit den Daten vertraut, indem Sie die Merkmalsmatrix visualisieren und begutachten. Da der Datenbestand einige Merkmale beinhaltet, bietet sich eine Scattermatrix an. Versuchen Sie möglichst viel Erkenntnisse über die Daten aus dieser Visualisierung zu ziehen. Was können Sie erkennen?"
   ]
  },
  {
   "cell_type": "code",
   "execution_count": null,
   "id": "c322a4e9",
   "metadata": {},
   "outputs": [],
   "source": []
  },
  {
   "cell_type": "markdown",
   "id": "5b6ff7a9",
   "metadata": {},
   "source": [
    "Legen Sie nun die Werte der Merkmalsmatrix in einem Numpy-Array X und\n",
    "die Klassenlabels in einem Numpy-Array y ab, indem Sie das values-Attribut verwenden (siehe auch Versuch P9)."
   ]
  },
  {
   "cell_type": "code",
   "execution_count": null,
   "id": "e2d21c72",
   "metadata": {},
   "outputs": [],
   "source": []
  },
  {
   "cell_type": "markdown",
   "id": "a7bfcc95",
   "metadata": {},
   "source": [
    "Unterteilen Sie den Datenbestand in Trainings- und Testdaten."
   ]
  },
  {
   "cell_type": "code",
   "execution_count": null,
   "id": "93a9cd62",
   "metadata": {},
   "outputs": [],
   "source": []
  },
  {
   "cell_type": "markdown",
   "id": "6f0df22f",
   "metadata": {},
   "source": [
    "Entscheiden Sie sich für ein Klassifikationsmodell und trainieren Sie dieses."
   ]
  },
  {
   "cell_type": "code",
   "execution_count": null,
   "id": "ac7e03e1",
   "metadata": {},
   "outputs": [],
   "source": []
  },
  {
   "cell_type": "markdown",
   "id": "68ef0e0c",
   "metadata": {},
   "source": [
    "Ermitteln Sie die Erfolgsquote auf den Trainings- und Testdaten sowie die Konfusionsmatrix auf den Testdaten und interpretieren Sie die Ergebnisse. Stellen Sie sicher, dass es nicht zu Overfitting kommt. "
   ]
  },
  {
   "cell_type": "code",
   "execution_count": null,
   "id": "eaee0e5a",
   "metadata": {},
   "outputs": [],
   "source": []
  },
  {
   "cell_type": "markdown",
   "id": "5b23c78c",
   "metadata": {},
   "source": [
    "Wenn Sie mit dem Ergebnis unzufrieden sind, entscheiden Sie sich für einen anderen\n",
    "Klassifikator oder ändern Sie die Parameter des Modells, bis das Ergebnis für Sie zufriedenstellend erscheint."
   ]
  },
  {
   "cell_type": "code",
   "execution_count": null,
   "id": "b4b2e81b",
   "metadata": {},
   "outputs": [],
   "source": []
  }
 ],
 "metadata": {
  "kernelspec": {
   "display_name": "Python 3 (ipykernel)",
   "language": "python",
   "name": "python3"
  },
  "language_info": {
   "codemirror_mode": {
    "name": "ipython",
    "version": 3
   },
   "file_extension": ".py",
   "mimetype": "text/x-python",
   "name": "python",
   "nbconvert_exporter": "python",
   "pygments_lexer": "ipython3",
   "version": "3.8.8"
  }
 },
 "nbformat": 4,
 "nbformat_minor": 5
}
