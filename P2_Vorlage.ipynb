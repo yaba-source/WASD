{
 "cells": [
  {
   "cell_type": "markdown",
   "id": "587bbd8e",
   "metadata": {},
   "source": [
    "# P2 Vorlage: Statistische Kennzahlen"
   ]
  },
  {
   "cell_type": "code",
   "execution_count": null,
   "id": "66d41ca5",
   "metadata": {},
   "outputs": [],
   "source": []
  },
  {
   "cell_type": "markdown",
   "id": "f95470a9",
   "metadata": {},
   "source": [
    "Dieser Praktikumsversuch dreht sich um die Python-basierte Ermittlung statistischer Kennzahlen. "
   ]
  },
  {
   "cell_type": "markdown",
   "id": "bfadd8e3",
   "metadata": {},
   "source": [
    "Wir gehen davon aus, dass uns die Daten einer Stichprobe in zwei Vektoren vorliegen. Der Einfachheit halber erzeugen wir die Daten künstlich innerhalb des Python-Scripts. Nichtsdestotrotz möchten wir annehmen, dass wir 100 Menschen nach ihrem Alter (age) und ihrem Jahreseinkommen (income) gefragt haben. \n",
    "\n",
    "Um die Daten zu erzeugen machen wir von einem Zufallszahlengenerator gebrauch. Damit aber jedes mal die selben (pseudo-zufälligen) Zahlen vom Zufallszahlengenerator ausgegeben werden, kann man einen sog. Random-Seed vorgeben."
   ]
  },
  {
   "cell_type": "code",
   "execution_count": 2,
   "id": "2e88e6ba",
   "metadata": {},
   "outputs": [],
   "source": [
    "# Daten generieren:\n",
    "import numpy as np\n",
    "np.random.seed(1)                      # Random-Seed angeben (für reproduzierbare Zufallszahlen)          \n",
    "age = np.random.randint(18,67,100)                                  # Zufallsvektor: Representiert das Alter von 100 befragten Personen\n",
    "income = abs(np.round(age*12000 + 170000*np.random.randn(100) + 10000))  # Zufallsvektor: Representiert das Jahresgehalt von 100 befragten Personen"
   ]
  },
  {
   "cell_type": "markdown",
   "id": "fa5df9af",
   "metadata": {},
   "source": [
    "Ermitteln Sie zunächst das durchschnittliche Alter sowie das durschnittliche Jahreseinkommen der Befragten."
   ]
  },
  {
   "cell_type": "code",
   "execution_count": 4,
   "id": "178058d8",
   "metadata": {},
   "outputs": [
    {
     "name": "stdout",
     "output_type": "stream",
     "text": [
      "Das durchschnittliche Alter der befragten Personen beträgt:  38.97\n",
      "Das duchschnittliche Einkommen der personen ist : 519288.07\n"
     ]
    }
   ],
   "source": [
    "avg_age= np.mean(age)\n",
    "print (\"Das durchschnittliche Alter der befragten Personen beträgt: \", avg_age)\n",
    "avg_income= np.mean(income)\n",
    "print('Das duchschnittliche Einkommen der personen ist :', avg_income)"
   ]
  },
  {
   "cell_type": "markdown",
   "id": "580098ca",
   "metadata": {},
   "source": [
    "Wie hoch ist unter allen Befragten das niedrigste Einkommen und wie alt ist die Person, die dieses Einkommen erhält?\n",
    "\n",
    "<u>Tipp:</u> Finden Sie hierzu heraus, wie die np.argmin()-Funktion funktioniert."
   ]
  },
  {
   "cell_type": "code",
   "execution_count": 5,
   "id": "ad1c85ea",
   "metadata": {},
   "outputs": [
    {
     "name": "stdout",
     "output_type": "stream",
     "text": [
      "51\n"
     ]
    }
   ],
   "source": [
    "min=np.argmin(income)\n",
    "print(min)"
   ]
  },
  {
   "cell_type": "markdown",
   "id": "d4cd1a16",
   "metadata": {},
   "source": [
    "Ermitteln Sie nun für das Alter die folgenden statistischen Kennzahlen:\n",
    "- Median\n",
    "- Stichprobenvarianz\n",
    "- Standardabweichung\n",
    "- Variationskoeffizient\n",
    "- Quartilsabstand"
   ]
  },
  {
   "cell_type": "code",
   "execution_count": 9,
   "id": "d2c48606",
   "metadata": {},
   "outputs": [
    {
     "name": "stdout",
     "output_type": "stream",
     "text": [
      "39.5\n",
      "183.3491\n",
      "13.608861492098121\n"
     ]
    }
   ],
   "source": [
    "med_age=np.median(age)\n",
    "print(med_age)\n",
    "var=np.var(age)\n",
    "print(var)\n",
    "s= np.std(age,ddof=1)\n",
    "print(s)"
   ]
  },
  {
   "cell_type": "markdown",
   "id": "b1094d7d",
   "metadata": {},
   "source": [
    "Berechnen Sie die Standardabweichung des Alters durch direkte Implemntierung der Formel und ohne Verwendung der entsprechenden NumPy-Funktion. Vergfleichen Sie das Ergebnis mit der oben durch die Funktion ermittelten Standardabweichung."
   ]
  },
  {
   "cell_type": "code",
   "execution_count": 10,
   "id": "d441bc7d",
   "metadata": {},
   "outputs": [
    {
     "name": "stdout",
     "output_type": "stream",
     "text": [
      "13.608861492098121\n"
     ]
    }
   ],
   "source": [
    "n= age.size\n",
    "mean_age = age.mean()\n",
    "var_manual = ((age - mean_age) ** 2).sum() / (n - 1)   # Stichprobenvarianz\n",
    "s_manual = np.sqrt(var_manual)\n",
    "\n",
    "print(s_manual)"
   ]
  },
  {
   "cell_type": "markdown",
   "id": "1043ccc9",
   "metadata": {},
   "source": [
    "Es ist davon auszugehen, dass Alter und Einkommen positiv korrelieren (d.h. wert älter ist verdient meist auch mehr). Dies wollen wir nun mit Hilfe der uns vorliegenden Daten bestätigen. Überprüfen Sie die Vermutung, indem Sie den Bravais-Pearson-Korrelationskoeffizient zwischen Alter und dem Einkommen berechnen. Interpretieren Sie das Ergebnis."
   ]
  },
  {
   "cell_type": "code",
   "execution_count": 13,
   "id": "44176cb2",
   "metadata": {},
   "outputs": [
    {
     "name": "stdout",
     "output_type": "stream",
     "text": [
      "0.7049470354067132\n",
      "Da das Vorzeichen postiv ist besteht eine positive Korrelation zwischen Alter und Einkommen. \n"
     ]
    }
   ],
   "source": [
    "r = np.corrcoef(age, income)[0, 1]\n",
    "print (r)\n",
    "print(\"Da das Vorzeichen postiv ist besteht eine positive Korrelation zwischen Alter und Einkommen. \")"
   ]
  },
  {
   "cell_type": "markdown",
   "id": "2d99d718",
   "metadata": {},
   "source": []
  }
 ],
 "metadata": {
  "kernelspec": {
   "display_name": "Python 3",
   "language": "python",
   "name": "python3"
  },
  "language_info": {
   "codemirror_mode": {
    "name": "ipython",
    "version": 3
   },
   "file_extension": ".py",
   "mimetype": "text/x-python",
   "name": "python",
   "nbconvert_exporter": "python",
   "pygments_lexer": "ipython3",
   "version": "3.12.1"
  }
 },
 "nbformat": 4,
 "nbformat_minor": 5
}
